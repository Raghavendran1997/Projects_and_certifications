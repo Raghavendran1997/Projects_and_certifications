{
 "cells": [
  {
   "cell_type": "markdown",
   "id": "1a0cd348",
   "metadata": {},
   "source": [
    "# ANALYSIS OF CUSTOMER PURCHASE BEHAVIOUR FOR A CHAIN OF HYPERMARKETS "
   ]
  },
  {
   "cell_type": "markdown",
   "id": "4da3247f",
   "metadata": {},
   "source": [
    "Walmart is an American multinational retail corporation that operates a chain of supercenters, discount departmental stores, and grocery stores from the United States. Walmart has more than 100 million customers worldwide."
   ]
  },
  {
   "cell_type": "markdown",
   "id": "4481ba7b",
   "metadata": {},
   "source": [
    "# BUSINESS PROBLEM"
   ]
  },
  {
   "cell_type": "markdown",
   "id": "16dde5bb",
   "metadata": {},
   "source": [
    "The Management team at Walmart Inc. wants to analyze the customer purchase behavior (specifically, purchase amount) against the customer’s gender and the various other factors to help the business make better decisions. They want to understand if the spending habits differ between male and female customers: Do women spend more on Black Friday than men? (Assume 50 million customers are male and 50 million are female)."
   ]
  },
  {
   "cell_type": "markdown",
   "id": "1eb377c8",
   "metadata": {},
   "source": [
    "# DATASET"
   ]
  },
  {
   "cell_type": "code",
   "execution_count": 43,
   "id": "97451ad4",
   "metadata": {},
   "outputs": [],
   "source": [
    "import numpy as np\n",
    "import pandas as pd\n",
    "import seaborn as sns\n",
    "import matplotlib.pyplot as plt\n",
    "from scipy.stats import norm"
   ]
  },
  {
   "cell_type": "code",
   "execution_count": 3,
   "id": "58a43600",
   "metadata": {},
   "outputs": [],
   "source": [
    "data = pd.read_csv(\"walmart_data.csv\")"
   ]
  },
  {
   "cell_type": "code",
   "execution_count": 4,
   "id": "77170211",
   "metadata": {},
   "outputs": [
    {
     "data": {
      "text/html": [
       "<div>\n",
       "<style scoped>\n",
       "    .dataframe tbody tr th:only-of-type {\n",
       "        vertical-align: middle;\n",
       "    }\n",
       "\n",
       "    .dataframe tbody tr th {\n",
       "        vertical-align: top;\n",
       "    }\n",
       "\n",
       "    .dataframe thead th {\n",
       "        text-align: right;\n",
       "    }\n",
       "</style>\n",
       "<table border=\"1\" class=\"dataframe\">\n",
       "  <thead>\n",
       "    <tr style=\"text-align: right;\">\n",
       "      <th></th>\n",
       "      <th>User_ID</th>\n",
       "      <th>Product_ID</th>\n",
       "      <th>Gender</th>\n",
       "      <th>Age</th>\n",
       "      <th>Occupation</th>\n",
       "      <th>City_Category</th>\n",
       "      <th>Stay_In_Current_City_Years</th>\n",
       "      <th>Marital_Status</th>\n",
       "      <th>Product_Category</th>\n",
       "      <th>Purchase</th>\n",
       "    </tr>\n",
       "  </thead>\n",
       "  <tbody>\n",
       "    <tr>\n",
       "      <th>0</th>\n",
       "      <td>1000001</td>\n",
       "      <td>P00069042</td>\n",
       "      <td>F</td>\n",
       "      <td>0-17</td>\n",
       "      <td>10</td>\n",
       "      <td>A</td>\n",
       "      <td>2</td>\n",
       "      <td>0</td>\n",
       "      <td>3</td>\n",
       "      <td>8370</td>\n",
       "    </tr>\n",
       "    <tr>\n",
       "      <th>1</th>\n",
       "      <td>1000001</td>\n",
       "      <td>P00248942</td>\n",
       "      <td>F</td>\n",
       "      <td>0-17</td>\n",
       "      <td>10</td>\n",
       "      <td>A</td>\n",
       "      <td>2</td>\n",
       "      <td>0</td>\n",
       "      <td>1</td>\n",
       "      <td>15200</td>\n",
       "    </tr>\n",
       "    <tr>\n",
       "      <th>2</th>\n",
       "      <td>1000001</td>\n",
       "      <td>P00087842</td>\n",
       "      <td>F</td>\n",
       "      <td>0-17</td>\n",
       "      <td>10</td>\n",
       "      <td>A</td>\n",
       "      <td>2</td>\n",
       "      <td>0</td>\n",
       "      <td>12</td>\n",
       "      <td>1422</td>\n",
       "    </tr>\n",
       "    <tr>\n",
       "      <th>3</th>\n",
       "      <td>1000001</td>\n",
       "      <td>P00085442</td>\n",
       "      <td>F</td>\n",
       "      <td>0-17</td>\n",
       "      <td>10</td>\n",
       "      <td>A</td>\n",
       "      <td>2</td>\n",
       "      <td>0</td>\n",
       "      <td>12</td>\n",
       "      <td>1057</td>\n",
       "    </tr>\n",
       "    <tr>\n",
       "      <th>4</th>\n",
       "      <td>1000002</td>\n",
       "      <td>P00285442</td>\n",
       "      <td>M</td>\n",
       "      <td>55+</td>\n",
       "      <td>16</td>\n",
       "      <td>C</td>\n",
       "      <td>4+</td>\n",
       "      <td>0</td>\n",
       "      <td>8</td>\n",
       "      <td>7969</td>\n",
       "    </tr>\n",
       "  </tbody>\n",
       "</table>\n",
       "</div>"
      ],
      "text/plain": [
       "   User_ID Product_ID Gender   Age  Occupation City_Category  \\\n",
       "0  1000001  P00069042      F  0-17          10             A   \n",
       "1  1000001  P00248942      F  0-17          10             A   \n",
       "2  1000001  P00087842      F  0-17          10             A   \n",
       "3  1000001  P00085442      F  0-17          10             A   \n",
       "4  1000002  P00285442      M   55+          16             C   \n",
       "\n",
       "  Stay_In_Current_City_Years  Marital_Status  Product_Category  Purchase  \n",
       "0                          2               0                 3      8370  \n",
       "1                          2               0                 1     15200  \n",
       "2                          2               0                12      1422  \n",
       "3                          2               0                12      1057  \n",
       "4                         4+               0                 8      7969  "
      ]
     },
     "execution_count": 4,
     "metadata": {},
     "output_type": "execute_result"
    }
   ],
   "source": [
    "data.head()"
   ]
  },
  {
   "cell_type": "code",
   "execution_count": 5,
   "id": "980ccd07",
   "metadata": {},
   "outputs": [
    {
     "data": {
      "text/plain": [
       "(550068, 10)"
      ]
     },
     "execution_count": 5,
     "metadata": {},
     "output_type": "execute_result"
    }
   ],
   "source": [
    "data.shape"
   ]
  },
  {
   "cell_type": "code",
   "execution_count": 6,
   "id": "19d5fcac",
   "metadata": {},
   "outputs": [
    {
     "name": "stdout",
     "output_type": "stream",
     "text": [
      "<class 'pandas.core.frame.DataFrame'>\n",
      "RangeIndex: 550068 entries, 0 to 550067\n",
      "Data columns (total 10 columns):\n",
      " #   Column                      Non-Null Count   Dtype \n",
      "---  ------                      --------------   ----- \n",
      " 0   User_ID                     550068 non-null  int64 \n",
      " 1   Product_ID                  550068 non-null  object\n",
      " 2   Gender                      550068 non-null  object\n",
      " 3   Age                         550068 non-null  object\n",
      " 4   Occupation                  550068 non-null  int64 \n",
      " 5   City_Category               550068 non-null  object\n",
      " 6   Stay_In_Current_City_Years  550068 non-null  object\n",
      " 7   Marital_Status              550068 non-null  int64 \n",
      " 8   Product_Category            550068 non-null  int64 \n",
      " 9   Purchase                    550068 non-null  int64 \n",
      "dtypes: int64(5), object(5)\n",
      "memory usage: 42.0+ MB\n"
     ]
    }
   ],
   "source": [
    "data.info()"
   ]
  },
  {
   "cell_type": "code",
   "execution_count": 7,
   "id": "3bdba3db",
   "metadata": {},
   "outputs": [
    {
     "data": {
      "text/html": [
       "<div>\n",
       "<style scoped>\n",
       "    .dataframe tbody tr th:only-of-type {\n",
       "        vertical-align: middle;\n",
       "    }\n",
       "\n",
       "    .dataframe tbody tr th {\n",
       "        vertical-align: top;\n",
       "    }\n",
       "\n",
       "    .dataframe thead th {\n",
       "        text-align: right;\n",
       "    }\n",
       "</style>\n",
       "<table border=\"1\" class=\"dataframe\">\n",
       "  <thead>\n",
       "    <tr style=\"text-align: right;\">\n",
       "      <th></th>\n",
       "      <th>User_ID</th>\n",
       "      <th>Occupation</th>\n",
       "      <th>Marital_Status</th>\n",
       "      <th>Product_Category</th>\n",
       "      <th>Purchase</th>\n",
       "    </tr>\n",
       "  </thead>\n",
       "  <tbody>\n",
       "    <tr>\n",
       "      <th>count</th>\n",
       "      <td>5.500680e+05</td>\n",
       "      <td>550068.000000</td>\n",
       "      <td>550068.000000</td>\n",
       "      <td>550068.000000</td>\n",
       "      <td>550068.000000</td>\n",
       "    </tr>\n",
       "    <tr>\n",
       "      <th>mean</th>\n",
       "      <td>1.003029e+06</td>\n",
       "      <td>8.076707</td>\n",
       "      <td>0.409653</td>\n",
       "      <td>5.404270</td>\n",
       "      <td>9263.968713</td>\n",
       "    </tr>\n",
       "    <tr>\n",
       "      <th>std</th>\n",
       "      <td>1.727592e+03</td>\n",
       "      <td>6.522660</td>\n",
       "      <td>0.491770</td>\n",
       "      <td>3.936211</td>\n",
       "      <td>5023.065394</td>\n",
       "    </tr>\n",
       "    <tr>\n",
       "      <th>min</th>\n",
       "      <td>1.000001e+06</td>\n",
       "      <td>0.000000</td>\n",
       "      <td>0.000000</td>\n",
       "      <td>1.000000</td>\n",
       "      <td>12.000000</td>\n",
       "    </tr>\n",
       "    <tr>\n",
       "      <th>25%</th>\n",
       "      <td>1.001516e+06</td>\n",
       "      <td>2.000000</td>\n",
       "      <td>0.000000</td>\n",
       "      <td>1.000000</td>\n",
       "      <td>5823.000000</td>\n",
       "    </tr>\n",
       "    <tr>\n",
       "      <th>50%</th>\n",
       "      <td>1.003077e+06</td>\n",
       "      <td>7.000000</td>\n",
       "      <td>0.000000</td>\n",
       "      <td>5.000000</td>\n",
       "      <td>8047.000000</td>\n",
       "    </tr>\n",
       "    <tr>\n",
       "      <th>75%</th>\n",
       "      <td>1.004478e+06</td>\n",
       "      <td>14.000000</td>\n",
       "      <td>1.000000</td>\n",
       "      <td>8.000000</td>\n",
       "      <td>12054.000000</td>\n",
       "    </tr>\n",
       "    <tr>\n",
       "      <th>max</th>\n",
       "      <td>1.006040e+06</td>\n",
       "      <td>20.000000</td>\n",
       "      <td>1.000000</td>\n",
       "      <td>20.000000</td>\n",
       "      <td>23961.000000</td>\n",
       "    </tr>\n",
       "  </tbody>\n",
       "</table>\n",
       "</div>"
      ],
      "text/plain": [
       "            User_ID     Occupation  Marital_Status  Product_Category  \\\n",
       "count  5.500680e+05  550068.000000   550068.000000     550068.000000   \n",
       "mean   1.003029e+06       8.076707        0.409653          5.404270   \n",
       "std    1.727592e+03       6.522660        0.491770          3.936211   \n",
       "min    1.000001e+06       0.000000        0.000000          1.000000   \n",
       "25%    1.001516e+06       2.000000        0.000000          1.000000   \n",
       "50%    1.003077e+06       7.000000        0.000000          5.000000   \n",
       "75%    1.004478e+06      14.000000        1.000000          8.000000   \n",
       "max    1.006040e+06      20.000000        1.000000         20.000000   \n",
       "\n",
       "            Purchase  \n",
       "count  550068.000000  \n",
       "mean     9263.968713  \n",
       "std      5023.065394  \n",
       "min        12.000000  \n",
       "25%      5823.000000  \n",
       "50%      8047.000000  \n",
       "75%     12054.000000  \n",
       "max     23961.000000  "
      ]
     },
     "execution_count": 7,
     "metadata": {},
     "output_type": "execute_result"
    }
   ],
   "source": [
    "data.describe()"
   ]
  },
  {
   "cell_type": "code",
   "execution_count": 8,
   "id": "070e1914",
   "metadata": {},
   "outputs": [
    {
     "data": {
      "text/plain": [
       "User_ID                       0\n",
       "Product_ID                    0\n",
       "Gender                        0\n",
       "Age                           0\n",
       "Occupation                    0\n",
       "City_Category                 0\n",
       "Stay_In_Current_City_Years    0\n",
       "Marital_Status                0\n",
       "Product_Category              0\n",
       "Purchase                      0\n",
       "dtype: int64"
      ]
     },
     "execution_count": 8,
     "metadata": {},
     "output_type": "execute_result"
    }
   ],
   "source": [
    "data.isna().sum()"
   ]
  },
  {
   "cell_type": "markdown",
   "id": "37f0cd02",
   "metadata": {},
   "source": [
    "There are no null values in the data."
   ]
  },
  {
   "cell_type": "markdown",
   "id": "3c0733d2",
   "metadata": {},
   "source": [
    "# ANALYSING BASIC METRICS"
   ]
  },
  {
   "cell_type": "markdown",
   "id": "1b387396",
   "metadata": {},
   "source": [
    "# User_ID"
   ]
  },
  {
   "cell_type": "code",
   "execution_count": 9,
   "id": "ac76c2f2",
   "metadata": {},
   "outputs": [
    {
     "data": {
      "text/plain": [
       "1001680    1026\n",
       "1004277     979\n",
       "1001941     898\n",
       "1001181     862\n",
       "1000889     823\n",
       "           ... \n",
       "1002690       7\n",
       "1002111       7\n",
       "1005810       7\n",
       "1004991       7\n",
       "1000708       6\n",
       "Name: User_ID, Length: 5891, dtype: int64"
      ]
     },
     "execution_count": 9,
     "metadata": {},
     "output_type": "execute_result"
    }
   ],
   "source": [
    "data[\"User_ID\"].value_counts()"
   ]
  },
  {
   "cell_type": "code",
   "execution_count": 10,
   "id": "c79ed807",
   "metadata": {},
   "outputs": [
    {
     "data": {
      "text/plain": [
       "5891"
      ]
     },
     "execution_count": 10,
     "metadata": {},
     "output_type": "execute_result"
    }
   ],
   "source": [
    "data[\"User_ID\"].nunique()"
   ]
  },
  {
   "cell_type": "markdown",
   "id": "5e5eb128",
   "metadata": {},
   "source": [
    "There are 5891 Unique User_ID"
   ]
  },
  {
   "cell_type": "markdown",
   "id": "7ccfa98e",
   "metadata": {},
   "source": [
    "# Product_ID"
   ]
  },
  {
   "cell_type": "code",
   "execution_count": 11,
   "id": "0a8ac242",
   "metadata": {},
   "outputs": [
    {
     "data": {
      "text/plain": [
       "P00265242    1880\n",
       "P00025442    1615\n",
       "P00110742    1612\n",
       "P00112142    1562\n",
       "P00057642    1470\n",
       "             ... \n",
       "P00314842       1\n",
       "P00298842       1\n",
       "P00231642       1\n",
       "P00204442       1\n",
       "P00066342       1\n",
       "Name: Product_ID, Length: 3631, dtype: int64"
      ]
     },
     "execution_count": 11,
     "metadata": {},
     "output_type": "execute_result"
    }
   ],
   "source": [
    "data[\"Product_ID\"].value_counts()"
   ]
  },
  {
   "cell_type": "code",
   "execution_count": 12,
   "id": "4659dbb0",
   "metadata": {},
   "outputs": [
    {
     "data": {
      "text/plain": [
       "3631"
      ]
     },
     "execution_count": 12,
     "metadata": {},
     "output_type": "execute_result"
    }
   ],
   "source": [
    "data[\"Product_ID\"].nunique()"
   ]
  },
  {
   "cell_type": "markdown",
   "id": "4630ad8c",
   "metadata": {},
   "source": [
    "There are 3631 Unique products"
   ]
  },
  {
   "cell_type": "markdown",
   "id": "de767b9d",
   "metadata": {},
   "source": [
    "# Gender"
   ]
  },
  {
   "cell_type": "code",
   "execution_count": 13,
   "id": "c18a30ad",
   "metadata": {},
   "outputs": [
    {
     "data": {
      "text/plain": [
       "M    414259\n",
       "F    135809\n",
       "Name: Gender, dtype: int64"
      ]
     },
     "execution_count": 13,
     "metadata": {},
     "output_type": "execute_result"
    }
   ],
   "source": [
    "data[\"Gender\"].value_counts()"
   ]
  },
  {
   "cell_type": "code",
   "execution_count": 14,
   "id": "d74afd90",
   "metadata": {},
   "outputs": [
    {
     "data": {
      "image/png": "[encoded data removed]",
      "text/plain": [
       "<Figure size 432x288 with 1 Axes>"
      ]
     },
     "metadata": {
      "needs_background": "light"
     },
     "output_type": "display_data"
    }
   ],
   "source": [
    "sns.countplot(x = data[\"Gender\"])\n",
    "plt.show()"
   ]
  },
  {
   "cell_type": "code",
   "execution_count": 15,
   "id": "fae70418",
   "metadata": {},
   "outputs": [
    {
     "data": {
      "text/plain": [
       "0.75"
      ]
     },
     "execution_count": 15,
     "metadata": {},
     "output_type": "execute_result"
    }
   ],
   "source": [
    "(round(len(data[data[\"Gender\"] == \"M\"])/len(data),2))"
   ]
  },
  {
   "cell_type": "code",
   "execution_count": 16,
   "id": "ac92f124",
   "metadata": {},
   "outputs": [
    {
     "data": {
      "text/plain": [
       "0.25"
      ]
     },
     "execution_count": 16,
     "metadata": {},
     "output_type": "execute_result"
    }
   ],
   "source": [
    "(round(len(data[data[\"Gender\"] == \"F\"])/len(data),2))"
   ]
  },
  {
   "cell_type": "markdown",
   "id": "0ee78259",
   "metadata": {},
   "source": [
    "# Age"
   ]
  },
  {
   "cell_type": "code",
   "execution_count": 17,
   "id": "2ca8afca",
   "metadata": {},
   "outputs": [
    {
     "data": {
      "text/plain": [
       "26-35    219587\n",
       "36-45    110013\n",
       "18-25     99660\n",
       "46-50     45701\n",
       "51-55     38501\n",
       "55+       21504\n",
       "0-17      15102\n",
       "Name: Age, dtype: int64"
      ]
     },
     "execution_count": 17,
     "metadata": {},
     "output_type": "execute_result"
    }
   ],
   "source": [
    "data[\"Age\"].value_counts()"
   ]
  },
  {
   "cell_type": "code",
   "execution_count": 18,
   "id": "e521531f",
   "metadata": {},
   "outputs": [
    {
     "data": {
      "image/png": "[encoded data removed]",
      "text/plain": [
       "<Figure size 432x288 with 1 Axes>"
      ]
     },
     "metadata": {
      "needs_background": "light"
     },
     "output_type": "display_data"
    }
   ],
   "source": [
    "sns.countplot(x=data[\"Age\"])\n",
    "plt.show()"
   ]
  },
  {
   "cell_type": "markdown",
   "id": "0d42af03",
   "metadata": {},
   "source": [
    "# Occupation"
   ]
  },
  {
   "cell_type": "code",
   "execution_count": 19,
   "id": "01b14542",
   "metadata": {},
   "outputs": [
    {
     "data": {
      "text/plain": [
       "4     72308\n",
       "0     69638\n",
       "7     59133\n",
       "1     47426\n",
       "17    40043\n",
       "20    33562\n",
       "12    31179\n",
       "14    27309\n",
       "2     26588\n",
       "16    25371\n",
       "6     20355\n",
       "3     17650\n",
       "10    12930\n",
       "5     12177\n",
       "15    12165\n",
       "11    11586\n",
       "19     8461\n",
       "13     7728\n",
       "18     6622\n",
       "9      6291\n",
       "8      1546\n",
       "Name: Occupation, dtype: int64"
      ]
     },
     "execution_count": 19,
     "metadata": {},
     "output_type": "execute_result"
    }
   ],
   "source": [
    "data[\"Occupation\"].value_counts()"
   ]
  },
  {
   "cell_type": "code",
   "execution_count": 20,
   "id": "515a412b",
   "metadata": {},
   "outputs": [
    {
     "data": {
      "image/png": "[encoded data removed]",
      "text/plain": [
       "<Figure size 432x288 with 1 Axes>"
      ]
     },
     "metadata": {
      "needs_background": "light"
     },
     "output_type": "display_data"
    }
   ],
   "source": [
    "sns.countplot(x = data[\"Occupation\"])\n",
    "plt.show()"
   ]
  },
  {
   "cell_type": "markdown",
   "id": "89ea01d5",
   "metadata": {},
   "source": [
    "# City_Category"
   ]
  },
  {
   "cell_type": "code",
   "execution_count": 21,
   "id": "f277d483",
   "metadata": {},
   "outputs": [
    {
     "data": {
      "text/plain": [
       "B    231173\n",
       "C    171175\n",
       "A    147720\n",
       "Name: City_Category, dtype: int64"
      ]
     },
     "execution_count": 21,
     "metadata": {},
     "output_type": "execute_result"
    }
   ],
   "source": [
    "data[\"City_Category\"].value_counts()"
   ]
  },
  {
   "cell_type": "code",
   "execution_count": 22,
   "id": "1d35e4cb",
   "metadata": {},
   "outputs": [
    {
     "data": {
      "image/png": "[encoded data removed]",
      "text/plain": [
       "<Figure size 432x288 with 1 Axes>"
      ]
     },
     "metadata": {
      "needs_background": "light"
     },
     "output_type": "display_data"
    }
   ],
   "source": [
    "sns.countplot(x = data[\"City_Category\"])\n",
    "plt.show()"
   ]
  },
  {
   "cell_type": "markdown",
   "id": "fdd4b1c1",
   "metadata": {},
   "source": [
    "# Stay_In_Current_City_Years"
   ]
  },
  {
   "cell_type": "code",
   "execution_count": 23,
   "id": "2bd255e8",
   "metadata": {},
   "outputs": [
    {
     "data": {
      "text/plain": [
       "1     193821\n",
       "2     101838\n",
       "3      95285\n",
       "4+     84726\n",
       "0      74398\n",
       "Name: Stay_In_Current_City_Years, dtype: int64"
      ]
     },
     "execution_count": 23,
     "metadata": {},
     "output_type": "execute_result"
    }
   ],
   "source": [
    "data[\"Stay_In_Current_City_Years\"].value_counts()"
   ]
  },
  {
   "cell_type": "code",
   "execution_count": 24,
   "id": "e82234da",
   "metadata": {},
   "outputs": [
    {
     "data": {
      "text/plain": [
       "[]"
      ]
     },
     "execution_count": 24,
     "metadata": {},
     "output_type": "execute_result"
    },
    {
     "data": {
      "image/png": "[encoded data removed]",
      "text/plain": [
       "<Figure size 432x288 with 1 Axes>"
      ]
     },
     "metadata": {
      "needs_background": "light"
     },
     "output_type": "display_data"
    }
   ],
   "source": [
    "sns.countplot(x = data[\"Stay_In_Current_City_Years\"])\n",
    "plt.plot()"
   ]
  },
  {
   "cell_type": "markdown",
   "id": "24d00a8a",
   "metadata": {},
   "source": [
    "# Marital_Status"
   ]
  },
  {
   "cell_type": "code",
   "execution_count": 25,
   "id": "59efe25a",
   "metadata": {},
   "outputs": [
    {
     "data": {
      "text/plain": [
       "0    324731\n",
       "1    225337\n",
       "Name: Marital_Status, dtype: int64"
      ]
     },
     "execution_count": 25,
     "metadata": {},
     "output_type": "execute_result"
    }
   ],
   "source": [
    "data[\"Marital_Status\"].value_counts()"
   ]
  },
  {
   "cell_type": "code",
   "execution_count": 26,
   "id": "6bf9af18",
   "metadata": {},
   "outputs": [
    {
     "data": {
      "image/png": "[encoded data removed]",
      "text/plain": [
       "<Figure size 432x288 with 1 Axes>"
      ]
     },
     "metadata": {
      "needs_background": "light"
     },
     "output_type": "display_data"
    }
   ],
   "source": [
    "sns.countplot(x = data[\"Marital_Status\"])\n",
    "plt.show()"
   ]
  },
  {
   "cell_type": "markdown",
   "id": "9609a78a",
   "metadata": {},
   "source": [
    "# Product_Category"
   ]
  },
  {
   "cell_type": "code",
   "execution_count": 27,
   "id": "ea73051b",
   "metadata": {},
   "outputs": [
    {
     "data": {
      "text/plain": [
       "5     150933\n",
       "1     140378\n",
       "8     113925\n",
       "11     24287\n",
       "2      23864\n",
       "6      20466\n",
       "3      20213\n",
       "4      11753\n",
       "16      9828\n",
       "15      6290\n",
       "13      5549\n",
       "10      5125\n",
       "12      3947\n",
       "7       3721\n",
       "18      3125\n",
       "20      2550\n",
       "19      1603\n",
       "14      1523\n",
       "17       578\n",
       "9        410\n",
       "Name: Product_Category, dtype: int64"
      ]
     },
     "execution_count": 27,
     "metadata": {},
     "output_type": "execute_result"
    }
   ],
   "source": [
    "data[\"Product_Category\"].value_counts()"
   ]
  },
  {
   "cell_type": "code",
   "execution_count": 28,
   "id": "bd1b15a8",
   "metadata": {},
   "outputs": [
    {
     "data": {
      "image/png": "[encoded data removed]",
      "text/plain": [
       "<Figure size 432x288 with 1 Axes>"
      ]
     },
     "metadata": {
      "needs_background": "light"
     },
     "output_type": "display_data"
    }
   ],
   "source": [
    "sns.countplot(x = data[\"Product_Category\"])\n",
    "plt.show()"
   ]
  },
  {
   "cell_type": "markdown",
   "id": "09dcbac8",
   "metadata": {},
   "source": [
    "# Purchase"
   ]
  },
  {
   "cell_type": "code",
   "execution_count": 29,
   "id": "f90f1fca",
   "metadata": {},
   "outputs": [
    {
     "data": {
      "text/plain": [
       "7011     191\n",
       "7193     188\n",
       "6855     187\n",
       "6891     184\n",
       "7012     183\n",
       "        ... \n",
       "23491      1\n",
       "18345      1\n",
       "3372       1\n",
       "855        1\n",
       "21489      1\n",
       "Name: Purchase, Length: 18105, dtype: int64"
      ]
     },
     "execution_count": 29,
     "metadata": {},
     "output_type": "execute_result"
    }
   ],
   "source": [
    "data[\"Purchase\"].value_counts()"
   ]
  },
  {
   "cell_type": "code",
   "execution_count": 30,
   "id": "425f7c40",
   "metadata": {},
   "outputs": [
    {
     "data": {
      "text/plain": [
       "count    550068.000000\n",
       "mean       9263.968713\n",
       "std        5023.065394\n",
       "min          12.000000\n",
       "25%        5823.000000\n",
       "50%        8047.000000\n",
       "75%       12054.000000\n",
       "max       23961.000000\n",
       "Name: Purchase, dtype: float64"
      ]
     },
     "execution_count": 30,
     "metadata": {},
     "output_type": "execute_result"
    }
   ],
   "source": [
    "data[\"Purchase\"].describe()"
   ]
  },
  {
   "cell_type": "code",
   "execution_count": 31,
   "id": "23bba383",
   "metadata": {},
   "outputs": [
    {
     "data": {
      "image/png": "[encoded data removed]",
      "text/plain": [
       "<Figure size 432x288 with 1 Axes>"
      ]
     },
     "metadata": {
      "needs_background": "light"
     },
     "output_type": "display_data"
    }
   ],
   "source": [
    "sns.boxplot(y = data[\"Purchase\"])\n",
    "plt.show()"
   ]
  },
  {
   "cell_type": "markdown",
   "id": "52bb30b5",
   "metadata": {},
   "source": [
    "# NON GRAPHICAL AND VISUAL ANALYSIS"
   ]
  },
  {
   "cell_type": "markdown",
   "id": "cbc6d93b",
   "metadata": {},
   "source": [
    "# Analysing amount spent per transaction by male customer"
   ]
  },
  {
   "cell_type": "code",
   "execution_count": 91,
   "id": "855edc92",
   "metadata": {},
   "outputs": [],
   "source": [
    "data_male = data[data[\"Gender\"]==\"M\"]"
   ]
  },
  {
   "cell_type": "code",
   "execution_count": 71,
   "id": "c282aace",
   "metadata": {},
   "outputs": [
    {
     "data": {
      "text/plain": [
       "9437.526040472265"
      ]
     },
     "execution_count": 71,
     "metadata": {},
     "output_type": "execute_result"
    }
   ],
   "source": [
    "mean_male = data_male[\"Purchase\"].mean()\n",
    "mean_male"
   ]
  },
  {
   "cell_type": "code",
   "execution_count": 72,
   "id": "0024fff9",
   "metadata": {},
   "outputs": [
    {
     "data": {
      "text/plain": [
       "5092.186209777949"
      ]
     },
     "execution_count": 72,
     "metadata": {},
     "output_type": "execute_result"
    }
   ],
   "source": [
    "std_male = data_male[\"Purchase\"].std()\n",
    "std_male"
   ]
  },
  {
   "cell_type": "code",
   "execution_count": 73,
   "id": "222fdf78",
   "metadata": {},
   "outputs": [
    {
     "data": {
      "text/plain": [
       "<AxesSubplot:ylabel='Count'>"
      ]
     },
     "execution_count": 73,
     "metadata": {},
     "output_type": "execute_result"
    },
    {
     "data": {
      "image/png": "[encoded data removed]",
      "text/plain": [
       "<Figure size 432x288 with 1 Axes>"
      ]
     },
     "metadata": {
      "needs_background": "light"
     },
     "output_type": "display_data"
    }
   ],
   "source": [
    "num_samples = 1000\n",
    "collect_sample_means = []\n",
    "for i in range(1000):\n",
    "    sample_mean = data_male[\"Purchase\"].sample(num_samples).mean()\n",
    "    collect_sample_means.append(sample_mean)\n",
    "sns.histplot(collect_sample_means)"
   ]
  },
  {
   "cell_type": "markdown",
   "id": "79726975",
   "metadata": {},
   "source": [
    "# Confidence interval 95%"
   ]
  },
  {
   "cell_type": "code",
   "execution_count": 74,
   "id": "3c04928a",
   "metadata": {},
   "outputs": [
    {
     "data": {
      "text/plain": [
       "1.959963984540054"
      ]
     },
     "execution_count": 74,
     "metadata": {},
     "output_type": "execute_result"
    }
   ],
   "source": [
    "norm.ppf(0.975)"
   ]
  },
  {
   "cell_type": "code",
   "execution_count": 75,
   "id": "6a7f18a8",
   "metadata": {},
   "outputs": [
    {
     "data": {
      "text/plain": [
       "-1.9599639845400545"
      ]
     },
     "execution_count": 75,
     "metadata": {},
     "output_type": "execute_result"
    }
   ],
   "source": [
    "norm.ppf(0.025)"
   ]
  },
  {
   "cell_type": "code",
   "execution_count": 76,
   "id": "eeccd2fe",
   "metadata": {},
   "outputs": [
    {
     "data": {
      "text/plain": [
       "9121.909069297339"
      ]
     },
     "execution_count": 76,
     "metadata": {},
     "output_type": "execute_result"
    }
   ],
   "source": [
    "left_1 = mean_male - 1.96 * std_male / np.sqrt(num_samples)\n",
    "left_1"
   ]
  },
  {
   "cell_type": "code",
   "execution_count": 77,
   "id": "e4a8488b",
   "metadata": {},
   "outputs": [
    {
     "data": {
      "text/plain": [
       "9753.143011647191"
      ]
     },
     "execution_count": 77,
     "metadata": {},
     "output_type": "execute_result"
    }
   ],
   "source": [
    "right_1 = mean_male + 1.96 * std_male / np.sqrt(num_samples)\n",
    "right_1"
   ]
  },
  {
   "cell_type": "markdown",
   "id": "e2d5eb00",
   "metadata": {},
   "source": [
    "95% confidence that the sample mean for male customers is in 9121.909069297339, 9121.909069297339"
   ]
  },
  {
   "cell_type": "code",
   "execution_count": 78,
   "id": "55d12994",
   "metadata": {},
   "outputs": [
    {
     "data": {
      "text/plain": [
       "<matplotlib.lines.Line2D at 0x28fbd57cf40>"
      ]
     },
     "execution_count": 78,
     "metadata": {},
     "output_type": "execute_result"
    },
    {
     "data": {
      "image/png": "[encoded data removed]",
      "text/plain": [
       "<Figure size 432x288 with 1 Axes>"
      ]
     },
     "metadata": {
      "needs_background": "light"
     },
     "output_type": "display_data"
    }
   ],
   "source": [
    "fig, ax = plt.subplots()\n",
    "sns.histplot(collect_sample_means)\n",
    "plt.axvline(left_1)\n",
    "plt.axvline(right_1)"
   ]
  },
  {
   "cell_type": "markdown",
   "id": "c0b96eaa",
   "metadata": {},
   "source": [
    "# Confidence interval 90%"
   ]
  },
  {
   "cell_type": "code",
   "execution_count": 79,
   "id": "e9dbcc8f",
   "metadata": {
    "scrolled": true
   },
   "outputs": [
    {
     "data": {
      "text/plain": [
       "1.2815515655446004"
      ]
     },
     "execution_count": 79,
     "metadata": {},
     "output_type": "execute_result"
    }
   ],
   "source": [
    "norm.ppf(0.9)"
   ]
  },
  {
   "cell_type": "code",
   "execution_count": 80,
   "id": "eab3375c",
   "metadata": {},
   "outputs": [
    {
     "data": {
      "text/plain": [
       "-1.6448536269514729"
      ]
     },
     "execution_count": 80,
     "metadata": {},
     "output_type": "execute_result"
    }
   ],
   "source": [
    "norm.ppf(0.05)"
   ]
  },
  {
   "cell_type": "code",
   "execution_count": 81,
   "id": "97799248",
   "metadata": {},
   "outputs": [
    {
     "data": {
      "text/plain": [
       "9172.79425444595"
      ]
     },
     "execution_count": 81,
     "metadata": {},
     "output_type": "execute_result"
    }
   ],
   "source": [
    "left_2 = mean_male - 1.644 * std_male / np.sqrt(num_samples)\n",
    "left_2"
   ]
  },
  {
   "cell_type": "code",
   "execution_count": 82,
   "id": "97b1c4b6",
   "metadata": {},
   "outputs": [
    {
     "data": {
      "text/plain": [
       "9643.80427520445"
      ]
     },
     "execution_count": 82,
     "metadata": {},
     "output_type": "execute_result"
    }
   ],
   "source": [
    "right_2 = mean_male + 1.281 * std_male / np.sqrt(num_samples)\n",
    "right_2"
   ]
  },
  {
   "cell_type": "markdown",
   "id": "d3918138",
   "metadata": {},
   "source": [
    "90% confidence that the sample mean for male customers is in 9172.79425444595, 9643.80427520445"
   ]
  },
  {
   "cell_type": "code",
   "execution_count": 83,
   "id": "e3bcbddf",
   "metadata": {},
   "outputs": [
    {
     "data": {
      "text/plain": [
       "<matplotlib.lines.Line2D at 0x28fbd967850>"
      ]
     },
     "execution_count": 83,
     "metadata": {},
     "output_type": "execute_result"
    },
    {
     "data": {
      "image/png": "[encoded data removed]",
      "text/plain": [
       "<Figure size 432x288 with 1 Axes>"
      ]
     },
     "metadata": {
      "needs_background": "light"
     },
     "output_type": "display_data"
    }
   ],
   "source": [
    "fig, ax = plt.subplots()\n",
    "sns.histplot(collect_sample_means)\n",
    "plt.axvline(left_2)\n",
    "plt.axvline(right_2)"
   ]
  },
  {
   "cell_type": "markdown",
   "id": "27ec8393",
   "metadata": {},
   "source": [
    "# Confidence interval 99%"
   ]
  },
  {
   "cell_type": "code",
   "execution_count": 84,
   "id": "d9d955f2",
   "metadata": {},
   "outputs": [
    {
     "data": {
      "text/plain": [
       "2.3263478740408408"
      ]
     },
     "execution_count": 84,
     "metadata": {},
     "output_type": "execute_result"
    }
   ],
   "source": [
    "norm.ppf(0.99)"
   ]
  },
  {
   "cell_type": "code",
   "execution_count": 85,
   "id": "859e3d4d",
   "metadata": {},
   "outputs": [
    {
     "data": {
      "text/plain": [
       "-2.575829303548901"
      ]
     },
     "execution_count": 85,
     "metadata": {},
     "output_type": "execute_result"
    }
   ],
   "source": [
    "norm.ppf(0.005)"
   ]
  },
  {
   "cell_type": "code",
   "execution_count": 86,
   "id": "448d4dfe",
   "metadata": {},
   "outputs": [
    {
     "data": {
      "text/plain": [
       "9022.87619313786"
      ]
     },
     "execution_count": 86,
     "metadata": {},
     "output_type": "execute_result"
    }
   ],
   "source": [
    "left_3 = mean_male - 2.575 * std_male / np.sqrt(num_samples)\n",
    "left_3"
   ]
  },
  {
   "cell_type": "code",
   "execution_count": 87,
   "id": "9017c896",
   "metadata": {},
   "outputs": [
    {
     "data": {
      "text/plain": [
       "9812.079650142101"
      ]
     },
     "execution_count": 87,
     "metadata": {},
     "output_type": "execute_result"
    }
   ],
   "source": [
    "right_3 = mean_male + 2.326 * std_male / np.sqrt(num_samples)\n",
    "right_3"
   ]
  },
  {
   "cell_type": "markdown",
   "id": "bf1e713d",
   "metadata": {},
   "source": [
    "99% confidence that the sample mean for male customers is in 9022.87619313786, 9812.079650142101"
   ]
  },
  {
   "cell_type": "code",
   "execution_count": 88,
   "id": "109adbe4",
   "metadata": {},
   "outputs": [
    {
     "data": {
      "text/plain": [
       "<matplotlib.lines.Line2D at 0x28fbda0a3a0>"
      ]
     },
     "execution_count": 88,
     "metadata": {},
     "output_type": "execute_result"
    },
    {
     "data": {
      "image/png": "[encoded data removed]",
      "text/plain": [
       "<Figure size 432x288 with 1 Axes>"
      ]
     },
     "metadata": {
      "needs_background": "light"
     },
     "output_type": "display_data"
    }
   ],
   "source": [
    "fig, ax = plt.subplots()\n",
    "sns.histplot(collect_sample_means)\n",
    "plt.axvline(left_3)\n",
    "plt.axvline(right_3)"
   ]
  },
  {
   "cell_type": "markdown",
   "id": "ce64c9ae",
   "metadata": {},
   "source": [
    "# Analysing amount spent per transaction by female customer"
   ]
  },
  {
   "cell_type": "code",
   "execution_count": 90,
   "id": "95223749",
   "metadata": {},
   "outputs": [],
   "source": [
    "data_female = data[data[\"Gender\"]==\"F\"]"
   ]
  },
  {
   "cell_type": "code",
   "execution_count": 93,
   "id": "6e871b71",
   "metadata": {},
   "outputs": [
    {
     "data": {
      "text/plain": [
       "8734.565765155476"
      ]
     },
     "execution_count": 93,
     "metadata": {},
     "output_type": "execute_result"
    }
   ],
   "source": [
    "mean_female = data_female[\"Purchase\"].mean()\n",
    "mean_female"
   ]
  },
  {
   "cell_type": "code",
   "execution_count": 94,
   "id": "8aa8aaab",
   "metadata": {},
   "outputs": [
    {
     "data": {
      "text/plain": [
       "4767.233289291444"
      ]
     },
     "execution_count": 94,
     "metadata": {},
     "output_type": "execute_result"
    }
   ],
   "source": [
    "std_female = data_female[\"Purchase\"].std()\n",
    "std_female"
   ]
  },
  {
   "cell_type": "code",
   "execution_count": 95,
   "id": "e6470e12",
   "metadata": {},
   "outputs": [
    {
     "data": {
      "text/plain": [
       "<AxesSubplot:ylabel='Count'>"
      ]
     },
     "execution_count": 95,
     "metadata": {},
     "output_type": "execute_result"
    },
    {
     "data": {
      "image/png": "[encoded data removed]",
      "text/plain": [
       "<Figure size 432x288 with 1 Axes>"
      ]
     },
     "metadata": {
      "needs_background": "light"
     },
     "output_type": "display_data"
    }
   ],
   "source": [
    "num_samples = 1000\n",
    "collect_sample_means = []\n",
    "for i in range(1000):\n",
    "    sample_mean = data_female[\"Purchase\"].sample(num_samples).mean()\n",
    "    collect_sample_means.append(sample_mean)\n",
    "sns.histplot(collect_sample_means)"
   ]
  },
  {
   "cell_type": "markdown",
   "id": "21552312",
   "metadata": {},
   "source": [
    "# Confidence interval 95%"
   ]
  },
  {
   "cell_type": "code",
   "execution_count": 96,
   "id": "6fbf0687",
   "metadata": {},
   "outputs": [
    {
     "data": {
      "text/plain": [
       "8439.089584657344"
      ]
     },
     "execution_count": 96,
     "metadata": {},
     "output_type": "execute_result"
    }
   ],
   "source": [
    "left_1f = mean_female - 1.96 * std_female / np.sqrt(num_samples)\n",
    "left_1f"
   ]
  },
  {
   "cell_type": "code",
   "execution_count": 97,
   "id": "9de8fefa",
   "metadata": {},
   "outputs": [
    {
     "data": {
      "text/plain": [
       "9030.041945653607"
      ]
     },
     "execution_count": 97,
     "metadata": {},
     "output_type": "execute_result"
    }
   ],
   "source": [
    "right_1f = mean_female + 1.96 * std_female / np.sqrt(num_samples)\n",
    "right_1f"
   ]
  },
  {
   "cell_type": "code",
   "execution_count": 98,
   "id": "f2ddf044",
   "metadata": {},
   "outputs": [
    {
     "data": {
      "text/plain": [
       "<matplotlib.lines.Line2D at 0x28fbdb349d0>"
      ]
     },
     "execution_count": 98,
     "metadata": {},
     "output_type": "execute_result"
    },
    {
     "data": {
      "image/png": "[encoded data removed]",
      "text/plain": [
       "<Figure size 432x288 with 1 Axes>"
      ]
     },
     "metadata": {
      "needs_background": "light"
     },
     "output_type": "display_data"
    }
   ],
   "source": [
    "fig, ax = plt.subplots()\n",
    "sns.histplot(collect_sample_means)\n",
    "plt.axvline(left_1f)\n",
    "plt.axvline(right_1f)"
   ]
  },
  {
   "cell_type": "markdown",
   "id": "82aabbf9",
   "metadata": {},
   "source": [
    "95% confidence that the sample mean for female customers is in 8439.089584657344, 9030.041945653607"
   ]
  },
  {
   "cell_type": "markdown",
   "id": "f15fee72",
   "metadata": {},
   "source": [
    "# Confidence interval 90%"
   ]
  },
  {
   "cell_type": "code",
   "execution_count": 99,
   "id": "56ae93a5",
   "metadata": {},
   "outputs": [
    {
     "data": {
      "text/plain": [
       "8486.727581105002"
      ]
     },
     "execution_count": 99,
     "metadata": {},
     "output_type": "execute_result"
    }
   ],
   "source": [
    "left_2f = mean_female - 1.644 * std_female / np.sqrt(num_samples)\n",
    "left_2f"
   ]
  },
  {
   "cell_type": "code",
   "execution_count": 100,
   "id": "cd044814",
   "metadata": {},
   "outputs": [
    {
     "data": {
      "text/plain": [
       "8927.68055455247"
      ]
     },
     "execution_count": 100,
     "metadata": {},
     "output_type": "execute_result"
    }
   ],
   "source": [
    "right_2f = mean_female + 1.281 * std_female / np.sqrt(num_samples)\n",
    "right_2f"
   ]
  },
  {
   "cell_type": "code",
   "execution_count": 101,
   "id": "fc28e6b2",
   "metadata": {},
   "outputs": [
    {
     "data": {
      "text/plain": [
       "<matplotlib.lines.Line2D at 0x28fbdbc9c40>"
      ]
     },
     "execution_count": 101,
     "metadata": {},
     "output_type": "execute_result"
    },
    {
     "data": {
      "image/png": "[encoded data removed]",
      "text/plain": [
       "<Figure size 432x288 with 1 Axes>"
      ]
     },
     "metadata": {
      "needs_background": "light"
     },
     "output_type": "display_data"
    }
   ],
   "source": [
    "fig, ax = plt.subplots()\n",
    "sns.histplot(collect_sample_means)\n",
    "plt.axvline(left_2f)\n",
    "plt.axvline(right_2f)"
   ]
  },
  {
   "cell_type": "markdown",
   "id": "1d37a3a6",
   "metadata": {},
   "source": [
    "90% confidence that the sample mean for female customers is in 8486.727581105002, 8927.68055455247"
   ]
  },
  {
   "cell_type": "markdown",
   "id": "1eb67a44",
   "metadata": {},
   "source": [
    "# Confidence interval 99%"
   ]
  },
  {
   "cell_type": "code",
   "execution_count": 102,
   "id": "efd5831d",
   "metadata": {},
   "outputs": [
    {
     "data": {
      "text/plain": [
       "8346.376395368388"
      ]
     },
     "execution_count": 102,
     "metadata": {},
     "output_type": "execute_result"
    }
   ],
   "source": [
    "left_3f = mean_female - 2.575 * std_female / np.sqrt(num_samples)\n",
    "left_3f"
   ]
  },
  {
   "cell_type": "code",
   "execution_count": 103,
   "id": "99f180d2",
   "metadata": {},
   "outputs": [
    {
     "data": {
      "text/plain": [
       "9085.217599767035"
      ]
     },
     "execution_count": 103,
     "metadata": {},
     "output_type": "execute_result"
    }
   ],
   "source": [
    "right_3f = mean_female + 2.326 * std_female / np.sqrt(num_samples)\n",
    "right_3f"
   ]
  },
  {
   "cell_type": "code",
   "execution_count": 104,
   "id": "6d4073e6",
   "metadata": {},
   "outputs": [
    {
     "data": {
      "text/plain": [
       "<matplotlib.lines.Line2D at 0x28fbdc61fa0>"
      ]
     },
     "execution_count": 104,
     "metadata": {},
     "output_type": "execute_result"
    },
    {
     "data": {
      "image/png": "[encoded data removed]",
      "text/plain": [
       "<Figure size 432x288 with 1 Axes>"
      ]
     },
     "metadata": {
      "needs_background": "light"
     },
     "output_type": "display_data"
    }
   ],
   "source": [
    "fig, ax = plt.subplots()\n",
    "sns.histplot(collect_sample_means)\n",
    "plt.axvline(left_3f)\n",
    "plt.axvline(right_3f)"
   ]
  },
  {
   "cell_type": "markdown",
   "id": "394e6a08",
   "metadata": {},
   "source": [
    "99% confidence that the sample mean for female customers is in 8346.376395368388, 8346.376395368388"
   ]
  },
  {
   "cell_type": "markdown",
   "id": "1d45d849",
   "metadata": {},
   "source": [
    "# Analysing amount spent per transaction by married customer"
   ]
  },
  {
   "cell_type": "code",
   "execution_count": 105,
   "id": "2053987c",
   "metadata": {},
   "outputs": [],
   "source": [
    "data_married = data[data[\"Marital_Status\"] == 1]"
   ]
  },
  {
   "cell_type": "code",
   "execution_count": 106,
   "id": "8a8d4aa9",
   "metadata": {},
   "outputs": [
    {
     "data": {
      "text/plain": [
       "9261.174574082374"
      ]
     },
     "execution_count": 106,
     "metadata": {},
     "output_type": "execute_result"
    }
   ],
   "source": [
    "mean_married = data_married[\"Purchase\"].mean()\n",
    "mean_married"
   ]
  },
  {
   "cell_type": "code",
   "execution_count": 107,
   "id": "3b8e1097",
   "metadata": {},
   "outputs": [
    {
     "data": {
      "text/plain": [
       "5016.89737779313"
      ]
     },
     "execution_count": 107,
     "metadata": {},
     "output_type": "execute_result"
    }
   ],
   "source": [
    "std_married = data_married[\"Purchase\"].std()\n",
    "std_married"
   ]
  },
  {
   "cell_type": "code",
   "execution_count": 108,
   "id": "00b4fc0e",
   "metadata": {},
   "outputs": [
    {
     "data": {
      "text/plain": [
       "<AxesSubplot:ylabel='Count'>"
      ]
     },
     "execution_count": 108,
     "metadata": {},
     "output_type": "execute_result"
    },
    {
     "data": {
      "image/png": "[encoded data removed]",
      "text/plain": [
       "<Figure size 432x288 with 1 Axes>"
      ]
     },
     "metadata": {
      "needs_background": "light"
     },
     "output_type": "display_data"
    }
   ],
   "source": [
    "num_samples = 1000\n",
    "collect_sample_means = []\n",
    "for i in range(1000):\n",
    "    sample_mean = data_married[\"Purchase\"].sample(num_samples).mean()\n",
    "    collect_sample_means.append(sample_mean)\n",
    "sns.histplot(collect_sample_means)"
   ]
  },
  {
   "cell_type": "markdown",
   "id": "29a8309d",
   "metadata": {},
   "source": [
    "# Confidence interval 95%"
   ]
  },
  {
   "cell_type": "code",
   "execution_count": 109,
   "id": "625550ee",
   "metadata": {},
   "outputs": [
    {
     "data": {
      "text/plain": [
       "8950.224053059785"
      ]
     },
     "execution_count": 109,
     "metadata": {},
     "output_type": "execute_result"
    }
   ],
   "source": [
    "left_1ma = mean_married - 1.96 * std_married / np.sqrt(num_samples)\n",
    "left_1ma"
   ]
  },
  {
   "cell_type": "code",
   "execution_count": 111,
   "id": "67917e35",
   "metadata": {},
   "outputs": [
    {
     "data": {
      "text/plain": [
       "9572.125095104962"
      ]
     },
     "execution_count": 111,
     "metadata": {},
     "output_type": "execute_result"
    }
   ],
   "source": [
    "right_1ma = mean_married + 1.96 * std_married / np.sqrt(num_samples)\n",
    "right_1ma"
   ]
  },
  {
   "cell_type": "code",
   "execution_count": 112,
   "id": "2e732198",
   "metadata": {},
   "outputs": [
    {
     "data": {
      "text/plain": [
       "<matplotlib.lines.Line2D at 0x28fbdd7da00>"
      ]
     },
     "execution_count": 112,
     "metadata": {},
     "output_type": "execute_result"
    },
    {
     "data": {
      "image/png": "[encoded data removed]",
      "text/plain": [
       "<Figure size 432x288 with 1 Axes>"
      ]
     },
     "metadata": {
      "needs_background": "light"
     },
     "output_type": "display_data"
    }
   ],
   "source": [
    "fig, ax = plt.subplots()\n",
    "sns.histplot(collect_sample_means)\n",
    "plt.axvline(left_1ma)\n",
    "plt.axvline(right_1ma)"
   ]
  },
  {
   "cell_type": "markdown",
   "id": "86fbd579",
   "metadata": {},
   "source": [
    "95% confidence that the sample mean for married customers is in 8950.224053059785, 9572.125095104962"
   ]
  },
  {
   "cell_type": "markdown",
   "id": "e5c74dfd",
   "metadata": {},
   "source": [
    "# Analysing amount spent per transaction by unmarried customer"
   ]
  },
  {
   "cell_type": "code",
   "execution_count": 113,
   "id": "b0c7b61b",
   "metadata": {},
   "outputs": [],
   "source": [
    "data_unmarried = data[data[\"Marital_Status\"] == 0] "
   ]
  },
  {
   "cell_type": "code",
   "execution_count": 115,
   "id": "2ef1edc1",
   "metadata": {},
   "outputs": [
    {
     "data": {
      "text/plain": [
       "9265.907618921507"
      ]
     },
     "execution_count": 115,
     "metadata": {},
     "output_type": "execute_result"
    }
   ],
   "source": [
    "mean_unmarried = data_unmarried[\"Purchase\"].mean()\n",
    "mean_unmarried"
   ]
  },
  {
   "cell_type": "code",
   "execution_count": 117,
   "id": "fff939b9",
   "metadata": {},
   "outputs": [
    {
     "data": {
      "text/plain": [
       "5027.347858674457"
      ]
     },
     "execution_count": 117,
     "metadata": {},
     "output_type": "execute_result"
    }
   ],
   "source": [
    "std_unmarried = data_unmarried[\"Purchase\"].std()\n",
    "std_unmarried"
   ]
  },
  {
   "cell_type": "code",
   "execution_count": 118,
   "id": "75874a0a",
   "metadata": {},
   "outputs": [
    {
     "data": {
      "text/plain": [
       "<AxesSubplot:ylabel='Count'>"
      ]
     },
     "execution_count": 118,
     "metadata": {},
     "output_type": "execute_result"
    },
    {
     "data": {
      "image/png": "[encoded data removed]",
      "text/plain": [
       "<Figure size 432x288 with 1 Axes>"
      ]
     },
     "metadata": {
      "needs_background": "light"
     },
     "output_type": "display_data"
    }
   ],
   "source": [
    "num_samples = 1000\n",
    "collect_sample_means = []\n",
    "for i in range(1000):\n",
    "    sample_mean = data_unmarried[\"Purchase\"].sample(num_samples).mean()\n",
    "    collect_sample_means.append(sample_mean)\n",
    "sns.histplot(collect_sample_means)"
   ]
  },
  {
   "cell_type": "markdown",
   "id": "fbf60af2",
   "metadata": {},
   "source": [
    "# Confidence interval 95%"
   ]
  },
  {
   "cell_type": "code",
   "execution_count": 119,
   "id": "93a049f0",
   "metadata": {},
   "outputs": [
    {
     "data": {
      "text/plain": [
       "8954.309370383227"
      ]
     },
     "execution_count": 119,
     "metadata": {},
     "output_type": "execute_result"
    }
   ],
   "source": [
    "left_1um = mean_unmarried - 1.96 * std_unmarried / np.sqrt(num_samples)\n",
    "left_1um"
   ]
  },
  {
   "cell_type": "code",
   "execution_count": 120,
   "id": "186695b0",
   "metadata": {},
   "outputs": [
    {
     "data": {
      "text/plain": [
       "9577.505867459786"
      ]
     },
     "execution_count": 120,
     "metadata": {},
     "output_type": "execute_result"
    }
   ],
   "source": [
    "right_1um = mean_unmarried + 1.96 * std_unmarried / np.sqrt(num_samples)\n",
    "right_1um"
   ]
  },
  {
   "cell_type": "code",
   "execution_count": 121,
   "id": "eae52e04",
   "metadata": {},
   "outputs": [
    {
     "data": {
      "text/plain": [
       "<matplotlib.lines.Line2D at 0x28fbe076cd0>"
      ]
     },
     "execution_count": 121,
     "metadata": {},
     "output_type": "execute_result"
    },
    {
     "data": {
      "image/png": "[encoded data removed]",
      "text/plain": [
       "<Figure size 432x288 with 1 Axes>"
      ]
     },
     "metadata": {
      "needs_background": "light"
     },
     "output_type": "display_data"
    }
   ],
   "source": [
    "fig, ax = plt.subplots()\n",
    "sns.histplot(collect_sample_means)\n",
    "plt.axvline(left_1um)\n",
    "plt.axvline(right_1um)"
   ]
  },
  {
   "cell_type": "markdown",
   "id": "6313399d",
   "metadata": {},
   "source": [
    "95% confidence that the sample mean for unmarried customers is in 8954.309370383227, 9577.505867459786"
   ]
  },
  {
   "cell_type": "markdown",
   "id": "054f1e12",
   "metadata": {},
   "source": [
    "# Analysing amount spent per transaction by customer age 0-17"
   ]
  },
  {
   "cell_type": "code",
   "execution_count": 126,
   "id": "0ed4cebd",
   "metadata": {},
   "outputs": [],
   "source": [
    "data_age_b17 = data[data[\"Age\"] == \"0-17\"]"
   ]
  },
  {
   "cell_type": "code",
   "execution_count": 129,
   "id": "b3100dc6",
   "metadata": {},
   "outputs": [
    {
     "data": {
      "text/plain": [
       "8933.464640444974"
      ]
     },
     "execution_count": 129,
     "metadata": {},
     "output_type": "execute_result"
    }
   ],
   "source": [
    "mean_b17 = data_age_b17[\"Purchase\"].mean()\n",
    "mean_b17"
   ]
  },
  {
   "cell_type": "code",
   "execution_count": 130,
   "id": "ced72373",
   "metadata": {},
   "outputs": [
    {
     "data": {
      "text/plain": [
       "5111.11404600277"
      ]
     },
     "execution_count": 130,
     "metadata": {},
     "output_type": "execute_result"
    }
   ],
   "source": [
    "std_b17 = data_age_b17[\"Purchase\"].std()\n",
    "std_b17"
   ]
  },
  {
   "cell_type": "code",
   "execution_count": 131,
   "id": "65d82df0",
   "metadata": {},
   "outputs": [
    {
     "data": {
      "text/plain": [
       "<AxesSubplot:ylabel='Count'>"
      ]
     },
     "execution_count": 131,
     "metadata": {},
     "output_type": "execute_result"
    },
    {
     "data": {
      "image/png": "[encoded data removed]",
      "text/plain": [
       "<Figure size 432x288 with 1 Axes>"
      ]
     },
     "metadata": {
      "needs_background": "light"
     },
     "output_type": "display_data"
    }
   ],
   "source": [
    "num_samples = 1000\n",
    "collect_sample_means = []\n",
    "for i in range(1000):\n",
    "    sample_mean = data_age_b17[\"Purchase\"].sample(num_samples).mean()\n",
    "    collect_sample_means.append(sample_mean)\n",
    "sns.histplot(collect_sample_means)"
   ]
  },
  {
   "cell_type": "markdown",
   "id": "2fce142e",
   "metadata": {},
   "source": [
    "# Confidence interval 95%"
   ]
  },
  {
   "cell_type": "code",
   "execution_count": 134,
   "id": "edd74a94",
   "metadata": {},
   "outputs": [
    {
     "data": {
      "text/plain": [
       "8616.674509826526"
      ]
     },
     "execution_count": 134,
     "metadata": {},
     "output_type": "execute_result"
    }
   ],
   "source": [
    "left_b17 = mean_b17 - 1.96 * std_b17 / np.sqrt(num_samples)\n",
    "left_b17"
   ]
  },
  {
   "cell_type": "code",
   "execution_count": 135,
   "id": "ec0ea523",
   "metadata": {},
   "outputs": [
    {
     "data": {
      "text/plain": [
       "9250.254771063423"
      ]
     },
     "execution_count": 135,
     "metadata": {},
     "output_type": "execute_result"
    }
   ],
   "source": [
    "right_b17 = mean_b17 + 1.96 * std_b17 / np.sqrt(num_samples)\n",
    "right_b17"
   ]
  },
  {
   "cell_type": "code",
   "execution_count": 136,
   "id": "d6b975cb",
   "metadata": {},
   "outputs": [
    {
     "data": {
      "text/plain": [
       "<matplotlib.lines.Line2D at 0x28fbe179be0>"
      ]
     },
     "execution_count": 136,
     "metadata": {},
     "output_type": "execute_result"
    },
    {
     "data": {
      "image/png": "[encoded data removed]",
      "text/plain": [
       "<Figure size 432x288 with 1 Axes>"
      ]
     },
     "metadata": {
      "needs_background": "light"
     },
     "output_type": "display_data"
    }
   ],
   "source": [
    "fig, ax = plt.subplots()\n",
    "sns.histplot(collect_sample_means)\n",
    "plt.axvline(left_b17)\n",
    "plt.axvline(right_b17)"
   ]
  },
  {
   "cell_type": "markdown",
   "id": "9fe98648",
   "metadata": {},
   "source": [
    "95% confidence that the sample mean for customers below age 17 is in 8616.674509826526, 9250.254771063423"
   ]
  },
  {
   "cell_type": "markdown",
   "id": "dda6e9e5",
   "metadata": {},
   "source": [
    "# Analysing amount spent per transaction by customer age 18-25"
   ]
  },
  {
   "cell_type": "code",
   "execution_count": 137,
   "id": "e64a66c5",
   "metadata": {},
   "outputs": [],
   "source": [
    "data_age_1825 = data[data[\"Age\"] == \"18-25\"]"
   ]
  },
  {
   "cell_type": "code",
   "execution_count": 140,
   "id": "f1bfd85d",
   "metadata": {},
   "outputs": [
    {
     "data": {
      "text/plain": [
       "9169.663606261289"
      ]
     },
     "execution_count": 140,
     "metadata": {},
     "output_type": "execute_result"
    }
   ],
   "source": [
    "mean_1825 = data_age_1825[\"Purchase\"].mean()\n",
    "mean_1825"
   ]
  },
  {
   "cell_type": "code",
   "execution_count": 141,
   "id": "b5677561",
   "metadata": {},
   "outputs": [
    {
     "data": {
      "text/plain": [
       "5034.321997176577"
      ]
     },
     "execution_count": 141,
     "metadata": {},
     "output_type": "execute_result"
    }
   ],
   "source": [
    "std_1825 = data_age_1825[\"Purchase\"].std()\n",
    "std_1825"
   ]
  },
  {
   "cell_type": "code",
   "execution_count": 142,
   "id": "610e4fca",
   "metadata": {},
   "outputs": [
    {
     "data": {
      "text/plain": [
       "<AxesSubplot:ylabel='Count'>"
      ]
     },
     "execution_count": 142,
     "metadata": {},
     "output_type": "execute_result"
    },
    {
     "data": {
      "image/png": "[encoded data removed]",
      "text/plain": [
       "<Figure size 432x288 with 1 Axes>"
      ]
     },
     "metadata": {
      "needs_background": "light"
     },
     "output_type": "display_data"
    }
   ],
   "source": [
    "num_samples = 1000\n",
    "collect_sample_means = []\n",
    "for i in range(1000):\n",
    "    sample_mean = data_age_1825[\"Purchase\"].sample(num_samples).mean()\n",
    "    collect_sample_means.append(sample_mean)\n",
    "sns.histplot(collect_sample_means)"
   ]
  },
  {
   "cell_type": "markdown",
   "id": "e8c342f0",
   "metadata": {},
   "source": [
    "# Confidence interval 95%"
   ]
  },
  {
   "cell_type": "code",
   "execution_count": 143,
   "id": "1477dbd4",
   "metadata": {},
   "outputs": [
    {
     "data": {
      "text/plain": [
       "8857.63309614028"
      ]
     },
     "execution_count": 143,
     "metadata": {},
     "output_type": "execute_result"
    }
   ],
   "source": [
    "left_1825 = mean_1825 - 1.96 * std_1825 / np.sqrt(num_samples)\n",
    "left_1825"
   ]
  },
  {
   "cell_type": "code",
   "execution_count": 144,
   "id": "86875707",
   "metadata": {},
   "outputs": [
    {
     "data": {
      "text/plain": [
       "9481.694116382298"
      ]
     },
     "execution_count": 144,
     "metadata": {},
     "output_type": "execute_result"
    }
   ],
   "source": [
    "right_1825 = mean_1825 + 1.96 * std_1825 / np.sqrt(num_samples)\n",
    "right_1825"
   ]
  },
  {
   "cell_type": "code",
   "execution_count": 145,
   "id": "2fe7059e",
   "metadata": {},
   "outputs": [
    {
     "data": {
      "text/plain": [
       "<matplotlib.lines.Line2D at 0x28fbe582dc0>"
      ]
     },
     "execution_count": 145,
     "metadata": {},
     "output_type": "execute_result"
    },
    {
     "data": {
      "image/png": "[encoded data removed]",
      "text/plain": [
       "<Figure size 432x288 with 1 Axes>"
      ]
     },
     "metadata": {
      "needs_background": "light"
     },
     "output_type": "display_data"
    }
   ],
   "source": [
    "fig, ax = plt.subplots()\n",
    "sns.histplot(collect_sample_means)\n",
    "plt.axvline(left_1825)\n",
    "plt.axvline(right_1825)"
   ]
  },
  {
   "cell_type": "markdown",
   "id": "de6dc396",
   "metadata": {},
   "source": [
    "95% confidence that the sample mean for customers age between 18 and 25 is in 8857.63309614028, 9481.694116382298"
   ]
  },
  {
   "cell_type": "markdown",
   "id": "b0f322f4",
   "metadata": {},
   "source": [
    "# Analysing amount spent per transaction by customer age 26-35 "
   ]
  },
  {
   "cell_type": "code",
   "execution_count": 148,
   "id": "fc143bc6",
   "metadata": {},
   "outputs": [],
   "source": [
    "data_age_2635 = data[data[\"Age\"] == \"26-35\"]"
   ]
  },
  {
   "cell_type": "code",
   "execution_count": 150,
   "id": "30ae0afb",
   "metadata": {},
   "outputs": [
    {
     "data": {
      "text/plain": [
       "9252.690632869888"
      ]
     },
     "execution_count": 150,
     "metadata": {},
     "output_type": "execute_result"
    }
   ],
   "source": [
    "mean_2635 = data_age_2635[\"Purchase\"].mean()\n",
    "mean_2635"
   ]
  },
  {
   "cell_type": "code",
   "execution_count": 151,
   "id": "07a0ed4f",
   "metadata": {},
   "outputs": [
    {
     "data": {
      "text/plain": [
       "5010.527303002927"
      ]
     },
     "execution_count": 151,
     "metadata": {},
     "output_type": "execute_result"
    }
   ],
   "source": [
    "std_2635 = data_age_2635[\"Purchase\"].std()\n",
    "std_2635"
   ]
  },
  {
   "cell_type": "code",
   "execution_count": 152,
   "id": "09c0129a",
   "metadata": {},
   "outputs": [
    {
     "data": {
      "text/plain": [
       "<AxesSubplot:ylabel='Count'>"
      ]
     },
     "execution_count": 152,
     "metadata": {},
     "output_type": "execute_result"
    },
    {
     "data": {
      "image/png": "[encoded data removed]",
      "text/plain": [
       "<Figure size 432x288 with 1 Axes>"
      ]
     },
     "metadata": {
      "needs_background": "light"
     },
     "output_type": "display_data"
    }
   ],
   "source": [
    "num_samples = 1000\n",
    "collect_sample_means = []\n",
    "for i in range(1000):\n",
    "    sample_mean = data_age_2635[\"Purchase\"].sample(num_samples).mean()\n",
    "    collect_sample_means.append(sample_mean)\n",
    "sns.histplot(collect_sample_means)"
   ]
  },
  {
   "cell_type": "markdown",
   "id": "f5412a7c",
   "metadata": {},
   "source": [
    "# Confidence interval 95%"
   ]
  },
  {
   "cell_type": "code",
   "execution_count": 153,
   "id": "41ebcceb",
   "metadata": {},
   "outputs": [
    {
     "data": {
      "text/plain": [
       "8942.13493317327"
      ]
     },
     "execution_count": 153,
     "metadata": {},
     "output_type": "execute_result"
    }
   ],
   "source": [
    "left_2635 = mean_2635 - 1.96 * std_2635 / np.sqrt(num_samples)\n",
    "left_2635"
   ]
  },
  {
   "cell_type": "code",
   "execution_count": 154,
   "id": "aad8bc80",
   "metadata": {},
   "outputs": [
    {
     "data": {
      "text/plain": [
       "9563.246332566505"
      ]
     },
     "execution_count": 154,
     "metadata": {},
     "output_type": "execute_result"
    }
   ],
   "source": [
    "right_2635 = mean_2635 + 1.96 * std_2635 / np.sqrt(num_samples)\n",
    "right_2635"
   ]
  },
  {
   "cell_type": "code",
   "execution_count": 155,
   "id": "faa14226",
   "metadata": {},
   "outputs": [
    {
     "data": {
      "text/plain": [
       "<matplotlib.lines.Line2D at 0x28fbe6b7fd0>"
      ]
     },
     "execution_count": 155,
     "metadata": {},
     "output_type": "execute_result"
    },
    {
     "data": {
      "image/png": "[encoded data removed]",
      "text/plain": [
       "<Figure size 432x288 with 1 Axes>"
      ]
     },
     "metadata": {
      "needs_background": "light"
     },
     "output_type": "display_data"
    }
   ],
   "source": [
    "fig, ax = plt.subplots()\n",
    "sns.histplot(collect_sample_means)\n",
    "plt.axvline(left_1825)\n",
    "plt.axvline(right_1825)"
   ]
  },
  {
   "cell_type": "markdown",
   "id": "1e3353ab",
   "metadata": {},
   "source": [
    "95% confidence that the sample mean for customers age between 26 and 35 is in 8942.13493317327, 9563.246332566505"
   ]
  },
  {
   "cell_type": "markdown",
   "id": "2cd0075b",
   "metadata": {},
   "source": [
    "# Analysing amount spent per transaction by customer age 36-50"
   ]
  },
  {
   "cell_type": "code",
   "execution_count": 175,
   "id": "11552ab3",
   "metadata": {},
   "outputs": [],
   "source": [
    "data_age_3650 = data[(data[\"Age\"] == \"36-45\") |  (data[\"Age\"] == \"46-50\")]"
   ]
  },
  {
   "cell_type": "code",
   "execution_count": 177,
   "id": "277add34",
   "metadata": {},
   "outputs": [
    {
     "data": {
      "text/plain": [
       "9295.331742810537"
      ]
     },
     "execution_count": 177,
     "metadata": {},
     "output_type": "execute_result"
    }
   ],
   "source": [
    "mean_3650 = data_age_3650[\"Purchase\"].mean()\n",
    "mean_3650"
   ]
  },
  {
   "cell_type": "code",
   "execution_count": 178,
   "id": "ab83951a",
   "metadata": {},
   "outputs": [
    {
     "data": {
      "text/plain": [
       "5006.934323562506"
      ]
     },
     "execution_count": 178,
     "metadata": {},
     "output_type": "execute_result"
    }
   ],
   "source": [
    "std_3650 = data_age_3650[\"Purchase\"].std()\n",
    "std_3650"
   ]
  },
  {
   "cell_type": "code",
   "execution_count": 179,
   "id": "c4e72158",
   "metadata": {},
   "outputs": [
    {
     "data": {
      "text/plain": [
       "<AxesSubplot:ylabel='Count'>"
      ]
     },
     "execution_count": 179,
     "metadata": {},
     "output_type": "execute_result"
    },
    {
     "data": {
      "image/png": "[encoded data removed]",
      "text/plain": [
       "<Figure size 432x288 with 1 Axes>"
      ]
     },
     "metadata": {
      "needs_background": "light"
     },
     "output_type": "display_data"
    }
   ],
   "source": [
    "num_samples = 1000\n",
    "collect_sample_means = []\n",
    "for i in range(1000):\n",
    "    sample_mean = data_age_3650[\"Purchase\"].sample(num_samples).mean()\n",
    "    collect_sample_means.append(sample_mean)\n",
    "sns.histplot(collect_sample_means)"
   ]
  },
  {
   "cell_type": "markdown",
   "id": "cbef56ee",
   "metadata": {},
   "source": [
    "# Confidence interval 95%"
   ]
  },
  {
   "cell_type": "code",
   "execution_count": 181,
   "id": "6ff15f2b",
   "metadata": {},
   "outputs": [
    {
     "data": {
      "text/plain": [
       "8984.99873828683"
      ]
     },
     "execution_count": 181,
     "metadata": {},
     "output_type": "execute_result"
    }
   ],
   "source": [
    "left_3650 = mean_3650 - 1.96 * std_3650 / np.sqrt(num_samples)\n",
    "left_3650"
   ]
  },
  {
   "cell_type": "code",
   "execution_count": 182,
   "id": "7b81ce79",
   "metadata": {},
   "outputs": [
    {
     "data": {
      "text/plain": [
       "9605.664747334244"
      ]
     },
     "execution_count": 182,
     "metadata": {},
     "output_type": "execute_result"
    }
   ],
   "source": [
    "right_3650 = mean_3650 + 1.96 * std_3650 / np.sqrt(num_samples)\n",
    "right_3650"
   ]
  },
  {
   "cell_type": "code",
   "execution_count": 183,
   "id": "5fe6180b",
   "metadata": {},
   "outputs": [
    {
     "data": {
      "text/plain": [
       "<matplotlib.lines.Line2D at 0x28fcb1d0940>"
      ]
     },
     "execution_count": 183,
     "metadata": {},
     "output_type": "execute_result"
    },
    {
     "data": {
      "image/png": "[encoded data removed]",
      "text/plain": [
       "<Figure size 432x288 with 1 Axes>"
      ]
     },
     "metadata": {
      "needs_background": "light"
     },
     "output_type": "display_data"
    }
   ],
   "source": [
    "fig, ax = plt.subplots()\n",
    "sns.histplot(collect_sample_means)\n",
    "plt.axvline(left_3650)\n",
    "plt.axvline(right_3650)"
   ]
  },
  {
   "cell_type": "markdown",
   "id": "00368b3a",
   "metadata": {},
   "source": [
    "95% confidence that the sample mean for customers age between 26 and 35 is in 8984.99873828683, 9605.664747334244"
   ]
  },
  {
   "cell_type": "markdown",
   "id": "a6fe9834",
   "metadata": {},
   "source": [
    "# Analysing amount spent per transaction by customer age above 51"
   ]
  },
  {
   "cell_type": "code",
   "execution_count": 184,
   "id": "e36a28b8",
   "metadata": {},
   "outputs": [],
   "source": [
    "data_age_a51 = data[(data[\"Age\"] == \"51-55\") | (data[\"Age\"] == \"55+\")]"
   ]
  },
  {
   "cell_type": "code",
   "execution_count": 186,
   "id": "1fb8b36b",
   "metadata": {},
   "outputs": [
    {
     "data": {
      "text/plain": [
       "9463.661678193484"
      ]
     },
     "execution_count": 186,
     "metadata": {},
     "output_type": "execute_result"
    }
   ],
   "source": [
    "mean_a51 = data_age_a51[\"Purchase\"].mean()\n",
    "mean_a51"
   ]
  },
  {
   "cell_type": "code",
   "execution_count": 187,
   "id": "39031c25",
   "metadata": {},
   "outputs": [
    {
     "data": {
      "text/plain": [
       "5061.161476125099"
      ]
     },
     "execution_count": 187,
     "metadata": {},
     "output_type": "execute_result"
    }
   ],
   "source": [
    "std_a51 = data_age_a51[\"Purchase\"].std()\n",
    "std_a51"
   ]
  },
  {
   "cell_type": "code",
   "execution_count": 188,
   "id": "3f446feb",
   "metadata": {},
   "outputs": [
    {
     "data": {
      "text/plain": [
       "<AxesSubplot:ylabel='Count'>"
      ]
     },
     "execution_count": 188,
     "metadata": {},
     "output_type": "execute_result"
    },
    {
     "data": {
      "image/png": "[encoded data removed]",
      "text/plain": [
       "<Figure size 432x288 with 1 Axes>"
      ]
     },
     "metadata": {
      "needs_background": "light"
     },
     "output_type": "display_data"
    }
   ],
   "source": [
    "num_samples = 1000\n",
    "collect_sample_means = []\n",
    "for i in range(1000):\n",
    "    sample_mean = data_age_a51[\"Purchase\"].sample(num_samples).mean()\n",
    "    collect_sample_means.append(sample_mean)\n",
    "sns.histplot(collect_sample_means)"
   ]
  },
  {
   "cell_type": "markdown",
   "id": "a4e70787",
   "metadata": {},
   "source": [
    "# Confidence interval 95%"
   ]
  },
  {
   "cell_type": "code",
   "execution_count": 189,
   "id": "b6ab3f5a",
   "metadata": {},
   "outputs": [
    {
     "data": {
      "text/plain": [
       "9149.967639932562"
      ]
     },
     "execution_count": 189,
     "metadata": {},
     "output_type": "execute_result"
    }
   ],
   "source": [
    "left_a51 = mean_a51 - 1.96 * std_a51 / np.sqrt(num_samples)\n",
    "left_a51"
   ]
  },
  {
   "cell_type": "code",
   "execution_count": 190,
   "id": "7d766f36",
   "metadata": {},
   "outputs": [
    {
     "data": {
      "text/plain": [
       "9777.355716454407"
      ]
     },
     "execution_count": 190,
     "metadata": {},
     "output_type": "execute_result"
    }
   ],
   "source": [
    "right_a51 = mean_a51 + 1.96 * std_a51 / np.sqrt(num_samples)\n",
    "right_a51"
   ]
  },
  {
   "cell_type": "code",
   "execution_count": 191,
   "id": "aec59ab9",
   "metadata": {},
   "outputs": [
    {
     "data": {
      "text/plain": [
       "<matplotlib.lines.Line2D at 0x28fcb76b4c0>"
      ]
     },
     "execution_count": 191,
     "metadata": {},
     "output_type": "execute_result"
    },
    {
     "data": {
      "image/png": "[encoded data removed]",
      "text/plain": [
       "<Figure size 432x288 with 1 Axes>"
      ]
     },
     "metadata": {
      "needs_background": "light"
     },
     "output_type": "display_data"
    }
   ],
   "source": [
    "fig, ax = plt.subplots()\n",
    "sns.histplot(collect_sample_means)\n",
    "plt.axvline(left_a51)\n",
    "plt.axvline(right_a51)"
   ]
  },
  {
   "cell_type": "markdown",
   "id": "86d1cf38",
   "metadata": {},
   "source": [
    "95% confidence that the sample mean for customers age between 26 and 35 is in 9149.967639932562, 9777.355716454407"
   ]
  },
  {
   "cell_type": "markdown",
   "id": "e8871474",
   "metadata": {},
   "source": [
    "# INSIGHTS"
   ]
  },
  {
   "cell_type": "markdown",
   "id": "89185c24",
   "metadata": {},
   "source": [
    "- There are 5891 Unique User_ID\n",
    "- There are 3631 Unique products\n",
    "- Max purchase value 23961\n",
    "- Min purchase Value 12\n",
    "\n",
    "\n",
    "- Analysing amount spent per transaction by male customer\n",
    "-- 90% confidence that the sample mean for male customers is in 9172.79425444595, 9643.80427520445\n",
    "-- 95% confidence that the sample mean for male customers is in 9121.909069297339, 9121.909069297339\n",
    "-- 99% confidence that the sample mean for male customers is in 9022.87619313786, 9812.079650142101\n",
    "\n",
    "\n",
    "- Analysing amount spent per transaction by female customer\n",
    "-- 90% confidence that the sample mean for female customers is in 8486.727581105002, 8927.68055455247\n",
    "-- 95% confidence that the sample mean for female customers is in 8439.089584657344, 9030.041945653607\n",
    "-- 99% confidence that the sample mean for female customers is in 8346.376395368388, 8346.376395368388\n",
    "\n",
    "\n",
    "- Analysing amount spent per transaction by married customer\n",
    "-- 95% confidence that the sample mean for married customers is in 8950.224053059785, 9572.125095104962\n",
    "\n",
    "\n",
    "- Analysing amount spent per transaction by unmarried customer\n",
    "-- 95% confidence that the sample mean for unmarried customers is in 8954.309370383227, 9577.505867459786\n",
    "\n",
    "\n",
    "- Analysing amount spent per transaction by customer age 0-17\n",
    "-- 95% confidence that the sample mean for customers below age 17 is in 8616.674509826526, 9250.254771063423\n",
    "\n",
    "\n",
    "- Analysing amount spent per transaction by customer age 18-25\n",
    "-- 95% confidence that the sample mean for customers age between 18 and 25 is in 8857.63309614028, 9481.694116382298\n",
    "\n",
    "\n",
    "- Analysing amount spent per transaction by customer age 26-35\n",
    "-- 95% confidence that the sample mean for customers age between 26 and 35 is in 8942.13493317327, 9563.246332566505\n",
    "\n",
    "\n",
    "- Analysing amount spent per transaction by customer age above 51\n",
    "-- 95% confidence that the sample mean for customers age between 26 and 35 is in 9149.967639932562, 9777.355716454407\n"
   ]
  },
  {
   "cell_type": "markdown",
   "id": "dcee87ea",
   "metadata": {},
   "source": [
    "# RECOMMENDATIONS"
   ]
  },
  {
   "cell_type": "markdown",
   "id": "b9388ccf",
   "metadata": {},
   "source": [
    "- By looking at the confidence interval of male and female customers, Male customers tend to buy higher priced products than female customers\n",
    "-- It is suggested that to focus on male customers for marketing of higher priced products and focus on female for marketing lower price products\n",
    "\n",
    "\n",
    "- By looking at the confidence interval of customers at diffrent age bins,\n",
    "- People above age 51 tend to buy higher priced products\n",
    "-- As the people are older the cost per transaction if fairly high, this could be because of higher needs of older people or medicines which are costly\n",
    "-- It is suggest to focus the kind of products which are a necesity for elder people like medicines.\n",
    "- people below age 17 tend to buy lower priced products\n",
    "-- As the people are younger the cost per transaction if lesser than other ages, this is because younger people can't spend moreas they are not earning.\n",
    "-- It is suggested to focus this age bin people on marketing of relevent lower priced products.\n",
    "- People between age 18 and 35 tend to buy medium priced products\n",
    "-- As the people are middle aged and mostly are working class, the tend to buy products that are fairly priced and not spend to much on a product.\n",
    "-- It is suggested that to focus on resonably priced products for this age group."
   ]
  }
 ],
 "metadata": {
  "kernelspec": {
   "display_name": "Python 3 (ipykernel)",
   "language": "python",
   "name": "python3"
  },
  "language_info": {
   "codemirror_mode": {
    "name": "ipython",
    "version": 3
   },
   "file_extension": ".py",
   "mimetype": "text/x-python",
   "name": "python",
   "nbconvert_exporter": "python",
   "pygments_lexer": "ipython3",
   "version": "3.9.7"
  }
 },
 "nbformat": 4,
 "nbformat_minor": 5
}
