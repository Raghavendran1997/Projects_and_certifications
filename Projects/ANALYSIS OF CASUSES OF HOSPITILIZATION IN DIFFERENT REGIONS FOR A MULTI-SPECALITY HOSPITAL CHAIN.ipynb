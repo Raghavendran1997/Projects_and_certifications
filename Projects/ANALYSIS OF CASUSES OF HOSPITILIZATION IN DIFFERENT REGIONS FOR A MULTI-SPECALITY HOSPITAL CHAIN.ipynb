{
 "cells": [
  {
   "cell_type": "markdown",
   "id": "a7292498",
   "metadata": {},
   "source": [
    "# ANALYSIS OF CASUSES OF HOSPITILIZATION IN DIFFERENT REGIONS FOR A MULTI-SPECALITY HOSPITAL CHAIN."
   ]
  },
  {
   "cell_type": "markdown",
   "id": "3beea70d",
   "metadata": {},
   "source": [
    "Apollo Hospitals was established in 1983, renowned as the architect of modern healthcare in India. As the nation's first corporate hospital, Apollo Hospitals is acclaimed for pioneering the private healthcare revolution in the country.\n"
   ]
  },
  {
   "cell_type": "markdown",
   "id": "14c4bce5",
   "metadata": {},
   "source": [
    "# BUSINESS PROBLEM"
   ]
  },
  {
   "cell_type": "markdown",
   "id": "a2217e57",
   "metadata": {},
   "source": [
    "As a data scientist working at Apollo 24/7, the ultimate goal is to tease out meaningful and actionable insights from Patient-level collected data.\n",
    "\n",
    "\n",
    "You can help Apollo hospitals to be more efficient, to influence diagnostic and treatment processes, to map the spread of a pandemic."
   ]
  },
  {
   "cell_type": "code",
   "execution_count": 201,
   "id": "3ca49d93",
   "metadata": {},
   "outputs": [],
   "source": [
    "import numpy as np\n",
    "import pandas as pd \n",
    "import seaborn as sns\n",
    "import matplotlib.pyplot as plt\n",
    "\n",
    "from scipy.stats import levene\n",
    "from scipy.stats import shapiro\n",
    "from scipy.stats import ttest_ind\n",
    "from scipy.stats import f_oneway, kruskal\n",
    "from scipy.stats import chi2_contingency"
   ]
  },
  {
   "cell_type": "markdown",
   "id": "00479404",
   "metadata": {},
   "source": [
    "# DATASET"
   ]
  },
  {
   "cell_type": "code",
   "execution_count": 2,
   "id": "e2f973d5",
   "metadata": {},
   "outputs": [],
   "source": [
    "data = pd.read_csv(\"scaler_apollo_hospitals.CSV\")"
   ]
  },
  {
   "cell_type": "code",
   "execution_count": 3,
   "id": "6237fd26",
   "metadata": {},
   "outputs": [
    {
     "data": {
      "text/html": [
       "<div>\n",
       "<style scoped>\n",
       "    .dataframe tbody tr th:only-of-type {\n",
       "        vertical-align: middle;\n",
       "    }\n",
       "\n",
       "    .dataframe tbody tr th {\n",
       "        vertical-align: top;\n",
       "    }\n",
       "\n",
       "    .dataframe thead th {\n",
       "        text-align: right;\n",
       "    }\n",
       "</style>\n",
       "<table border=\"1\" class=\"dataframe\">\n",
       "  <thead>\n",
       "    <tr style=\"text-align: right;\">\n",
       "      <th></th>\n",
       "      <th>Unnamed: 0</th>\n",
       "      <th>age</th>\n",
       "      <th>sex</th>\n",
       "      <th>smoker</th>\n",
       "      <th>region</th>\n",
       "      <th>viral load</th>\n",
       "      <th>severity level</th>\n",
       "      <th>hospitalization charges</th>\n",
       "    </tr>\n",
       "  </thead>\n",
       "  <tbody>\n",
       "    <tr>\n",
       "      <th>0</th>\n",
       "      <td>0</td>\n",
       "      <td>19</td>\n",
       "      <td>female</td>\n",
       "      <td>yes</td>\n",
       "      <td>southwest</td>\n",
       "      <td>9.30</td>\n",
       "      <td>0</td>\n",
       "      <td>42212</td>\n",
       "    </tr>\n",
       "    <tr>\n",
       "      <th>1</th>\n",
       "      <td>1</td>\n",
       "      <td>18</td>\n",
       "      <td>male</td>\n",
       "      <td>no</td>\n",
       "      <td>southeast</td>\n",
       "      <td>11.26</td>\n",
       "      <td>1</td>\n",
       "      <td>4314</td>\n",
       "    </tr>\n",
       "    <tr>\n",
       "      <th>2</th>\n",
       "      <td>2</td>\n",
       "      <td>28</td>\n",
       "      <td>male</td>\n",
       "      <td>no</td>\n",
       "      <td>southeast</td>\n",
       "      <td>11.00</td>\n",
       "      <td>3</td>\n",
       "      <td>11124</td>\n",
       "    </tr>\n",
       "    <tr>\n",
       "      <th>3</th>\n",
       "      <td>3</td>\n",
       "      <td>33</td>\n",
       "      <td>male</td>\n",
       "      <td>no</td>\n",
       "      <td>northwest</td>\n",
       "      <td>7.57</td>\n",
       "      <td>0</td>\n",
       "      <td>54961</td>\n",
       "    </tr>\n",
       "    <tr>\n",
       "      <th>4</th>\n",
       "      <td>4</td>\n",
       "      <td>32</td>\n",
       "      <td>male</td>\n",
       "      <td>no</td>\n",
       "      <td>northwest</td>\n",
       "      <td>9.63</td>\n",
       "      <td>0</td>\n",
       "      <td>9667</td>\n",
       "    </tr>\n",
       "  </tbody>\n",
       "</table>\n",
       "</div>"
      ],
      "text/plain": [
       "   Unnamed: 0  age     sex smoker     region  viral load  severity level  \\\n",
       "0           0   19  female    yes  southwest        9.30               0   \n",
       "1           1   18    male     no  southeast       11.26               1   \n",
       "2           2   28    male     no  southeast       11.00               3   \n",
       "3           3   33    male     no  northwest        7.57               0   \n",
       "4           4   32    male     no  northwest        9.63               0   \n",
       "\n",
       "   hospitalization charges  \n",
       "0                    42212  \n",
       "1                     4314  \n",
       "2                    11124  \n",
       "3                    54961  \n",
       "4                     9667  "
      ]
     },
     "execution_count": 3,
     "metadata": {},
     "output_type": "execute_result"
    }
   ],
   "source": [
    "data.head()"
   ]
  },
  {
   "cell_type": "code",
   "execution_count": 4,
   "id": "86539a2a",
   "metadata": {},
   "outputs": [
    {
     "data": {
      "text/plain": [
       "(1338, 8)"
      ]
     },
     "execution_count": 4,
     "metadata": {},
     "output_type": "execute_result"
    }
   ],
   "source": [
    "data.shape"
   ]
  },
  {
   "cell_type": "code",
   "execution_count": 6,
   "id": "69f793ca",
   "metadata": {},
   "outputs": [
    {
     "name": "stdout",
     "output_type": "stream",
     "text": [
      "<class 'pandas.core.frame.DataFrame'>\n",
      "RangeIndex: 1338 entries, 0 to 1337\n",
      "Data columns (total 8 columns):\n",
      " #   Column                   Non-Null Count  Dtype  \n",
      "---  ------                   --------------  -----  \n",
      " 0   Unnamed: 0               1338 non-null   int64  \n",
      " 1   age                      1338 non-null   int64  \n",
      " 2   sex                      1338 non-null   object \n",
      " 3   smoker                   1338 non-null   object \n",
      " 4   region                   1338 non-null   object \n",
      " 5   viral load               1338 non-null   float64\n",
      " 6   severity level           1338 non-null   int64  \n",
      " 7   hospitalization charges  1338 non-null   int64  \n",
      "dtypes: float64(1), int64(4), object(3)\n",
      "memory usage: 83.8+ KB\n"
     ]
    }
   ],
   "source": [
    "data.info()"
   ]
  },
  {
   "cell_type": "code",
   "execution_count": 7,
   "id": "de1a3ba2",
   "metadata": {},
   "outputs": [
    {
     "data": {
      "text/html": [
       "<div>\n",
       "<style scoped>\n",
       "    .dataframe tbody tr th:only-of-type {\n",
       "        vertical-align: middle;\n",
       "    }\n",
       "\n",
       "    .dataframe tbody tr th {\n",
       "        vertical-align: top;\n",
       "    }\n",
       "\n",
       "    .dataframe thead th {\n",
       "        text-align: right;\n",
       "    }\n",
       "</style>\n",
       "<table border=\"1\" class=\"dataframe\">\n",
       "  <thead>\n",
       "    <tr style=\"text-align: right;\">\n",
       "      <th></th>\n",
       "      <th>Unnamed: 0</th>\n",
       "      <th>age</th>\n",
       "      <th>viral load</th>\n",
       "      <th>severity level</th>\n",
       "      <th>hospitalization charges</th>\n",
       "    </tr>\n",
       "  </thead>\n",
       "  <tbody>\n",
       "    <tr>\n",
       "      <th>count</th>\n",
       "      <td>1338.000000</td>\n",
       "      <td>1338.000000</td>\n",
       "      <td>1338.000000</td>\n",
       "      <td>1338.000000</td>\n",
       "      <td>1338.000000</td>\n",
       "    </tr>\n",
       "    <tr>\n",
       "      <th>mean</th>\n",
       "      <td>668.500000</td>\n",
       "      <td>39.207025</td>\n",
       "      <td>10.221233</td>\n",
       "      <td>1.094918</td>\n",
       "      <td>33176.058296</td>\n",
       "    </tr>\n",
       "    <tr>\n",
       "      <th>std</th>\n",
       "      <td>386.391641</td>\n",
       "      <td>14.049960</td>\n",
       "      <td>2.032796</td>\n",
       "      <td>1.205493</td>\n",
       "      <td>30275.029296</td>\n",
       "    </tr>\n",
       "    <tr>\n",
       "      <th>min</th>\n",
       "      <td>0.000000</td>\n",
       "      <td>18.000000</td>\n",
       "      <td>5.320000</td>\n",
       "      <td>0.000000</td>\n",
       "      <td>2805.000000</td>\n",
       "    </tr>\n",
       "    <tr>\n",
       "      <th>25%</th>\n",
       "      <td>334.250000</td>\n",
       "      <td>27.000000</td>\n",
       "      <td>8.762500</td>\n",
       "      <td>0.000000</td>\n",
       "      <td>11851.000000</td>\n",
       "    </tr>\n",
       "    <tr>\n",
       "      <th>50%</th>\n",
       "      <td>668.500000</td>\n",
       "      <td>39.000000</td>\n",
       "      <td>10.130000</td>\n",
       "      <td>1.000000</td>\n",
       "      <td>23455.000000</td>\n",
       "    </tr>\n",
       "    <tr>\n",
       "      <th>75%</th>\n",
       "      <td>1002.750000</td>\n",
       "      <td>51.000000</td>\n",
       "      <td>11.567500</td>\n",
       "      <td>2.000000</td>\n",
       "      <td>41599.500000</td>\n",
       "    </tr>\n",
       "    <tr>\n",
       "      <th>max</th>\n",
       "      <td>1337.000000</td>\n",
       "      <td>64.000000</td>\n",
       "      <td>17.710000</td>\n",
       "      <td>5.000000</td>\n",
       "      <td>159426.000000</td>\n",
       "    </tr>\n",
       "  </tbody>\n",
       "</table>\n",
       "</div>"
      ],
      "text/plain": [
       "        Unnamed: 0          age   viral load  severity level  \\\n",
       "count  1338.000000  1338.000000  1338.000000     1338.000000   \n",
       "mean    668.500000    39.207025    10.221233        1.094918   \n",
       "std     386.391641    14.049960     2.032796        1.205493   \n",
       "min       0.000000    18.000000     5.320000        0.000000   \n",
       "25%     334.250000    27.000000     8.762500        0.000000   \n",
       "50%     668.500000    39.000000    10.130000        1.000000   \n",
       "75%    1002.750000    51.000000    11.567500        2.000000   \n",
       "max    1337.000000    64.000000    17.710000        5.000000   \n",
       "\n",
       "       hospitalization charges  \n",
       "count              1338.000000  \n",
       "mean              33176.058296  \n",
       "std               30275.029296  \n",
       "min                2805.000000  \n",
       "25%               11851.000000  \n",
       "50%               23455.000000  \n",
       "75%               41599.500000  \n",
       "max              159426.000000  "
      ]
     },
     "execution_count": 7,
     "metadata": {},
     "output_type": "execute_result"
    }
   ],
   "source": [
    "data.describe()"
   ]
  },
  {
   "cell_type": "code",
   "execution_count": 8,
   "id": "83b80223",
   "metadata": {},
   "outputs": [
    {
     "data": {
      "text/html": [
       "<div>\n",
       "<style scoped>\n",
       "    .dataframe tbody tr th:only-of-type {\n",
       "        vertical-align: middle;\n",
       "    }\n",
       "\n",
       "    .dataframe tbody tr th {\n",
       "        vertical-align: top;\n",
       "    }\n",
       "\n",
       "    .dataframe thead th {\n",
       "        text-align: right;\n",
       "    }\n",
       "</style>\n",
       "<table border=\"1\" class=\"dataframe\">\n",
       "  <thead>\n",
       "    <tr style=\"text-align: right;\">\n",
       "      <th></th>\n",
       "      <th>Unnamed: 0</th>\n",
       "      <th>age</th>\n",
       "      <th>sex</th>\n",
       "      <th>smoker</th>\n",
       "      <th>region</th>\n",
       "      <th>viral load</th>\n",
       "      <th>severity level</th>\n",
       "      <th>hospitalization charges</th>\n",
       "    </tr>\n",
       "  </thead>\n",
       "  <tbody>\n",
       "    <tr>\n",
       "      <th>718</th>\n",
       "      <td>718</td>\n",
       "      <td>51</td>\n",
       "      <td>female</td>\n",
       "      <td>no</td>\n",
       "      <td>northwest</td>\n",
       "      <td>12.22</td>\n",
       "      <td>2</td>\n",
       "      <td>27120</td>\n",
       "    </tr>\n",
       "    <tr>\n",
       "      <th>1233</th>\n",
       "      <td>1233</td>\n",
       "      <td>58</td>\n",
       "      <td>male</td>\n",
       "      <td>no</td>\n",
       "      <td>southwest</td>\n",
       "      <td>7.77</td>\n",
       "      <td>0</td>\n",
       "      <td>28364</td>\n",
       "    </tr>\n",
       "    <tr>\n",
       "      <th>385</th>\n",
       "      <td>385</td>\n",
       "      <td>19</td>\n",
       "      <td>male</td>\n",
       "      <td>no</td>\n",
       "      <td>southwest</td>\n",
       "      <td>11.47</td>\n",
       "      <td>0</td>\n",
       "      <td>3155</td>\n",
       "    </tr>\n",
       "    <tr>\n",
       "      <th>853</th>\n",
       "      <td>853</td>\n",
       "      <td>53</td>\n",
       "      <td>female</td>\n",
       "      <td>no</td>\n",
       "      <td>northeast</td>\n",
       "      <td>7.92</td>\n",
       "      <td>2</td>\n",
       "      <td>29324</td>\n",
       "    </tr>\n",
       "    <tr>\n",
       "      <th>913</th>\n",
       "      <td>913</td>\n",
       "      <td>44</td>\n",
       "      <td>female</td>\n",
       "      <td>no</td>\n",
       "      <td>southwest</td>\n",
       "      <td>9.17</td>\n",
       "      <td>1</td>\n",
       "      <td>19067</td>\n",
       "    </tr>\n",
       "    <tr>\n",
       "      <th>810</th>\n",
       "      <td>810</td>\n",
       "      <td>46</td>\n",
       "      <td>female</td>\n",
       "      <td>no</td>\n",
       "      <td>southwest</td>\n",
       "      <td>10.27</td>\n",
       "      <td>3</td>\n",
       "      <td>23537</td>\n",
       "    </tr>\n",
       "    <tr>\n",
       "      <th>240</th>\n",
       "      <td>240</td>\n",
       "      <td>23</td>\n",
       "      <td>female</td>\n",
       "      <td>yes</td>\n",
       "      <td>northeast</td>\n",
       "      <td>12.22</td>\n",
       "      <td>2</td>\n",
       "      <td>96279</td>\n",
       "    </tr>\n",
       "    <tr>\n",
       "      <th>793</th>\n",
       "      <td>793</td>\n",
       "      <td>53</td>\n",
       "      <td>male</td>\n",
       "      <td>yes</td>\n",
       "      <td>southeast</td>\n",
       "      <td>6.97</td>\n",
       "      <td>0</td>\n",
       "      <td>52990</td>\n",
       "    </tr>\n",
       "    <tr>\n",
       "      <th>333</th>\n",
       "      <td>333</td>\n",
       "      <td>56</td>\n",
       "      <td>female</td>\n",
       "      <td>no</td>\n",
       "      <td>northeast</td>\n",
       "      <td>9.60</td>\n",
       "      <td>0</td>\n",
       "      <td>29146</td>\n",
       "    </tr>\n",
       "    <tr>\n",
       "      <th>4</th>\n",
       "      <td>4</td>\n",
       "      <td>32</td>\n",
       "      <td>male</td>\n",
       "      <td>no</td>\n",
       "      <td>northwest</td>\n",
       "      <td>9.63</td>\n",
       "      <td>0</td>\n",
       "      <td>9667</td>\n",
       "    </tr>\n",
       "  </tbody>\n",
       "</table>\n",
       "</div>"
      ],
      "text/plain": [
       "      Unnamed: 0  age     sex smoker     region  viral load  severity level  \\\n",
       "718          718   51  female     no  northwest       12.22               2   \n",
       "1233        1233   58    male     no  southwest        7.77               0   \n",
       "385          385   19    male     no  southwest       11.47               0   \n",
       "853          853   53  female     no  northeast        7.92               2   \n",
       "913          913   44  female     no  southwest        9.17               1   \n",
       "810          810   46  female     no  southwest       10.27               3   \n",
       "240          240   23  female    yes  northeast       12.22               2   \n",
       "793          793   53    male    yes  southeast        6.97               0   \n",
       "333          333   56  female     no  northeast        9.60               0   \n",
       "4              4   32    male     no  northwest        9.63               0   \n",
       "\n",
       "      hospitalization charges  \n",
       "718                     27120  \n",
       "1233                    28364  \n",
       "385                      3155  \n",
       "853                     29324  \n",
       "913                     19067  \n",
       "810                     23537  \n",
       "240                     96279  \n",
       "793                     52990  \n",
       "333                     29146  \n",
       "4                        9667  "
      ]
     },
     "execution_count": 8,
     "metadata": {},
     "output_type": "execute_result"
    }
   ],
   "source": [
    "data.sample(10)"
   ]
  },
  {
   "cell_type": "code",
   "execution_count": 10,
   "id": "8195a34b",
   "metadata": {},
   "outputs": [],
   "source": [
    "data.drop(columns = [\"Unnamed: 0\"], inplace = True)"
   ]
  },
  {
   "cell_type": "code",
   "execution_count": 11,
   "id": "f06fa0e2",
   "metadata": {},
   "outputs": [
    {
     "data": {
      "text/html": [
       "<div>\n",
       "<style scoped>\n",
       "    .dataframe tbody tr th:only-of-type {\n",
       "        vertical-align: middle;\n",
       "    }\n",
       "\n",
       "    .dataframe tbody tr th {\n",
       "        vertical-align: top;\n",
       "    }\n",
       "\n",
       "    .dataframe thead th {\n",
       "        text-align: right;\n",
       "    }\n",
       "</style>\n",
       "<table border=\"1\" class=\"dataframe\">\n",
       "  <thead>\n",
       "    <tr style=\"text-align: right;\">\n",
       "      <th></th>\n",
       "      <th>age</th>\n",
       "      <th>sex</th>\n",
       "      <th>smoker</th>\n",
       "      <th>region</th>\n",
       "      <th>viral load</th>\n",
       "      <th>severity level</th>\n",
       "      <th>hospitalization charges</th>\n",
       "    </tr>\n",
       "  </thead>\n",
       "  <tbody>\n",
       "    <tr>\n",
       "      <th>0</th>\n",
       "      <td>19</td>\n",
       "      <td>female</td>\n",
       "      <td>yes</td>\n",
       "      <td>southwest</td>\n",
       "      <td>9.30</td>\n",
       "      <td>0</td>\n",
       "      <td>42212</td>\n",
       "    </tr>\n",
       "    <tr>\n",
       "      <th>1</th>\n",
       "      <td>18</td>\n",
       "      <td>male</td>\n",
       "      <td>no</td>\n",
       "      <td>southeast</td>\n",
       "      <td>11.26</td>\n",
       "      <td>1</td>\n",
       "      <td>4314</td>\n",
       "    </tr>\n",
       "    <tr>\n",
       "      <th>2</th>\n",
       "      <td>28</td>\n",
       "      <td>male</td>\n",
       "      <td>no</td>\n",
       "      <td>southeast</td>\n",
       "      <td>11.00</td>\n",
       "      <td>3</td>\n",
       "      <td>11124</td>\n",
       "    </tr>\n",
       "    <tr>\n",
       "      <th>3</th>\n",
       "      <td>33</td>\n",
       "      <td>male</td>\n",
       "      <td>no</td>\n",
       "      <td>northwest</td>\n",
       "      <td>7.57</td>\n",
       "      <td>0</td>\n",
       "      <td>54961</td>\n",
       "    </tr>\n",
       "    <tr>\n",
       "      <th>4</th>\n",
       "      <td>32</td>\n",
       "      <td>male</td>\n",
       "      <td>no</td>\n",
       "      <td>northwest</td>\n",
       "      <td>9.63</td>\n",
       "      <td>0</td>\n",
       "      <td>9667</td>\n",
       "    </tr>\n",
       "  </tbody>\n",
       "</table>\n",
       "</div>"
      ],
      "text/plain": [
       "   age     sex smoker     region  viral load  severity level  \\\n",
       "0   19  female    yes  southwest        9.30               0   \n",
       "1   18    male     no  southeast       11.26               1   \n",
       "2   28    male     no  southeast       11.00               3   \n",
       "3   33    male     no  northwest        7.57               0   \n",
       "4   32    male     no  northwest        9.63               0   \n",
       "\n",
       "   hospitalization charges  \n",
       "0                    42212  \n",
       "1                     4314  \n",
       "2                    11124  \n",
       "3                    54961  \n",
       "4                     9667  "
      ]
     },
     "execution_count": 11,
     "metadata": {},
     "output_type": "execute_result"
    }
   ],
   "source": [
    "data.head()"
   ]
  },
  {
   "cell_type": "markdown",
   "id": "ffc9023b",
   "metadata": {},
   "source": [
    "# AGE"
   ]
  },
  {
   "cell_type": "markdown",
   "id": "0016f045",
   "metadata": {},
   "source": [
    "This is an integer indicating the age of the primary beneficiary (excluding those above 64 years, since they are generally covered by the government)."
   ]
  },
  {
   "cell_type": "code",
   "execution_count": 13,
   "id": "5f0b5160",
   "metadata": {},
   "outputs": [
    {
     "data": {
      "text/plain": [
       "count    1338.000000\n",
       "mean       39.207025\n",
       "std        14.049960\n",
       "min        18.000000\n",
       "25%        27.000000\n",
       "50%        39.000000\n",
       "75%        51.000000\n",
       "max        64.000000\n",
       "Name: age, dtype: float64"
      ]
     },
     "execution_count": 13,
     "metadata": {},
     "output_type": "execute_result"
    }
   ],
   "source": [
    "data[\"age\"].describe()"
   ]
  },
  {
   "cell_type": "code",
   "execution_count": 14,
   "id": "6f532442",
   "metadata": {},
   "outputs": [
    {
     "data": {
      "text/plain": [
       "<AxesSubplot:xlabel='age'>"
      ]
     },
     "execution_count": 14,
     "metadata": {},
     "output_type": "execute_result"
    },
    {
     "data": {
      "image/png": "[encoded data removed]",
      "text/plain": [
       "<Figure size 432x288 with 1 Axes>"
      ]
     },
     "metadata": {
      "needs_background": "light"
     },
     "output_type": "display_data"
    }
   ],
   "source": [
    "sns.boxplot(x = data[\"age\"])"
   ]
  },
  {
   "cell_type": "markdown",
   "id": "1516ea44",
   "metadata": {},
   "source": [
    "# SEX"
   ]
  },
  {
   "cell_type": "markdown",
   "id": "9971b633",
   "metadata": {},
   "source": [
    "This is the policy holder's gender, either male or female."
   ]
  },
  {
   "cell_type": "code",
   "execution_count": 15,
   "id": "4e552885",
   "metadata": {},
   "outputs": [
    {
     "data": {
      "text/plain": [
       "male      676\n",
       "female    662\n",
       "Name: sex, dtype: int64"
      ]
     },
     "execution_count": 15,
     "metadata": {},
     "output_type": "execute_result"
    }
   ],
   "source": [
    "data[\"sex\"].value_counts()"
   ]
  },
  {
   "cell_type": "code",
   "execution_count": 17,
   "id": "ed4a0899",
   "metadata": {},
   "outputs": [
    {
     "data": {
      "text/plain": [
       "<AxesSubplot:xlabel='sex', ylabel='count'>"
      ]
     },
     "execution_count": 17,
     "metadata": {},
     "output_type": "execute_result"
    },
    {
     "data": {
      "image/png": "[encoded data removed]",
      "text/plain": [
       "<Figure size 432x288 with 1 Axes>"
      ]
     },
     "metadata": {
      "needs_background": "light"
     },
     "output_type": "display_data"
    }
   ],
   "source": [
    "sns.countplot(x = data[\"sex\"])"
   ]
  },
  {
   "cell_type": "code",
   "execution_count": 24,
   "id": "138b3ac9",
   "metadata": {},
   "outputs": [
    {
     "data": {
      "text/plain": [
       "50.52316890881914"
      ]
     },
     "execution_count": 24,
     "metadata": {},
     "output_type": "execute_result"
    }
   ],
   "source": [
    "len(data[data[\"sex\"] == \"male\"])/len(data)*100"
   ]
  },
  {
   "cell_type": "code",
   "execution_count": 25,
   "id": "e2651ea5",
   "metadata": {},
   "outputs": [
    {
     "data": {
      "text/plain": [
       "49.47683109118087"
      ]
     },
     "execution_count": 25,
     "metadata": {},
     "output_type": "execute_result"
    }
   ],
   "source": [
    "len(data[data[\"sex\"] == \"female\"])/len(data)*100"
   ]
  },
  {
   "cell_type": "markdown",
   "id": "a1f01331",
   "metadata": {},
   "source": [
    "- 50.52% of the data are male\n",
    "- 49.48% 0f the data are female"
   ]
  },
  {
   "cell_type": "markdown",
   "id": "610ac42d",
   "metadata": {},
   "source": [
    "# smoker"
   ]
  },
  {
   "cell_type": "code",
   "execution_count": 26,
   "id": "1eeb4849",
   "metadata": {},
   "outputs": [
    {
     "data": {
      "text/plain": [
       "no     1064\n",
       "yes     274\n",
       "Name: smoker, dtype: int64"
      ]
     },
     "execution_count": 26,
     "metadata": {},
     "output_type": "execute_result"
    }
   ],
   "source": [
    "data[\"smoker\"].value_counts()"
   ]
  },
  {
   "cell_type": "code",
   "execution_count": 27,
   "id": "618e1652",
   "metadata": {},
   "outputs": [
    {
     "data": {
      "text/plain": [
       "<AxesSubplot:xlabel='smoker', ylabel='count'>"
      ]
     },
     "execution_count": 27,
     "metadata": {},
     "output_type": "execute_result"
    },
    {
     "data": {
      "image/png": "[encoded data removed]",
      "text/plain": [
       "<Figure size 432x288 with 1 Axes>"
      ]
     },
     "metadata": {
      "needs_background": "light"
     },
     "output_type": "display_data"
    }
   ],
   "source": [
    "sns.countplot(x = data[\"smoker\"])"
   ]
  },
  {
   "cell_type": "code",
   "execution_count": 30,
   "id": "48014cd7",
   "metadata": {},
   "outputs": [
    {
     "data": {
      "text/plain": [
       "20.47832585949178"
      ]
     },
     "execution_count": 30,
     "metadata": {},
     "output_type": "execute_result"
    }
   ],
   "source": [
    "len(data[data[\"smoker\"] == \"yes\"])/len(data) * 100"
   ]
  },
  {
   "cell_type": "code",
   "execution_count": 29,
   "id": "326f89a6",
   "metadata": {},
   "outputs": [
    {
     "data": {
      "text/plain": [
       "79.52167414050822"
      ]
     },
     "execution_count": 29,
     "metadata": {},
     "output_type": "execute_result"
    }
   ],
   "source": [
    "len(data[data[\"smoker\"] == \"no\"])/len(data) * 100"
   ]
  },
  {
   "cell_type": "markdown",
   "id": "c64d382e",
   "metadata": {},
   "source": [
    "- 20.48% of the people are smoker\n",
    "- 79.52% of the people are non smoker"
   ]
  },
  {
   "cell_type": "markdown",
   "id": "ae36ee7c",
   "metadata": {},
   "source": [
    "# REGION"
   ]
  },
  {
   "cell_type": "code",
   "execution_count": 31,
   "id": "15383c8e",
   "metadata": {},
   "outputs": [
    {
     "data": {
      "text/plain": [
       "southeast    364\n",
       "southwest    325\n",
       "northwest    325\n",
       "northeast    324\n",
       "Name: region, dtype: int64"
      ]
     },
     "execution_count": 31,
     "metadata": {},
     "output_type": "execute_result"
    }
   ],
   "source": [
    "data[\"region\"].value_counts()"
   ]
  },
  {
   "cell_type": "code",
   "execution_count": 34,
   "id": "ea73a59f",
   "metadata": {},
   "outputs": [
    {
     "data": {
      "text/plain": [
       "<AxesSubplot:xlabel='region', ylabel='count'>"
      ]
     },
     "execution_count": 34,
     "metadata": {},
     "output_type": "execute_result"
    },
    {
     "data": {
      "image/png": "[encoded data removed]",
      "text/plain": [
       "<Figure size 432x288 with 1 Axes>"
      ]
     },
     "metadata": {
      "needs_background": "light"
     },
     "output_type": "display_data"
    }
   ],
   "source": [
    "sns.countplot(x = data[\"region\"])"
   ]
  },
  {
   "cell_type": "code",
   "execution_count": 36,
   "id": "f1f0ec8e",
   "metadata": {},
   "outputs": [
    {
     "data": {
      "text/plain": [
       "24.28998505231689"
      ]
     },
     "execution_count": 36,
     "metadata": {},
     "output_type": "execute_result"
    }
   ],
   "source": [
    "len(data[data[\"region\"] == \"southwest\"])/ len(data)* 100"
   ]
  },
  {
   "cell_type": "code",
   "execution_count": 37,
   "id": "95be77ce",
   "metadata": {},
   "outputs": [
    {
     "data": {
      "text/plain": [
       "27.204783258594915"
      ]
     },
     "execution_count": 37,
     "metadata": {},
     "output_type": "execute_result"
    }
   ],
   "source": [
    "len(data[data[\"region\"] == \"southeast\"])/ len(data)* 100"
   ]
  },
  {
   "cell_type": "code",
   "execution_count": 38,
   "id": "fc1c2dc8",
   "metadata": {},
   "outputs": [
    {
     "data": {
      "text/plain": [
       "24.28998505231689"
      ]
     },
     "execution_count": 38,
     "metadata": {},
     "output_type": "execute_result"
    }
   ],
   "source": [
    "len(data[data[\"region\"] == \"northwest\"])/ len(data)* 100"
   ]
  },
  {
   "cell_type": "code",
   "execution_count": 39,
   "id": "b5e6e273",
   "metadata": {},
   "outputs": [
    {
     "data": {
      "text/plain": [
       "24.2152466367713"
      ]
     },
     "execution_count": 39,
     "metadata": {},
     "output_type": "execute_result"
    }
   ],
   "source": [
    "len(data[data[\"region\"] == \"northeast\"])/ len(data)* 100"
   ]
  },
  {
   "cell_type": "markdown",
   "id": "a0529c4c",
   "metadata": {},
   "source": [
    "- 24.28% of people are from southwest\n",
    "- 27.2% of people are from southeast\n",
    "- 24.28 %of people are from northwest\n",
    "- 24.21% of people are from northeast"
   ]
  },
  {
   "cell_type": "markdown",
   "id": "364654f9",
   "metadata": {},
   "source": [
    "# VIRAL_LOAD"
   ]
  },
  {
   "cell_type": "markdown",
   "id": "7cf2d6f8",
   "metadata": {},
   "source": [
    "Viral load refers to the amount of virus in an infected person's blood"
   ]
  },
  {
   "cell_type": "code",
   "execution_count": 41,
   "id": "03e4c77e",
   "metadata": {},
   "outputs": [
    {
     "data": {
      "text/plain": [
       "count    1338.000000\n",
       "mean       10.221233\n",
       "std         2.032796\n",
       "min         5.320000\n",
       "25%         8.762500\n",
       "50%        10.130000\n",
       "75%        11.567500\n",
       "max        17.710000\n",
       "Name: viral load, dtype: float64"
      ]
     },
     "execution_count": 41,
     "metadata": {},
     "output_type": "execute_result"
    }
   ],
   "source": [
    "data[\"viral load\"].describe()"
   ]
  },
  {
   "cell_type": "code",
   "execution_count": 42,
   "id": "d9640cca",
   "metadata": {},
   "outputs": [
    {
     "data": {
      "text/plain": [
       "<AxesSubplot:xlabel='viral load'>"
      ]
     },
     "execution_count": 42,
     "metadata": {},
     "output_type": "execute_result"
    },
    {
     "data": {
      "image/png": "[encoded data removed]",
      "text/plain": [
       "<Figure size 432x288 with 1 Axes>"
      ]
     },
     "metadata": {
      "needs_background": "light"
     },
     "output_type": "display_data"
    }
   ],
   "source": [
    "sns.boxplot(x = data[\"viral load\"])"
   ]
  },
  {
   "cell_type": "markdown",
   "id": "c45b4fe5",
   "metadata": {},
   "source": [
    "# SEVERITY LEVEL"
   ]
  },
  {
   "cell_type": "markdown",
   "id": "dc3a91e1",
   "metadata": {},
   "source": [
    "This is an integer indicating how severe the patient is."
   ]
  },
  {
   "cell_type": "code",
   "execution_count": 231,
   "id": "34f5ece2",
   "metadata": {},
   "outputs": [
    {
     "data": {
      "text/plain": [
       "0    574\n",
       "1    324\n",
       "2    240\n",
       "3    157\n",
       "4     25\n",
       "5     18\n",
       "Name: severity level, dtype: int64"
      ]
     },
     "execution_count": 231,
     "metadata": {},
     "output_type": "execute_result"
    }
   ],
   "source": [
    "data[\"severity level\"].value_counts()"
   ]
  },
  {
   "cell_type": "code",
   "execution_count": 44,
   "id": "85bf9fc0",
   "metadata": {},
   "outputs": [
    {
     "data": {
      "text/plain": [
       "<AxesSubplot:xlabel='severity level'>"
      ]
     },
     "execution_count": 44,
     "metadata": {},
     "output_type": "execute_result"
    },
    {
     "data": {
      "image/png": "[encoded data removed]",
      "text/plain": [
       "<Figure size 432x288 with 1 Axes>"
      ]
     },
     "metadata": {
      "needs_background": "light"
     },
     "output_type": "display_data"
    }
   ],
   "source": [
    "sns.boxplot(x = data[\"severity level\"])"
   ]
  },
  {
   "cell_type": "code",
   "execution_count": 77,
   "id": "31e4f6be",
   "metadata": {},
   "outputs": [
    {
     "data": {
      "text/plain": [
       "<AxesSubplot:xlabel='severity level', ylabel='count'>"
      ]
     },
     "execution_count": 77,
     "metadata": {},
     "output_type": "execute_result"
    },
    {
     "data": {
      "image/png": "[encoded data removed]",
      "text/plain": [
       "<Figure size 432x288 with 1 Axes>"
      ]
     },
     "metadata": {
      "needs_background": "light"
     },
     "output_type": "display_data"
    }
   ],
   "source": [
    "sns.countplot( x = data[\"severity level\"])"
   ]
  },
  {
   "cell_type": "markdown",
   "id": "583ce831",
   "metadata": {},
   "source": [
    "# HOSPITILIZATION CHARGES"
   ]
  },
  {
   "cell_type": "markdown",
   "id": "5e6c83f9",
   "metadata": {},
   "source": [
    "Individual medical costs billed to health insurance."
   ]
  },
  {
   "cell_type": "code",
   "execution_count": 45,
   "id": "80aab684",
   "metadata": {},
   "outputs": [
    {
     "data": {
      "text/plain": [
       "count      1338.000000\n",
       "mean      33176.058296\n",
       "std       30275.029296\n",
       "min        2805.000000\n",
       "25%       11851.000000\n",
       "50%       23455.000000\n",
       "75%       41599.500000\n",
       "max      159426.000000\n",
       "Name: hospitalization charges, dtype: float64"
      ]
     },
     "execution_count": 45,
     "metadata": {},
     "output_type": "execute_result"
    }
   ],
   "source": [
    "data[\"hospitalization charges\"].describe()"
   ]
  },
  {
   "cell_type": "code",
   "execution_count": 46,
   "id": "21ddd7c5",
   "metadata": {},
   "outputs": [
    {
     "data": {
      "text/plain": [
       "<AxesSubplot:xlabel='hospitalization charges'>"
      ]
     },
     "execution_count": 46,
     "metadata": {},
     "output_type": "execute_result"
    },
    {
     "data": {
      "image/png": "[encoded data removed]",
      "text/plain": [
       "<Figure size 432x288 with 1 Axes>"
      ]
     },
     "metadata": {
      "needs_background": "light"
     },
     "output_type": "display_data"
    }
   ],
   "source": [
    "sns.boxplot(x = data[\"hospitalization charges\"])"
   ]
  },
  {
   "cell_type": "markdown",
   "id": "e3af4431",
   "metadata": {},
   "source": [
    "# HANDELING NULL VALUES"
   ]
  },
  {
   "cell_type": "code",
   "execution_count": 47,
   "id": "0001dc35",
   "metadata": {},
   "outputs": [
    {
     "data": {
      "text/plain": [
       "age                        0\n",
       "sex                        0\n",
       "smoker                     0\n",
       "region                     0\n",
       "viral load                 0\n",
       "severity level             0\n",
       "hospitalization charges    0\n",
       "dtype: int64"
      ]
     },
     "execution_count": 47,
     "metadata": {},
     "output_type": "execute_result"
    }
   ],
   "source": [
    "data.isnull().sum()"
   ]
  },
  {
   "cell_type": "markdown",
   "id": "7398b869",
   "metadata": {},
   "source": [
    "- There are no null values in the data."
   ]
  },
  {
   "cell_type": "markdown",
   "id": "bd1cdc2e",
   "metadata": {},
   "source": [
    "# HANDLING OUTLIERS"
   ]
  },
  {
   "cell_type": "markdown",
   "id": "3116999a",
   "metadata": {},
   "source": [
    "- As checked above only \"hospitilization charges\" column has outliers."
   ]
  },
  {
   "cell_type": "code",
   "execution_count": 48,
   "id": "f5e76a72",
   "metadata": {},
   "outputs": [
    {
     "data": {
      "text/plain": [
       "<AxesSubplot:xlabel='hospitalization charges'>"
      ]
     },
     "execution_count": 48,
     "metadata": {},
     "output_type": "execute_result"
    },
    {
     "data": {
      "image/png": "[encoded data removed]",
      "text/plain": [
       "<Figure size 432x288 with 1 Axes>"
      ]
     },
     "metadata": {
      "needs_background": "light"
     },
     "output_type": "display_data"
    }
   ],
   "source": [
    "sns.boxplot(x = data[\"hospitalization charges\"])"
   ]
  },
  {
   "cell_type": "code",
   "execution_count": 49,
   "id": "96ef97be",
   "metadata": {},
   "outputs": [
    {
     "data": {
      "text/plain": [
       "count      1338.000000\n",
       "mean      33176.058296\n",
       "std       30275.029296\n",
       "min        2805.000000\n",
       "25%       11851.000000\n",
       "50%       23455.000000\n",
       "75%       41599.500000\n",
       "max      159426.000000\n",
       "Name: hospitalization charges, dtype: float64"
      ]
     },
     "execution_count": 49,
     "metadata": {},
     "output_type": "execute_result"
    }
   ],
   "source": [
    "data[\"hospitalization charges\"].describe()"
   ]
  },
  {
   "cell_type": "code",
   "execution_count": 55,
   "id": "0eb6f997",
   "metadata": {},
   "outputs": [
    {
     "name": "stdout",
     "output_type": "stream",
     "text": [
      "Q1- 11856.0 ,Q2- 41555.0 ,IQR- 29699.0 ,LW- -32692.5 ,RW- 86103.5\n"
     ]
    }
   ],
   "source": [
    "Q1 = np.percentile(data[\"hospitalization charges\"],25, interpolation = \"midpoint\")\n",
    "Q3 = np.percentile(data[\"hospitalization charges\"],75, interpolation = \"midpoint\")\n",
    "IQR = Q3-Q1\n",
    "LW = Q1 - (1.5*IQR)\n",
    "RW = Q3 + (1.5*IQR)\n",
    "print(\"Q1-\", Q1, \",Q2-\", Q2, \",IQR-\", IQR, \",LW-\", LW, \",RW-\", RW )"
   ]
  },
  {
   "cell_type": "code",
   "execution_count": 62,
   "id": "7cda8fff",
   "metadata": {},
   "outputs": [
    {
     "data": {
      "text/plain": [
       "age                        140\n",
       "sex                        140\n",
       "smoker                     140\n",
       "region                     140\n",
       "viral load                 140\n",
       "severity level             140\n",
       "hospitalization charges    140\n",
       "dtype: int64"
      ]
     },
     "execution_count": 62,
     "metadata": {},
     "output_type": "execute_result"
    }
   ],
   "source": [
    "(data[data[\"hospitalization charges\"] >= 86103.5]).count()"
   ]
  },
  {
   "cell_type": "markdown",
   "id": "44949b5a",
   "metadata": {},
   "source": [
    "- There are  140 outliers.\n",
    "- Replacing the outliers with 75 percentile"
   ]
  },
  {
   "cell_type": "code",
   "execution_count": 66,
   "id": "8e9b5f5b",
   "metadata": {},
   "outputs": [],
   "source": [
    "a = data[\"hospitalization charges\"] >= 86103.5"
   ]
  },
  {
   "cell_type": "code",
   "execution_count": 69,
   "id": "2a7de31c",
   "metadata": {},
   "outputs": [],
   "source": [
    "data[\"hospitalization charges\"] = np.where(data[\"hospitalization charges\"]>=86103.5, Q3, data[\"hospitalization charges\"])"
   ]
  },
  {
   "cell_type": "code",
   "execution_count": 71,
   "id": "9b8e31fe",
   "metadata": {},
   "outputs": [
    {
     "data": {
      "text/plain": [
       "count     1338.000000\n",
       "mean     26524.633782\n",
       "std      17811.389959\n",
       "min       2805.000000\n",
       "25%      11851.000000\n",
       "50%      23455.000000\n",
       "75%      41532.750000\n",
       "max      86100.000000\n",
       "Name: hospitalization charges, dtype: float64"
      ]
     },
     "execution_count": 71,
     "metadata": {},
     "output_type": "execute_result"
    }
   ],
   "source": [
    "data[\"hospitalization charges\"].describe()"
   ]
  },
  {
   "cell_type": "code",
   "execution_count": 73,
   "id": "2cdf60c7",
   "metadata": {},
   "outputs": [
    {
     "data": {
      "text/plain": [
       "<AxesSubplot:xlabel='hospitalization charges'>"
      ]
     },
     "execution_count": 73,
     "metadata": {},
     "output_type": "execute_result"
    },
    {
     "data": {
      "image/png": "[encoded data removed]",
      "text/plain": [
       "<Figure size 432x288 with 1 Axes>"
      ]
     },
     "metadata": {
      "needs_background": "light"
     },
     "output_type": "display_data"
    }
   ],
   "source": [
    "sns.boxplot(x = data[\"hospitalization charges\"])"
   ]
  },
  {
   "cell_type": "markdown",
   "id": "e5b5a335",
   "metadata": {},
   "source": [
    "# FEATURE CREATION"
   ]
  },
  {
   "cell_type": "markdown",
   "id": "775e8660",
   "metadata": {},
   "source": [
    "# AGE BINS"
   ]
  },
  {
   "cell_type": "code",
   "execution_count": 103,
   "id": "2fb8ccb3",
   "metadata": {},
   "outputs": [],
   "source": [
    "dictonary = [(data[\"age\"] <=17), ((data[\"age\"] >17) & (data[\"age\"] <31)), ((data[\"age\"] >30) & (data[\"age\"]<46)),((data[\"age\"]>45) & (data[\"age\"]<=60)), (data[\"age\"] > 60) ]\n",
    "values = [\"0-17\", \"18-30\", \"31-45\",\"46-60\", \"60+\"]"
   ]
  },
  {
   "cell_type": "code",
   "execution_count": 104,
   "id": "2f19f89a",
   "metadata": {},
   "outputs": [],
   "source": [
    "data[\"age_bins\"] = np.select(dictonary,values)"
   ]
  },
  {
   "cell_type": "code",
   "execution_count": 105,
   "id": "0d69f43c",
   "metadata": {},
   "outputs": [
    {
     "data": {
      "text/html": [
       "<div>\n",
       "<style scoped>\n",
       "    .dataframe tbody tr th:only-of-type {\n",
       "        vertical-align: middle;\n",
       "    }\n",
       "\n",
       "    .dataframe tbody tr th {\n",
       "        vertical-align: top;\n",
       "    }\n",
       "\n",
       "    .dataframe thead th {\n",
       "        text-align: right;\n",
       "    }\n",
       "</style>\n",
       "<table border=\"1\" class=\"dataframe\">\n",
       "  <thead>\n",
       "    <tr style=\"text-align: right;\">\n",
       "      <th></th>\n",
       "      <th>age</th>\n",
       "      <th>sex</th>\n",
       "      <th>smoker</th>\n",
       "      <th>region</th>\n",
       "      <th>viral load</th>\n",
       "      <th>severity level</th>\n",
       "      <th>hospitalization charges</th>\n",
       "      <th>age_bins</th>\n",
       "    </tr>\n",
       "  </thead>\n",
       "  <tbody>\n",
       "    <tr>\n",
       "      <th>0</th>\n",
       "      <td>19</td>\n",
       "      <td>female</td>\n",
       "      <td>yes</td>\n",
       "      <td>southwest</td>\n",
       "      <td>9.30</td>\n",
       "      <td>0</td>\n",
       "      <td>42212.0</td>\n",
       "      <td>18-30</td>\n",
       "    </tr>\n",
       "    <tr>\n",
       "      <th>1</th>\n",
       "      <td>18</td>\n",
       "      <td>male</td>\n",
       "      <td>no</td>\n",
       "      <td>southeast</td>\n",
       "      <td>11.26</td>\n",
       "      <td>1</td>\n",
       "      <td>4314.0</td>\n",
       "      <td>18-30</td>\n",
       "    </tr>\n",
       "    <tr>\n",
       "      <th>2</th>\n",
       "      <td>28</td>\n",
       "      <td>male</td>\n",
       "      <td>no</td>\n",
       "      <td>southeast</td>\n",
       "      <td>11.00</td>\n",
       "      <td>3</td>\n",
       "      <td>11124.0</td>\n",
       "      <td>18-30</td>\n",
       "    </tr>\n",
       "    <tr>\n",
       "      <th>3</th>\n",
       "      <td>33</td>\n",
       "      <td>male</td>\n",
       "      <td>no</td>\n",
       "      <td>northwest</td>\n",
       "      <td>7.57</td>\n",
       "      <td>0</td>\n",
       "      <td>54961.0</td>\n",
       "      <td>31-45</td>\n",
       "    </tr>\n",
       "    <tr>\n",
       "      <th>4</th>\n",
       "      <td>32</td>\n",
       "      <td>male</td>\n",
       "      <td>no</td>\n",
       "      <td>northwest</td>\n",
       "      <td>9.63</td>\n",
       "      <td>0</td>\n",
       "      <td>9667.0</td>\n",
       "      <td>31-45</td>\n",
       "    </tr>\n",
       "  </tbody>\n",
       "</table>\n",
       "</div>"
      ],
      "text/plain": [
       "   age     sex smoker     region  viral load  severity level  \\\n",
       "0   19  female    yes  southwest        9.30               0   \n",
       "1   18    male     no  southeast       11.26               1   \n",
       "2   28    male     no  southeast       11.00               3   \n",
       "3   33    male     no  northwest        7.57               0   \n",
       "4   32    male     no  northwest        9.63               0   \n",
       "\n",
       "   hospitalization charges age_bins  \n",
       "0                  42212.0    18-30  \n",
       "1                   4314.0    18-30  \n",
       "2                  11124.0    18-30  \n",
       "3                  54961.0    31-45  \n",
       "4                   9667.0    31-45  "
      ]
     },
     "execution_count": 105,
     "metadata": {},
     "output_type": "execute_result"
    }
   ],
   "source": [
    "data.head()"
   ]
  },
  {
   "cell_type": "code",
   "execution_count": 106,
   "id": "a3663520",
   "metadata": {},
   "outputs": [
    {
     "data": {
      "text/plain": [
       "18-30    444\n",
       "46-60    409\n",
       "31-45    394\n",
       "60+       91\n",
       "Name: age_bins, dtype: int64"
      ]
     },
     "execution_count": 106,
     "metadata": {},
     "output_type": "execute_result"
    }
   ],
   "source": [
    "data[\"age_bins\"].value_counts()"
   ]
  },
  {
   "cell_type": "markdown",
   "id": "c283944a",
   "metadata": {},
   "source": [
    "# EXPLORATORY DATA ANALYSIS"
   ]
  },
  {
   "cell_type": "code",
   "execution_count": 122,
   "id": "4a5e2227",
   "metadata": {},
   "outputs": [
    {
     "data": {
      "text/html": [
       "<div>\n",
       "<style scoped>\n",
       "    .dataframe tbody tr th:only-of-type {\n",
       "        vertical-align: middle;\n",
       "    }\n",
       "\n",
       "    .dataframe tbody tr th {\n",
       "        vertical-align: top;\n",
       "    }\n",
       "\n",
       "    .dataframe thead th {\n",
       "        text-align: right;\n",
       "    }\n",
       "</style>\n",
       "<table border=\"1\" class=\"dataframe\">\n",
       "  <thead>\n",
       "    <tr style=\"text-align: right;\">\n",
       "      <th></th>\n",
       "      <th>age</th>\n",
       "      <th>sex</th>\n",
       "      <th>smoker</th>\n",
       "      <th>region</th>\n",
       "      <th>viral load</th>\n",
       "      <th>severity level</th>\n",
       "      <th>hospitalization charges</th>\n",
       "      <th>age_bins</th>\n",
       "    </tr>\n",
       "  </thead>\n",
       "  <tbody>\n",
       "    <tr>\n",
       "      <th>0</th>\n",
       "      <td>19</td>\n",
       "      <td>female</td>\n",
       "      <td>yes</td>\n",
       "      <td>southwest</td>\n",
       "      <td>9.30</td>\n",
       "      <td>0</td>\n",
       "      <td>42212.0</td>\n",
       "      <td>18-30</td>\n",
       "    </tr>\n",
       "    <tr>\n",
       "      <th>1</th>\n",
       "      <td>18</td>\n",
       "      <td>male</td>\n",
       "      <td>no</td>\n",
       "      <td>southeast</td>\n",
       "      <td>11.26</td>\n",
       "      <td>1</td>\n",
       "      <td>4314.0</td>\n",
       "      <td>18-30</td>\n",
       "    </tr>\n",
       "    <tr>\n",
       "      <th>2</th>\n",
       "      <td>28</td>\n",
       "      <td>male</td>\n",
       "      <td>no</td>\n",
       "      <td>southeast</td>\n",
       "      <td>11.00</td>\n",
       "      <td>3</td>\n",
       "      <td>11124.0</td>\n",
       "      <td>18-30</td>\n",
       "    </tr>\n",
       "    <tr>\n",
       "      <th>3</th>\n",
       "      <td>33</td>\n",
       "      <td>male</td>\n",
       "      <td>no</td>\n",
       "      <td>northwest</td>\n",
       "      <td>7.57</td>\n",
       "      <td>0</td>\n",
       "      <td>54961.0</td>\n",
       "      <td>31-45</td>\n",
       "    </tr>\n",
       "    <tr>\n",
       "      <th>4</th>\n",
       "      <td>32</td>\n",
       "      <td>male</td>\n",
       "      <td>no</td>\n",
       "      <td>northwest</td>\n",
       "      <td>9.63</td>\n",
       "      <td>0</td>\n",
       "      <td>9667.0</td>\n",
       "      <td>31-45</td>\n",
       "    </tr>\n",
       "  </tbody>\n",
       "</table>\n",
       "</div>"
      ],
      "text/plain": [
       "   age     sex smoker     region  viral load  severity level  \\\n",
       "0   19  female    yes  southwest        9.30               0   \n",
       "1   18    male     no  southeast       11.26               1   \n",
       "2   28    male     no  southeast       11.00               3   \n",
       "3   33    male     no  northwest        7.57               0   \n",
       "4   32    male     no  northwest        9.63               0   \n",
       "\n",
       "   hospitalization charges age_bins  \n",
       "0                  42212.0    18-30  \n",
       "1                   4314.0    18-30  \n",
       "2                  11124.0    18-30  \n",
       "3                  54961.0    31-45  \n",
       "4                   9667.0    31-45  "
      ]
     },
     "execution_count": 122,
     "metadata": {},
     "output_type": "execute_result"
    }
   ],
   "source": [
    "data.head()"
   ]
  },
  {
   "cell_type": "markdown",
   "id": "2a5a4ba9",
   "metadata": {},
   "source": [
    "# AGE BINS VS VIRAL LOAD"
   ]
  },
  {
   "cell_type": "code",
   "execution_count": 119,
   "id": "6a87cae6",
   "metadata": {},
   "outputs": [
    {
     "data": {
      "text/plain": [
       "age_bins\n",
       "18-30     9.963761\n",
       "31-45    10.147183\n",
       "46-60    10.440196\n",
       "60+      10.813956\n",
       "Name: viral load, dtype: float64"
      ]
     },
     "execution_count": 119,
     "metadata": {},
     "output_type": "execute_result"
    }
   ],
   "source": [
    "data.groupby([\"age_bins\"])[\"viral load\"].mean()"
   ]
  },
  {
   "cell_type": "code",
   "execution_count": 120,
   "id": "1683bab7",
   "metadata": {},
   "outputs": [
    {
     "data": {
      "text/plain": [
       "<AxesSubplot:xlabel='age_bins', ylabel='viral load'>"
      ]
     },
     "execution_count": 120,
     "metadata": {},
     "output_type": "execute_result"
    },
    {
     "data": {
      "image/png": "[encoded data removed]",
      "text/plain": [
       "<Figure size 432x288 with 1 Axes>"
      ]
     },
     "metadata": {
      "needs_background": "light"
     },
     "output_type": "display_data"
    }
   ],
   "source": [
    "sns.barplot(x = data[\"age_bins\"], y = data[\"viral load\"])"
   ]
  },
  {
   "cell_type": "code",
   "execution_count": 108,
   "id": "176e89a1",
   "metadata": {},
   "outputs": [
    {
     "data": {
      "text/plain": [
       "<AxesSubplot:xlabel='age_bins', ylabel='viral load'>"
      ]
     },
     "execution_count": 108,
     "metadata": {},
     "output_type": "execute_result"
    },
    {
     "data": {
      "image/png": "[encoded data removed]",
      "text/plain": [
       "<Figure size 432x288 with 1 Axes>"
      ]
     },
     "metadata": {
      "needs_background": "light"
     },
     "output_type": "display_data"
    }
   ],
   "source": [
    "sns.boxplot(x = data[\"age_bins\"], y = data[\"viral load\"])"
   ]
  },
  {
   "cell_type": "markdown",
   "id": "b18c27f2",
   "metadata": {},
   "source": [
    "- There are no significance diffrence between age bins and viral load but higher ages tend to have slightly higher viral load."
   ]
  },
  {
   "cell_type": "markdown",
   "id": "ba83b457",
   "metadata": {},
   "source": [
    "# AGE BINS VS SEVERITY LEVEL"
   ]
  },
  {
   "cell_type": "code",
   "execution_count": 118,
   "id": "ae71a937",
   "metadata": {},
   "outputs": [
    {
     "data": {
      "text/plain": [
       "age_bins\n",
       "18-30    0.840090\n",
       "31-45    1.451777\n",
       "46-60    1.124694\n",
       "60+      0.659341\n",
       "Name: severity level, dtype: float64"
      ]
     },
     "execution_count": 118,
     "metadata": {},
     "output_type": "execute_result"
    }
   ],
   "source": [
    "data.groupby([\"age_bins\"])[\"severity level\"].mean()"
   ]
  },
  {
   "cell_type": "code",
   "execution_count": 111,
   "id": "bf757ff3",
   "metadata": {},
   "outputs": [
    {
     "data": {
      "text/plain": [
       "<AxesSubplot:xlabel='age_bins', ylabel='severity level'>"
      ]
     },
     "execution_count": 111,
     "metadata": {},
     "output_type": "execute_result"
    },
    {
     "data": {
      "image/png": "[encoded data removed]",
      "text/plain": [
       "<Figure size 432x288 with 1 Axes>"
      ]
     },
     "metadata": {
      "needs_background": "light"
     },
     "output_type": "display_data"
    }
   ],
   "source": [
    "sns.boxplot(x = data[\"age_bins\"] , y = data[\"severity level\"])"
   ]
  },
  {
   "cell_type": "code",
   "execution_count": 121,
   "id": "18d40081",
   "metadata": {},
   "outputs": [
    {
     "data": {
      "text/plain": [
       "<AxesSubplot:xlabel='age_bins', ylabel='severity level'>"
      ]
     },
     "execution_count": 121,
     "metadata": {},
     "output_type": "execute_result"
    },
    {
     "data": {
      "image/png": "[encoded data removed]",
      "text/plain": [
       "<Figure size 432x288 with 1 Axes>"
      ]
     },
     "metadata": {
      "needs_background": "light"
     },
     "output_type": "display_data"
    }
   ],
   "source": [
    "sns.barplot( x= data[\"age_bins\"], y = data[\"severity level\"])"
   ]
  },
  {
   "cell_type": "markdown",
   "id": "e6120f16",
   "metadata": {},
   "source": [
    "- The severity level is much higher between age groups 31-45\n",
    "- The severity level is lower in age group above 60"
   ]
  },
  {
   "cell_type": "markdown",
   "id": "76fd232b",
   "metadata": {},
   "source": [
    "# AGE_BINS VS HOSPITILIZATION_CHARGES"
   ]
  },
  {
   "cell_type": "code",
   "execution_count": 125,
   "id": "a87beb20",
   "metadata": {},
   "outputs": [
    {
     "data": {
      "text/plain": [
       "age_bins\n",
       "18-30    18858.207207\n",
       "31-45    24333.763959\n",
       "46-60    33528.924205\n",
       "60+      41934.978022\n",
       "Name: hospitalization charges, dtype: float64"
      ]
     },
     "execution_count": 125,
     "metadata": {},
     "output_type": "execute_result"
    }
   ],
   "source": [
    "data.groupby([\"age_bins\"])[\"hospitalization charges\"].mean()"
   ]
  },
  {
   "cell_type": "code",
   "execution_count": 126,
   "id": "32a34e2d",
   "metadata": {},
   "outputs": [
    {
     "data": {
      "text/plain": [
       "<AxesSubplot:xlabel='age_bins', ylabel='hospitalization charges'>"
      ]
     },
     "execution_count": 126,
     "metadata": {},
     "output_type": "execute_result"
    },
    {
     "data": {
      "image/png": "[encoded data removed]",
      "text/plain": [
       "<Figure size 432x288 with 1 Axes>"
      ]
     },
     "metadata": {
      "needs_background": "light"
     },
     "output_type": "display_data"
    }
   ],
   "source": [
    "sns.boxplot(x = data[\"age_bins\"], y = data[\"hospitalization charges\"])"
   ]
  },
  {
   "cell_type": "code",
   "execution_count": 127,
   "id": "20d789e6",
   "metadata": {},
   "outputs": [
    {
     "data": {
      "text/plain": [
       "<AxesSubplot:xlabel='age_bins', ylabel='hospitalization charges'>"
      ]
     },
     "execution_count": 127,
     "metadata": {},
     "output_type": "execute_result"
    },
    {
     "data": {
      "image/png": "[encoded data removed]",
      "text/plain": [
       "<Figure size 432x288 with 1 Axes>"
      ]
     },
     "metadata": {
      "needs_background": "light"
     },
     "output_type": "display_data"
    }
   ],
   "source": [
    "sns.barplot(x = data[\"age_bins\"], y = data[\"hospitalization charges\"])"
   ]
  },
  {
   "cell_type": "markdown",
   "id": "feaa321d",
   "metadata": {},
   "source": [
    "- The hospitalization charges is very high for people aged 60+\n",
    "- The hospitalization charges are slightly lesser for people between age group 46-60\n",
    "- The hospitalization charges are medium for people between age group 31-45\n",
    "- The hospitalization charges ane very less for people between age group 18-30"
   ]
  },
  {
   "cell_type": "markdown",
   "id": "42218dc4",
   "metadata": {},
   "source": [
    "# AGE_BINS VS SMOKER"
   ]
  },
  {
   "cell_type": "code",
   "execution_count": 133,
   "id": "bc7330fe",
   "metadata": {},
   "outputs": [
    {
     "data": {
      "text/plain": [
       "<AxesSubplot:xlabel='age_bins', ylabel='count'>"
      ]
     },
     "execution_count": 133,
     "metadata": {},
     "output_type": "execute_result"
    },
    {
     "data": {
      "image/png": "[encoded data removed]",
      "text/plain": [
       "<Figure size 432x288 with 1 Axes>"
      ]
     },
     "metadata": {
      "needs_background": "light"
     },
     "output_type": "display_data"
    }
   ],
   "source": [
    "sns.countplot(x = data[\"age_bins\"], hue = data[\"smoker\"])"
   ]
  },
  {
   "cell_type": "markdown",
   "id": "abbea0fc",
   "metadata": {},
   "source": [
    "- The age group 18-30, 31-45 has more number of smokers\n",
    "- The age group 46-60 has medium number of smokers\n",
    "- The age group 60+ has less number of smokers"
   ]
  },
  {
   "cell_type": "markdown",
   "id": "fa68206d",
   "metadata": {},
   "source": [
    "# SEX VS VIRAL LOAD"
   ]
  },
  {
   "cell_type": "code",
   "execution_count": 134,
   "id": "97a66d59",
   "metadata": {},
   "outputs": [
    {
     "data": {
      "text/plain": [
       "sex\n",
       "female    10.126073\n",
       "male      10.314423\n",
       "Name: viral load, dtype: float64"
      ]
     },
     "execution_count": 134,
     "metadata": {},
     "output_type": "execute_result"
    }
   ],
   "source": [
    "data.groupby([\"sex\"])[\"viral load\"].mean()"
   ]
  },
  {
   "cell_type": "code",
   "execution_count": 135,
   "id": "ddfe8eca",
   "metadata": {},
   "outputs": [
    {
     "data": {
      "text/plain": [
       "<AxesSubplot:xlabel='sex', ylabel='viral load'>"
      ]
     },
     "execution_count": 135,
     "metadata": {},
     "output_type": "execute_result"
    },
    {
     "data": {
      "image/png": "[encoded data removed]",
      "text/plain": [
       "<Figure size 432x288 with 1 Axes>"
      ]
     },
     "metadata": {
      "needs_background": "light"
     },
     "output_type": "display_data"
    }
   ],
   "source": [
    "sns.barplot(x = data[\"sex\"], y = data[\"viral load\"])"
   ]
  },
  {
   "cell_type": "markdown",
   "id": "e523b6b2",
   "metadata": {},
   "source": [
    "- The average viral load is more or less same between male and female"
   ]
  },
  {
   "cell_type": "markdown",
   "id": "a77246ff",
   "metadata": {},
   "source": [
    "# SEX VS SEVERITY LEVEL "
   ]
  },
  {
   "cell_type": "code",
   "execution_count": 141,
   "id": "26edb416",
   "metadata": {},
   "outputs": [
    {
     "data": {
      "text/plain": [
       "sex\n",
       "female    1.074018\n",
       "male      1.115385\n",
       "Name: severity level, dtype: float64"
      ]
     },
     "execution_count": 141,
     "metadata": {},
     "output_type": "execute_result"
    }
   ],
   "source": [
    "data.groupby([\"sex\"])[\"severity level\"].mean()"
   ]
  },
  {
   "cell_type": "code",
   "execution_count": 142,
   "id": "479c4822",
   "metadata": {},
   "outputs": [
    {
     "data": {
      "text/plain": [
       "<AxesSubplot:xlabel='sex', ylabel='severity level'>"
      ]
     },
     "execution_count": 142,
     "metadata": {},
     "output_type": "execute_result"
    },
    {
     "data": {
      "image/png": "[encoded data removed]",
      "text/plain": [
       "<Figure size 432x288 with 1 Axes>"
      ]
     },
     "metadata": {
      "needs_background": "light"
     },
     "output_type": "display_data"
    }
   ],
   "source": [
    "sns.boxplot(x = data[\"sex\"], y = data[\"severity level\"])"
   ]
  },
  {
   "cell_type": "code",
   "execution_count": 143,
   "id": "0fae3bfa",
   "metadata": {},
   "outputs": [
    {
     "data": {
      "text/plain": [
       "<AxesSubplot:xlabel='sex', ylabel='severity level'>"
      ]
     },
     "execution_count": 143,
     "metadata": {},
     "output_type": "execute_result"
    },
    {
     "data": {
      "image/png": "[encoded data removed]",
      "text/plain": [
       "<Figure size 432x288 with 1 Axes>"
      ]
     },
     "metadata": {
      "needs_background": "light"
     },
     "output_type": "display_data"
    }
   ],
   "source": [
    "sns.barplot(x = data[\"sex\"], y = data[\"severity level\"])"
   ]
  },
  {
   "cell_type": "markdown",
   "id": "4cf7d90f",
   "metadata": {},
   "source": [
    "- The severity level is similar for both male and female"
   ]
  },
  {
   "cell_type": "markdown",
   "id": "543a7542",
   "metadata": {},
   "source": [
    "# SEX VS HOSPITALIZATION CHARGES"
   ]
  },
  {
   "cell_type": "code",
   "execution_count": 145,
   "id": "abe6659a",
   "metadata": {},
   "outputs": [
    {
     "data": {
      "text/plain": [
       "sex\n",
       "female    26482.471299\n",
       "male      26565.923077\n",
       "Name: hospitalization charges, dtype: float64"
      ]
     },
     "execution_count": 145,
     "metadata": {},
     "output_type": "execute_result"
    }
   ],
   "source": [
    "data.groupby([\"sex\"])[\"hospitalization charges\"].mean()"
   ]
  },
  {
   "cell_type": "code",
   "execution_count": 146,
   "id": "b117f3ed",
   "metadata": {},
   "outputs": [
    {
     "data": {
      "text/plain": [
       "<AxesSubplot:xlabel='sex', ylabel='hospitalization charges'>"
      ]
     },
     "execution_count": 146,
     "metadata": {},
     "output_type": "execute_result"
    },
    {
     "data": {
      "image/png": "[encoded data removed]",
      "text/plain": [
       "<Figure size 432x288 with 1 Axes>"
      ]
     },
     "metadata": {
      "needs_background": "light"
     },
     "output_type": "display_data"
    }
   ],
   "source": [
    "sns.boxplot(x = data[\"sex\"], y = data[\"hospitalization charges\"])"
   ]
  },
  {
   "cell_type": "code",
   "execution_count": 147,
   "id": "18850350",
   "metadata": {},
   "outputs": [
    {
     "data": {
      "text/plain": [
       "<AxesSubplot:xlabel='sex', ylabel='hospitalization charges'>"
      ]
     },
     "execution_count": 147,
     "metadata": {},
     "output_type": "execute_result"
    },
    {
     "data": {
      "image/png": "[encoded data removed]",
      "text/plain": [
       "<Figure size 432x288 with 1 Axes>"
      ]
     },
     "metadata": {
      "needs_background": "light"
     },
     "output_type": "display_data"
    }
   ],
   "source": [
    "sns.barplot(x = data[\"sex\"], y = data[\"hospitalization charges\"])"
   ]
  },
  {
   "cell_type": "markdown",
   "id": "d0342a79",
   "metadata": {},
   "source": [
    "- The hospitalization charges is similar between male and female"
   ]
  },
  {
   "cell_type": "markdown",
   "id": "66eb7ce1",
   "metadata": {},
   "source": [
    "# SEX VS SMOKER"
   ]
  },
  {
   "cell_type": "code",
   "execution_count": 150,
   "id": "87df11ad",
   "metadata": {},
   "outputs": [
    {
     "data": {
      "text/plain": [
       "<AxesSubplot:xlabel='sex', ylabel='count'>"
      ]
     },
     "execution_count": 150,
     "metadata": {},
     "output_type": "execute_result"
    },
    {
     "data": {
      "image/png": "[encoded data removed]",
      "text/plain": [
       "<Figure size 432x288 with 1 Axes>"
      ]
     },
     "metadata": {
      "needs_background": "light"
     },
     "output_type": "display_data"
    }
   ],
   "source": [
    "sns.countplot(x=data[\"sex\"], hue=data[\"smoker\"])"
   ]
  },
  {
   "cell_type": "markdown",
   "id": "090c8b77",
   "metadata": {},
   "source": [
    "- The no of smokers are similar between male and female"
   ]
  },
  {
   "cell_type": "markdown",
   "id": "81f4dbbb",
   "metadata": {},
   "source": [
    "# REGION VS VIRAL LOAD"
   ]
  },
  {
   "cell_type": "code",
   "execution_count": 151,
   "id": "fc17fbdc",
   "metadata": {},
   "outputs": [
    {
     "data": {
      "text/plain": [
       "region\n",
       "northeast     9.724722\n",
       "northwest     9.733508\n",
       "southeast    11.118516\n",
       "southwest    10.198985\n",
       "Name: viral load, dtype: float64"
      ]
     },
     "execution_count": 151,
     "metadata": {},
     "output_type": "execute_result"
    }
   ],
   "source": [
    "data.groupby([\"region\"])[\"viral load\"].mean()"
   ]
  },
  {
   "cell_type": "code",
   "execution_count": 152,
   "id": "07ef568f",
   "metadata": {},
   "outputs": [
    {
     "data": {
      "text/plain": [
       "<AxesSubplot:xlabel='region', ylabel='viral load'>"
      ]
     },
     "execution_count": 152,
     "metadata": {},
     "output_type": "execute_result"
    },
    {
     "data": {
      "image/png": "[encoded data removed]",
      "text/plain": [
       "<Figure size 432x288 with 1 Axes>"
      ]
     },
     "metadata": {
      "needs_background": "light"
     },
     "output_type": "display_data"
    }
   ],
   "source": [
    "sns.boxplot(x = data[\"region\"], y = data[\"viral load\"])"
   ]
  },
  {
   "cell_type": "code",
   "execution_count": 153,
   "id": "1d0bdbb6",
   "metadata": {},
   "outputs": [
    {
     "data": {
      "text/plain": [
       "<AxesSubplot:xlabel='region', ylabel='viral load'>"
      ]
     },
     "execution_count": 153,
     "metadata": {},
     "output_type": "execute_result"
    },
    {
     "data": {
      "image/png": "[encoded data removed]",
      "text/plain": [
       "<Figure size 432x288 with 1 Axes>"
      ]
     },
     "metadata": {
      "needs_background": "light"
     },
     "output_type": "display_data"
    }
   ],
   "source": [
    "sns.barplot(x = data[\"region\"], y = data[\"viral load\"])"
   ]
  },
  {
   "cell_type": "markdown",
   "id": "993240e1",
   "metadata": {},
   "source": [
    "- The region southest has higher viral load than other regions"
   ]
  },
  {
   "cell_type": "markdown",
   "id": "4457eb29",
   "metadata": {},
   "source": [
    "# REGION VS SEVERITY LEVEL"
   ]
  },
  {
   "cell_type": "code",
   "execution_count": 157,
   "id": "78ddaa53",
   "metadata": {},
   "outputs": [
    {
     "data": {
      "text/plain": [
       "region\n",
       "northeast    1.046296\n",
       "northwest    1.147692\n",
       "southeast    1.049451\n",
       "southwest    1.141538\n",
       "Name: severity level, dtype: float64"
      ]
     },
     "execution_count": 157,
     "metadata": {},
     "output_type": "execute_result"
    }
   ],
   "source": [
    "data.groupby([\"region\"])[\"severity level\"].mean()"
   ]
  },
  {
   "cell_type": "code",
   "execution_count": 158,
   "id": "b82ef154",
   "metadata": {},
   "outputs": [
    {
     "data": {
      "text/plain": [
       "<AxesSubplot:xlabel='region', ylabel='severity level'>"
      ]
     },
     "execution_count": 158,
     "metadata": {},
     "output_type": "execute_result"
    },
    {
     "data": {
      "image/png": "[encoded data removed]",
      "text/plain": [
       "<Figure size 432x288 with 1 Axes>"
      ]
     },
     "metadata": {
      "needs_background": "light"
     },
     "output_type": "display_data"
    }
   ],
   "source": [
    "sns.boxplot(x= data[\"region\"], y=data[\"severity level\"])"
   ]
  },
  {
   "cell_type": "code",
   "execution_count": 159,
   "id": "80fbfc50",
   "metadata": {},
   "outputs": [
    {
     "data": {
      "text/plain": [
       "<AxesSubplot:xlabel='region', ylabel='severity level'>"
      ]
     },
     "execution_count": 159,
     "metadata": {},
     "output_type": "execute_result"
    },
    {
     "data": {
      "image/png": "[encoded data removed]",
      "text/plain": [
       "<Figure size 432x288 with 1 Axes>"
      ]
     },
     "metadata": {
      "needs_background": "light"
     },
     "output_type": "display_data"
    }
   ],
   "source": [
    "sns.barplot(x=data[\"region\"], y=data[\"severity level\"])"
   ]
  },
  {
   "cell_type": "markdown",
   "id": "0c1a2d7c",
   "metadata": {},
   "source": [
    "- The region southwest and northwest region has higher severity level than other two regions"
   ]
  },
  {
   "cell_type": "markdown",
   "id": "6e39c6d8",
   "metadata": {},
   "source": [
    "# REGION VS HOSPITILIZATION CHARGES"
   ]
  },
  {
   "cell_type": "code",
   "execution_count": 161,
   "id": "3753e8b3",
   "metadata": {},
   "outputs": [
    {
     "data": {
      "text/plain": [
       "region\n",
       "northeast    28112.268519\n",
       "northwest    26871.818462\n",
       "southeast    26694.777473\n",
       "southwest    24404.138462\n",
       "Name: hospitalization charges, dtype: float64"
      ]
     },
     "execution_count": 161,
     "metadata": {},
     "output_type": "execute_result"
    }
   ],
   "source": [
    "data.groupby([\"region\"])[\"hospitalization charges\"].mean()"
   ]
  },
  {
   "cell_type": "code",
   "execution_count": 162,
   "id": "0794ad92",
   "metadata": {},
   "outputs": [
    {
     "data": {
      "text/plain": [
       "<AxesSubplot:xlabel='region', ylabel='hospitalization charges'>"
      ]
     },
     "execution_count": 162,
     "metadata": {},
     "output_type": "execute_result"
    },
    {
     "data": {
      "image/png": "[encoded data removed]",
      "text/plain": [
       "<Figure size 432x288 with 1 Axes>"
      ]
     },
     "metadata": {
      "needs_background": "light"
     },
     "output_type": "display_data"
    }
   ],
   "source": [
    "sns.boxplot(x= data[\"region\"], y=data[\"hospitalization charges\"])"
   ]
  },
  {
   "cell_type": "code",
   "execution_count": 163,
   "id": "8a5bf09e",
   "metadata": {},
   "outputs": [
    {
     "data": {
      "text/plain": [
       "<AxesSubplot:xlabel='region', ylabel='hospitalization charges'>"
      ]
     },
     "execution_count": 163,
     "metadata": {},
     "output_type": "execute_result"
    },
    {
     "data": {
      "image/png": "[encoded data removed]",
      "text/plain": [
       "<Figure size 432x288 with 1 Axes>"
      ]
     },
     "metadata": {
      "needs_background": "light"
     },
     "output_type": "display_data"
    }
   ],
   "source": [
    "sns.barplot(x=data[\"region\"], y=data[\"hospitalization charges\"])"
   ]
  },
  {
   "cell_type": "markdown",
   "id": "17060e83",
   "metadata": {},
   "source": [
    "- The hospitalization charges is higher in northest region\n",
    "- The hospitalization charges are medium in southeast and northwest region\n",
    "- The hospitalization charges is lower in southwest region"
   ]
  },
  {
   "cell_type": "markdown",
   "id": "d9c0e125",
   "metadata": {},
   "source": [
    "# REGION VS SMOKER"
   ]
  },
  {
   "cell_type": "code",
   "execution_count": 164,
   "id": "ed97d178",
   "metadata": {},
   "outputs": [
    {
     "data": {
      "text/plain": [
       "<AxesSubplot:xlabel='region', ylabel='count'>"
      ]
     },
     "execution_count": 164,
     "metadata": {},
     "output_type": "execute_result"
    },
    {
     "data": {
      "image/png": "[encoded data removed]",
      "text/plain": [
       "<Figure size 432x288 with 1 Axes>"
      ]
     },
     "metadata": {
      "needs_background": "light"
     },
     "output_type": "display_data"
    }
   ],
   "source": [
    "sns.countplot(x=data[\"region\"], hue=data[\"smoker\"])"
   ]
  },
  {
   "cell_type": "markdown",
   "id": "84c6ed6f",
   "metadata": {},
   "source": [
    "- The number of smokers is higher in southwest region than other region"
   ]
  },
  {
   "cell_type": "markdown",
   "id": "9f51acb8",
   "metadata": {},
   "source": [
    "# FEATURE ENGINEERING"
   ]
  },
  {
   "cell_type": "code",
   "execution_count": 169,
   "id": "772df000",
   "metadata": {},
   "outputs": [],
   "source": [
    "data1 = data"
   ]
  },
  {
   "cell_type": "code",
   "execution_count": 170,
   "id": "86787736",
   "metadata": {},
   "outputs": [
    {
     "data": {
      "text/html": [
       "<div>\n",
       "<style scoped>\n",
       "    .dataframe tbody tr th:only-of-type {\n",
       "        vertical-align: middle;\n",
       "    }\n",
       "\n",
       "    .dataframe tbody tr th {\n",
       "        vertical-align: top;\n",
       "    }\n",
       "\n",
       "    .dataframe thead th {\n",
       "        text-align: right;\n",
       "    }\n",
       "</style>\n",
       "<table border=\"1\" class=\"dataframe\">\n",
       "  <thead>\n",
       "    <tr style=\"text-align: right;\">\n",
       "      <th></th>\n",
       "      <th>age</th>\n",
       "      <th>sex</th>\n",
       "      <th>smoker</th>\n",
       "      <th>region</th>\n",
       "      <th>viral load</th>\n",
       "      <th>severity level</th>\n",
       "      <th>hospitalization charges</th>\n",
       "      <th>age_bins</th>\n",
       "    </tr>\n",
       "  </thead>\n",
       "  <tbody>\n",
       "    <tr>\n",
       "      <th>0</th>\n",
       "      <td>19</td>\n",
       "      <td>female</td>\n",
       "      <td>yes</td>\n",
       "      <td>southwest</td>\n",
       "      <td>9.30</td>\n",
       "      <td>0</td>\n",
       "      <td>42212.0</td>\n",
       "      <td>18-30</td>\n",
       "    </tr>\n",
       "    <tr>\n",
       "      <th>1</th>\n",
       "      <td>18</td>\n",
       "      <td>male</td>\n",
       "      <td>no</td>\n",
       "      <td>southeast</td>\n",
       "      <td>11.26</td>\n",
       "      <td>1</td>\n",
       "      <td>4314.0</td>\n",
       "      <td>18-30</td>\n",
       "    </tr>\n",
       "    <tr>\n",
       "      <th>2</th>\n",
       "      <td>28</td>\n",
       "      <td>male</td>\n",
       "      <td>no</td>\n",
       "      <td>southeast</td>\n",
       "      <td>11.00</td>\n",
       "      <td>3</td>\n",
       "      <td>11124.0</td>\n",
       "      <td>18-30</td>\n",
       "    </tr>\n",
       "    <tr>\n",
       "      <th>3</th>\n",
       "      <td>33</td>\n",
       "      <td>male</td>\n",
       "      <td>no</td>\n",
       "      <td>northwest</td>\n",
       "      <td>7.57</td>\n",
       "      <td>0</td>\n",
       "      <td>54961.0</td>\n",
       "      <td>31-45</td>\n",
       "    </tr>\n",
       "    <tr>\n",
       "      <th>4</th>\n",
       "      <td>32</td>\n",
       "      <td>male</td>\n",
       "      <td>no</td>\n",
       "      <td>northwest</td>\n",
       "      <td>9.63</td>\n",
       "      <td>0</td>\n",
       "      <td>9667.0</td>\n",
       "      <td>31-45</td>\n",
       "    </tr>\n",
       "  </tbody>\n",
       "</table>\n",
       "</div>"
      ],
      "text/plain": [
       "   age     sex smoker     region  viral load  severity level  \\\n",
       "0   19  female    yes  southwest        9.30               0   \n",
       "1   18    male     no  southeast       11.26               1   \n",
       "2   28    male     no  southeast       11.00               3   \n",
       "3   33    male     no  northwest        7.57               0   \n",
       "4   32    male     no  northwest        9.63               0   \n",
       "\n",
       "   hospitalization charges age_bins  \n",
       "0                  42212.0    18-30  \n",
       "1                   4314.0    18-30  \n",
       "2                  11124.0    18-30  \n",
       "3                  54961.0    31-45  \n",
       "4                   9667.0    31-45  "
      ]
     },
     "execution_count": 170,
     "metadata": {},
     "output_type": "execute_result"
    }
   ],
   "source": [
    "data1.head()"
   ]
  },
  {
   "cell_type": "markdown",
   "id": "85f6c849",
   "metadata": {},
   "source": [
    "# Categorical encoding"
   ]
  },
  {
   "cell_type": "markdown",
   "id": "a518b6bb",
   "metadata": {},
   "source": [
    "- sex\n",
    "- smoker"
   ]
  },
  {
   "cell_type": "code",
   "execution_count": 171,
   "id": "d99c3660",
   "metadata": {},
   "outputs": [],
   "source": [
    "from sklearn.preprocessing import LabelEncoder"
   ]
  },
  {
   "cell_type": "code",
   "execution_count": 175,
   "id": "3441070e",
   "metadata": {},
   "outputs": [],
   "source": [
    "label_encoder = LabelEncoder()"
   ]
  },
  {
   "cell_type": "code",
   "execution_count": 176,
   "id": "3c2491f9",
   "metadata": {},
   "outputs": [
    {
     "data": {
      "text/plain": [
       "male      676\n",
       "female    662\n",
       "Name: sex, dtype: int64"
      ]
     },
     "execution_count": 176,
     "metadata": {},
     "output_type": "execute_result"
    }
   ],
   "source": [
    "data1[\"sex\"].value_counts()"
   ]
  },
  {
   "cell_type": "code",
   "execution_count": 177,
   "id": "68968235",
   "metadata": {},
   "outputs": [],
   "source": [
    "data1[\"sex\"] = label_encoder.fit_transform(data1[\"sex\"])"
   ]
  },
  {
   "cell_type": "code",
   "execution_count": 178,
   "id": "ac4d8f89",
   "metadata": {},
   "outputs": [
    {
     "data": {
      "text/plain": [
       "1    676\n",
       "0    662\n",
       "Name: sex, dtype: int64"
      ]
     },
     "execution_count": 178,
     "metadata": {},
     "output_type": "execute_result"
    }
   ],
   "source": [
    "data1[\"sex\"].value_counts()"
   ]
  },
  {
   "cell_type": "code",
   "execution_count": 179,
   "id": "8c33e65a",
   "metadata": {},
   "outputs": [
    {
     "data": {
      "text/plain": [
       "no     1064\n",
       "yes     274\n",
       "Name: smoker, dtype: int64"
      ]
     },
     "execution_count": 179,
     "metadata": {},
     "output_type": "execute_result"
    }
   ],
   "source": [
    "data1[\"smoker\"].value_counts()"
   ]
  },
  {
   "cell_type": "code",
   "execution_count": 180,
   "id": "97ab2a7a",
   "metadata": {},
   "outputs": [],
   "source": [
    "data1[\"smoker\"] = label_encoder.fit_transform(data1[\"smoker\"])"
   ]
  },
  {
   "cell_type": "code",
   "execution_count": 181,
   "id": "9ba60d62",
   "metadata": {},
   "outputs": [
    {
     "data": {
      "text/plain": [
       "0    1064\n",
       "1     274\n",
       "Name: smoker, dtype: int64"
      ]
     },
     "execution_count": 181,
     "metadata": {},
     "output_type": "execute_result"
    }
   ],
   "source": [
    "data1[\"smoker\"].value_counts()"
   ]
  },
  {
   "cell_type": "code",
   "execution_count": 183,
   "id": "f8f110a9",
   "metadata": {},
   "outputs": [
    {
     "data": {
      "text/plain": [
       "southeast    364\n",
       "southwest    325\n",
       "northwest    325\n",
       "northeast    324\n",
       "Name: region, dtype: int64"
      ]
     },
     "execution_count": 183,
     "metadata": {},
     "output_type": "execute_result"
    }
   ],
   "source": [
    "data1[\"region\"].value_counts()"
   ]
  },
  {
   "cell_type": "code",
   "execution_count": 184,
   "id": "a2611438",
   "metadata": {},
   "outputs": [],
   "source": [
    "data1[\"region\"] = label_encoder.fit_transform(data1[\"region\"])"
   ]
  },
  {
   "cell_type": "code",
   "execution_count": 185,
   "id": "a3cd05be",
   "metadata": {},
   "outputs": [
    {
     "data": {
      "text/plain": [
       "2    364\n",
       "3    325\n",
       "1    325\n",
       "0    324\n",
       "Name: region, dtype: int64"
      ]
     },
     "execution_count": 185,
     "metadata": {},
     "output_type": "execute_result"
    }
   ],
   "source": [
    "data1[\"region\"].value_counts()"
   ]
  },
  {
   "cell_type": "markdown",
   "id": "29bad35c",
   "metadata": {},
   "source": [
    "# STANDARDIZATION"
   ]
  },
  {
   "cell_type": "code",
   "execution_count": 182,
   "id": "28c98574",
   "metadata": {},
   "outputs": [],
   "source": [
    "from sklearn.preprocessing import StandardScaler"
   ]
  },
  {
   "cell_type": "code",
   "execution_count": 186,
   "id": "46791193",
   "metadata": {},
   "outputs": [],
   "source": [
    "data2 = data1[[\"age\",\"viral load\", \"hospitalization charges\"]]"
   ]
  },
  {
   "cell_type": "code",
   "execution_count": 187,
   "id": "4cc3647c",
   "metadata": {},
   "outputs": [
    {
     "data": {
      "text/html": [
       "<div>\n",
       "<style scoped>\n",
       "    .dataframe tbody tr th:only-of-type {\n",
       "        vertical-align: middle;\n",
       "    }\n",
       "\n",
       "    .dataframe tbody tr th {\n",
       "        vertical-align: top;\n",
       "    }\n",
       "\n",
       "    .dataframe thead th {\n",
       "        text-align: right;\n",
       "    }\n",
       "</style>\n",
       "<table border=\"1\" class=\"dataframe\">\n",
       "  <thead>\n",
       "    <tr style=\"text-align: right;\">\n",
       "      <th></th>\n",
       "      <th>age</th>\n",
       "      <th>viral load</th>\n",
       "      <th>hospitalization charges</th>\n",
       "    </tr>\n",
       "  </thead>\n",
       "  <tbody>\n",
       "    <tr>\n",
       "      <th>0</th>\n",
       "      <td>19</td>\n",
       "      <td>9.30</td>\n",
       "      <td>42212.0</td>\n",
       "    </tr>\n",
       "    <tr>\n",
       "      <th>1</th>\n",
       "      <td>18</td>\n",
       "      <td>11.26</td>\n",
       "      <td>4314.0</td>\n",
       "    </tr>\n",
       "    <tr>\n",
       "      <th>2</th>\n",
       "      <td>28</td>\n",
       "      <td>11.00</td>\n",
       "      <td>11124.0</td>\n",
       "    </tr>\n",
       "    <tr>\n",
       "      <th>3</th>\n",
       "      <td>33</td>\n",
       "      <td>7.57</td>\n",
       "      <td>54961.0</td>\n",
       "    </tr>\n",
       "    <tr>\n",
       "      <th>4</th>\n",
       "      <td>32</td>\n",
       "      <td>9.63</td>\n",
       "      <td>9667.0</td>\n",
       "    </tr>\n",
       "  </tbody>\n",
       "</table>\n",
       "</div>"
      ],
      "text/plain": [
       "   age  viral load  hospitalization charges\n",
       "0   19        9.30                  42212.0\n",
       "1   18       11.26                   4314.0\n",
       "2   28       11.00                  11124.0\n",
       "3   33        7.57                  54961.0\n",
       "4   32        9.63                   9667.0"
      ]
     },
     "execution_count": 187,
     "metadata": {},
     "output_type": "execute_result"
    }
   ],
   "source": [
    "data2.head()"
   ]
  },
  {
   "cell_type": "code",
   "execution_count": 189,
   "id": "42af52cb",
   "metadata": {},
   "outputs": [],
   "source": [
    "data2 = StandardScaler().fit_transform(data2)"
   ]
  },
  {
   "cell_type": "code",
   "execution_count": 191,
   "id": "a6f7c9dd",
   "metadata": {},
   "outputs": [],
   "source": [
    "data2 = pd.DataFrame(data2, columns= [\"age\",\"viral load\", \"hospitalization charges\"])"
   ]
  },
  {
   "cell_type": "code",
   "execution_count": 192,
   "id": "723f22b7",
   "metadata": {},
   "outputs": [
    {
     "data": {
      "text/html": [
       "<div>\n",
       "<style scoped>\n",
       "    .dataframe tbody tr th:only-of-type {\n",
       "        vertical-align: middle;\n",
       "    }\n",
       "\n",
       "    .dataframe tbody tr th {\n",
       "        vertical-align: top;\n",
       "    }\n",
       "\n",
       "    .dataframe thead th {\n",
       "        text-align: right;\n",
       "    }\n",
       "</style>\n",
       "<table border=\"1\" class=\"dataframe\">\n",
       "  <thead>\n",
       "    <tr style=\"text-align: right;\">\n",
       "      <th></th>\n",
       "      <th>age</th>\n",
       "      <th>viral load</th>\n",
       "      <th>hospitalization charges</th>\n",
       "    </tr>\n",
       "  </thead>\n",
       "  <tbody>\n",
       "    <tr>\n",
       "      <th>0</th>\n",
       "      <td>-1.438764</td>\n",
       "      <td>-0.453355</td>\n",
       "      <td>0.881078</td>\n",
       "    </tr>\n",
       "    <tr>\n",
       "      <th>1</th>\n",
       "      <td>-1.509965</td>\n",
       "      <td>0.511195</td>\n",
       "      <td>-1.247457</td>\n",
       "    </tr>\n",
       "    <tr>\n",
       "      <th>2</th>\n",
       "      <td>-0.797954</td>\n",
       "      <td>0.383245</td>\n",
       "      <td>-0.864974</td>\n",
       "    </tr>\n",
       "    <tr>\n",
       "      <th>3</th>\n",
       "      <td>-0.441948</td>\n",
       "      <td>-1.304718</td>\n",
       "      <td>1.597124</td>\n",
       "    </tr>\n",
       "    <tr>\n",
       "      <th>4</th>\n",
       "      <td>-0.513149</td>\n",
       "      <td>-0.290956</td>\n",
       "      <td>-0.946806</td>\n",
       "    </tr>\n",
       "  </tbody>\n",
       "</table>\n",
       "</div>"
      ],
      "text/plain": [
       "        age  viral load  hospitalization charges\n",
       "0 -1.438764   -0.453355                 0.881078\n",
       "1 -1.509965    0.511195                -1.247457\n",
       "2 -0.797954    0.383245                -0.864974\n",
       "3 -0.441948   -1.304718                 1.597124\n",
       "4 -0.513149   -0.290956                -0.946806"
      ]
     },
     "execution_count": 192,
     "metadata": {},
     "output_type": "execute_result"
    }
   ],
   "source": [
    "data2.head()"
   ]
  },
  {
   "cell_type": "code",
   "execution_count": 195,
   "id": "986b4f0e",
   "metadata": {},
   "outputs": [
    {
     "data": {
      "text/html": [
       "<div>\n",
       "<style scoped>\n",
       "    .dataframe tbody tr th:only-of-type {\n",
       "        vertical-align: middle;\n",
       "    }\n",
       "\n",
       "    .dataframe tbody tr th {\n",
       "        vertical-align: top;\n",
       "    }\n",
       "\n",
       "    .dataframe thead th {\n",
       "        text-align: right;\n",
       "    }\n",
       "</style>\n",
       "<table border=\"1\" class=\"dataframe\">\n",
       "  <thead>\n",
       "    <tr style=\"text-align: right;\">\n",
       "      <th></th>\n",
       "      <th>age</th>\n",
       "      <th>viral load</th>\n",
       "      <th>hospitalization charges</th>\n",
       "      <th>sex</th>\n",
       "      <th>smoker</th>\n",
       "      <th>severity level</th>\n",
       "      <th>region</th>\n",
       "    </tr>\n",
       "  </thead>\n",
       "  <tbody>\n",
       "    <tr>\n",
       "      <th>0</th>\n",
       "      <td>-1.438764</td>\n",
       "      <td>-0.453355</td>\n",
       "      <td>0.881078</td>\n",
       "      <td>0</td>\n",
       "      <td>1</td>\n",
       "      <td>0</td>\n",
       "      <td>3</td>\n",
       "    </tr>\n",
       "    <tr>\n",
       "      <th>1</th>\n",
       "      <td>-1.509965</td>\n",
       "      <td>0.511195</td>\n",
       "      <td>-1.247457</td>\n",
       "      <td>1</td>\n",
       "      <td>0</td>\n",
       "      <td>1</td>\n",
       "      <td>2</td>\n",
       "    </tr>\n",
       "    <tr>\n",
       "      <th>2</th>\n",
       "      <td>-0.797954</td>\n",
       "      <td>0.383245</td>\n",
       "      <td>-0.864974</td>\n",
       "      <td>1</td>\n",
       "      <td>0</td>\n",
       "      <td>3</td>\n",
       "      <td>2</td>\n",
       "    </tr>\n",
       "    <tr>\n",
       "      <th>3</th>\n",
       "      <td>-0.441948</td>\n",
       "      <td>-1.304718</td>\n",
       "      <td>1.597124</td>\n",
       "      <td>1</td>\n",
       "      <td>0</td>\n",
       "      <td>0</td>\n",
       "      <td>1</td>\n",
       "    </tr>\n",
       "    <tr>\n",
       "      <th>4</th>\n",
       "      <td>-0.513149</td>\n",
       "      <td>-0.290956</td>\n",
       "      <td>-0.946806</td>\n",
       "      <td>1</td>\n",
       "      <td>0</td>\n",
       "      <td>0</td>\n",
       "      <td>1</td>\n",
       "    </tr>\n",
       "  </tbody>\n",
       "</table>\n",
       "</div>"
      ],
      "text/plain": [
       "        age  viral load  hospitalization charges  sex  smoker  severity level  \\\n",
       "0 -1.438764   -0.453355                 0.881078    0       1               0   \n",
       "1 -1.509965    0.511195                -1.247457    1       0               1   \n",
       "2 -0.797954    0.383245                -0.864974    1       0               3   \n",
       "3 -0.441948   -1.304718                 1.597124    1       0               0   \n",
       "4 -0.513149   -0.290956                -0.946806    1       0               0   \n",
       "\n",
       "   region  \n",
       "0       3  \n",
       "1       2  \n",
       "2       2  \n",
       "3       1  \n",
       "4       1  "
      ]
     },
     "execution_count": 195,
     "metadata": {},
     "output_type": "execute_result"
    }
   ],
   "source": [
    "data2[\"sex\"] = data1[\"sex\"]\n",
    "data2[\"smoker\"] = data1[\"smoker\"]\n",
    "data2[\"severity level\"] = data1[\"severity level\"]\n",
    "data2[\"region\"] = data1[\"region\"]\n",
    "data2.head()"
   ]
  },
  {
   "cell_type": "markdown",
   "id": "71ec8376",
   "metadata": {},
   "source": [
    "# HYPOTHESIS TESTING"
   ]
  },
  {
   "cell_type": "markdown",
   "id": "509eae56",
   "metadata": {},
   "source": [
    "# Relation between hospitalization charges and smoker"
   ]
  },
  {
   "cell_type": "code",
   "execution_count": 196,
   "id": "11969dd2",
   "metadata": {},
   "outputs": [
    {
     "data": {
      "text/plain": [
       "smoker\n",
       "0   -0.313236\n",
       "1    1.216361\n",
       "Name: hospitalization charges, dtype: float64"
      ]
     },
     "execution_count": 196,
     "metadata": {},
     "output_type": "execute_result"
    }
   ],
   "source": [
    "data2.groupby([\"smoker\"])[\"hospitalization charges\"].mean()"
   ]
  },
  {
   "cell_type": "code",
   "execution_count": 197,
   "id": "260e80a0",
   "metadata": {},
   "outputs": [
    {
     "data": {
      "text/plain": [
       "<AxesSubplot:xlabel='smoker', ylabel='hospitalization charges'>"
      ]
     },
     "execution_count": 197,
     "metadata": {},
     "output_type": "execute_result"
    },
    {
     "data": {
      "image/png": "[encoded data removed]",
      "text/plain": [
       "<Figure size 432x288 with 1 Axes>"
      ]
     },
     "metadata": {
      "needs_background": "light"
     },
     "output_type": "display_data"
    }
   ],
   "source": [
    "sns.boxplot(x=data2[\"smoker\"], y=data2[\"hospitalization charges\"])"
   ]
  },
  {
   "cell_type": "code",
   "execution_count": 198,
   "id": "d2b27598",
   "metadata": {},
   "outputs": [
    {
     "data": {
      "text/plain": [
       "<AxesSubplot:xlabel='smoker', ylabel='hospitalization charges'>"
      ]
     },
     "execution_count": 198,
     "metadata": {},
     "output_type": "execute_result"
    },
    {
     "data": {
      "image/png": "[encoded data removed]",
      "text/plain": [
       "<Figure size 432x288 with 1 Axes>"
      ]
     },
     "metadata": {
      "needs_background": "light"
     },
     "output_type": "display_data"
    }
   ],
   "source": [
    "sns.barplot(x=data2[\"smoker\"], y=data2[\"hospitalization charges\"])"
   ]
  },
  {
   "cell_type": "code",
   "execution_count": 199,
   "id": "0e8ecbe1",
   "metadata": {},
   "outputs": [],
   "source": [
    "smoker_hospitalization_charges = data2[data2[\"smoker\"] == 1][\"hospitalization charges\"]"
   ]
  },
  {
   "cell_type": "code",
   "execution_count": 200,
   "id": "aff6f984",
   "metadata": {},
   "outputs": [],
   "source": [
    "non_smoker_hospitalization_charges = data2[data2[\"smoker\"] == 0][\"hospitalization charges\"]"
   ]
  },
  {
   "cell_type": "markdown",
   "id": "8a933bfb",
   "metadata": {},
   "source": [
    "## RIGHT TAILED T-TEST"
   ]
  },
  {
   "cell_type": "markdown",
   "id": "6941ed3a",
   "metadata": {},
   "source": [
    "SET UP HYPOTHESIS\n",
    "\n",
    "- NULL HYPOTHESIS: The hospitilization charges for smoker is equal to the hospitalization charges for non smoker.mu1 = mu2\n",
    "- ALTERNATE HYPOTHESIS: The hospitalization charges for smoker is greater than the hospitalization charges for non smoker. mu1 > mu2\n",
    "- SIGNIFICANCE LEVEL:95%\n",
    "- ALPHA:0.05"
   ]
  },
  {
   "cell_type": "markdown",
   "id": "26dcfa2e",
   "metadata": {},
   "source": [
    "SET TEST STATISTIC\n",
    "\n",
    "- The column smoker is categorical value and the column hospitilization charges is numerical.\n",
    "- Therefore right tailed t-test statastic is sutable."
   ]
  },
  {
   "cell_type": "code",
   "execution_count": 202,
   "id": "42385bf2",
   "metadata": {},
   "outputs": [
    {
     "data": {
      "text/plain": [
       "Ttest_indResult(statistic=28.676605526452832, pvalue=2.4749994588348777e-141)"
      ]
     },
     "execution_count": 202,
     "metadata": {},
     "output_type": "execute_result"
    }
   ],
   "source": [
    "ttest_ind(smoker_hospitalization_charges, non_smoker_hospitalization_charges )"
   ]
  },
  {
   "cell_type": "markdown",
   "id": "98775c09",
   "metadata": {},
   "source": [
    "AT 95% SIGNIFICANCE\n",
    "- p-value is lesser than alpha\n",
    "- Therefore we reject null hypothesis\n",
    "- The hospitilization charges for smoker is GREATER THAN hospitalization charges for non smoker."
   ]
  },
  {
   "cell_type": "markdown",
   "id": "a72663c8",
   "metadata": {},
   "source": [
    "CHECKING ASSUMPTIONS\n",
    "\n",
    "LEVENES TEST\n",
    "SET UP HYPOTHESIS\n",
    "\n",
    "- NULL HYPOTHESIS: The hospitilization charges for smoker is equal to the hospitalization charges for non smoker.SD1 = SD2\n",
    "- ALTERNATE HYPOTHESIS: The hospitalization charges for smoker is greater than the hospitalization charges for non smoker. SD1 > SD2\n",
    "- SIGNIFICANCE LEVEL:95%\n",
    "- ALPHA:0.05"
   ]
  },
  {
   "cell_type": "code",
   "execution_count": 203,
   "id": "8e5c84f4",
   "metadata": {},
   "outputs": [
    {
     "data": {
      "text/plain": [
       "LeveneResult(statistic=29.111495595899232, pvalue=8.07456319759789e-08)"
      ]
     },
     "execution_count": 203,
     "metadata": {},
     "output_type": "execute_result"
    }
   ],
   "source": [
    "levene(smoker_hospitalization_charges, non_smoker_hospitalization_charges )"
   ]
  },
  {
   "cell_type": "markdown",
   "id": "f9ed9170",
   "metadata": {},
   "source": [
    "AT 95% SIGNIFICANCE\n",
    "- p-value is lesser than alpha\n",
    "- Therefore we reject null hypothesis\n",
    "- The hospitilization charges for smoker is GREATER THAN hospitalization charges for non smoker."
   ]
  },
  {
   "cell_type": "markdown",
   "id": "064c9ce0",
   "metadata": {},
   "source": [
    "# Hence, we can conclude that hospitalization charges for smoker is higher than non smoker."
   ]
  },
  {
   "cell_type": "markdown",
   "id": "38d4ba58",
   "metadata": {},
   "source": [
    "# Relation between viral load and sex"
   ]
  },
  {
   "cell_type": "code",
   "execution_count": 205,
   "id": "5c13ee32",
   "metadata": {},
   "outputs": [
    {
     "data": {
      "text/plain": [
       "sex\n",
       "0   -0.04683\n",
       "1    0.04586\n",
       "Name: viral load, dtype: float64"
      ]
     },
     "execution_count": 205,
     "metadata": {},
     "output_type": "execute_result"
    }
   ],
   "source": [
    "data2.groupby([\"sex\"])[\"viral load\"].mean()"
   ]
  },
  {
   "cell_type": "code",
   "execution_count": 206,
   "id": "9cde45e1",
   "metadata": {},
   "outputs": [
    {
     "data": {
      "text/plain": [
       "<AxesSubplot:xlabel='sex', ylabel='viral load'>"
      ]
     },
     "execution_count": 206,
     "metadata": {},
     "output_type": "execute_result"
    },
    {
     "data": {
      "image/png": "[encoded data removed]",
      "text/plain": [
       "<Figure size 432x288 with 1 Axes>"
      ]
     },
     "metadata": {
      "needs_background": "light"
     },
     "output_type": "display_data"
    }
   ],
   "source": [
    "sns.boxplot(x = data2[\"sex\"], y = data2[\"viral load\"])"
   ]
  },
  {
   "cell_type": "code",
   "execution_count": 208,
   "id": "d587bfd7",
   "metadata": {},
   "outputs": [
    {
     "data": {
      "text/plain": [
       "<AxesSubplot:xlabel='sex', ylabel='viral load'>"
      ]
     },
     "execution_count": 208,
     "metadata": {},
     "output_type": "execute_result"
    },
    {
     "data": {
      "image/png": "[encoded data removed]",
      "text/plain": [
       "<Figure size 432x288 with 1 Axes>"
      ]
     },
     "metadata": {
      "needs_background": "light"
     },
     "output_type": "display_data"
    }
   ],
   "source": [
    "sns.barplot(x=data2[\"sex\"], y=data2[\"viral load\"])"
   ]
  },
  {
   "cell_type": "code",
   "execution_count": 209,
   "id": "da461c87",
   "metadata": {},
   "outputs": [],
   "source": [
    "male_viral_load = data2[data2[\"sex\"] == 1][\"viral load\"]"
   ]
  },
  {
   "cell_type": "code",
   "execution_count": 210,
   "id": "b4e88134",
   "metadata": {},
   "outputs": [],
   "source": [
    "female_viral_load = data2[data2[\"sex\"] == 0][\"viral load\"]"
   ]
  },
  {
   "cell_type": "markdown",
   "id": "712557a6",
   "metadata": {},
   "source": [
    "# TWO TAILED T TEST"
   ]
  },
  {
   "cell_type": "markdown",
   "id": "7870cf84",
   "metadata": {},
   "source": [
    "SET UP HYPOTHESIS\n",
    "\n",
    "- NULL HYPOTHESIS: The viral load of male and female are same.mu1 = mu2\n",
    "- ALTERNATE HYPOTHESIS: The viral load of male and female are diffrent. mu1 != mu2\n",
    "- SIGNIFICANCE LEVEL:95%\n",
    "- ALPHA:0.05"
   ]
  },
  {
   "cell_type": "markdown",
   "id": "3dbddca8",
   "metadata": {},
   "source": [
    "SET TEST STATISTIC\n",
    "\n",
    "- The column sex is categorical value and the column viral load is numerical.\n",
    "- Therefore two tailed t-test statastic is sutable."
   ]
  },
  {
   "cell_type": "code",
   "execution_count": 211,
   "id": "e43784a3",
   "metadata": {},
   "outputs": [
    {
     "data": {
      "text/plain": [
       "Ttest_indResult(statistic=1.695711164450332, pvalue=0.09017358416701865)"
      ]
     },
     "execution_count": 211,
     "metadata": {},
     "output_type": "execute_result"
    }
   ],
   "source": [
    "ttest_ind(male_viral_load,female_viral_load)"
   ]
  },
  {
   "cell_type": "markdown",
   "id": "9d2afc2c",
   "metadata": {},
   "source": [
    "AT 95% SIGNIFICANCE\n",
    "- The P-Value is greater than alpha\n",
    "- pvalue=0.09 > alpha=0.05\n",
    "- Therefore we FAIL TO REJECT THE NULL HYPOTHESIS\n",
    "- We conclude the means are equal\n",
    "- The viral load of male and female are same."
   ]
  },
  {
   "cell_type": "markdown",
   "id": "b8182140",
   "metadata": {},
   "source": [
    "CHECKING ASSUMPTIONS\n",
    "\n",
    "LEVENES TEST\n",
    "SET UP HYPOTHESIS\n",
    "\n",
    "- NULL HYPOTHESIS: The viral load for male and female are same.SD1 = SD2\n",
    "- ALTERNATE HYPOTHESIS: The viral load for male and female are diffrent. SD1 != SD2\n",
    "- SIGNIFICANCE LEVEL:95%\n",
    "- ALPHA:0.05"
   ]
  },
  {
   "cell_type": "code",
   "execution_count": 212,
   "id": "63eb57d5",
   "metadata": {},
   "outputs": [
    {
     "data": {
      "text/plain": [
       "LeveneResult(statistic=0.0038754151966869316, pvalue=0.9503708012456551)"
      ]
     },
     "execution_count": 212,
     "metadata": {},
     "output_type": "execute_result"
    }
   ],
   "source": [
    "levene(male_viral_load,female_viral_load)"
   ]
  },
  {
   "cell_type": "markdown",
   "id": "ab91ba3e",
   "metadata": {},
   "source": [
    "AT 95% SIGNIFICANCE\n",
    "- p-value is greater than alpha\n",
    "- Therefore we fail reject null hypothesis\n",
    "- The viral load for male and female are same."
   ]
  },
  {
   "cell_type": "markdown",
   "id": "ca82056a",
   "metadata": {},
   "source": [
    "# Hence we can conclude that the viral load is same for male and female."
   ]
  },
  {
   "cell_type": "markdown",
   "id": "f44bedbf",
   "metadata": {},
   "source": [
    "# Relation between smoking and region"
   ]
  },
  {
   "cell_type": "markdown",
   "id": "99e1bf24",
   "metadata": {},
   "source": [
    "## Is the proportion of smoking significantly different across different regions"
   ]
  },
  {
   "cell_type": "markdown",
   "id": "65899289",
   "metadata": {},
   "source": [
    "SETUP HYPOTHESIS\n",
    "\n",
    "- NULL HYPOTHESIS: The proportion of smoking are not significantly diffrent across diffrent regions.\n",
    "- ALTERNATE HYPOTHESIS: The proportion of smoking are significantly diffrent across diffrent regions.\n",
    "- SIGNIFICANCE LEVEL: 95%\n",
    "- Alpha = 0.05"
   ]
  },
  {
   "cell_type": "markdown",
   "id": "d1b8d1dd",
   "metadata": {},
   "source": [
    "SET TEST STATISTIC\n",
    "\n",
    "- The columns smoker and region are both categorical\n",
    "- Therefore the right test statstic is chi square"
   ]
  },
  {
   "cell_type": "code",
   "execution_count": 214,
   "id": "09b5f1a9",
   "metadata": {},
   "outputs": [
    {
     "data": {
      "text/html": [
       "<div>\n",
       "<style scoped>\n",
       "    .dataframe tbody tr th:only-of-type {\n",
       "        vertical-align: middle;\n",
       "    }\n",
       "\n",
       "    .dataframe tbody tr th {\n",
       "        vertical-align: top;\n",
       "    }\n",
       "\n",
       "    .dataframe thead th {\n",
       "        text-align: right;\n",
       "    }\n",
       "</style>\n",
       "<table border=\"1\" class=\"dataframe\">\n",
       "  <thead>\n",
       "    <tr style=\"text-align: right;\">\n",
       "      <th>region</th>\n",
       "      <th>0</th>\n",
       "      <th>1</th>\n",
       "      <th>2</th>\n",
       "      <th>3</th>\n",
       "    </tr>\n",
       "    <tr>\n",
       "      <th>smoker</th>\n",
       "      <th></th>\n",
       "      <th></th>\n",
       "      <th></th>\n",
       "      <th></th>\n",
       "    </tr>\n",
       "  </thead>\n",
       "  <tbody>\n",
       "    <tr>\n",
       "      <th>0</th>\n",
       "      <td>257</td>\n",
       "      <td>267</td>\n",
       "      <td>273</td>\n",
       "      <td>267</td>\n",
       "    </tr>\n",
       "    <tr>\n",
       "      <th>1</th>\n",
       "      <td>67</td>\n",
       "      <td>58</td>\n",
       "      <td>91</td>\n",
       "      <td>58</td>\n",
       "    </tr>\n",
       "  </tbody>\n",
       "</table>\n",
       "</div>"
      ],
      "text/plain": [
       "region    0    1    2    3\n",
       "smoker                    \n",
       "0       257  267  273  267\n",
       "1        67   58   91   58"
      ]
     },
     "execution_count": 214,
     "metadata": {},
     "output_type": "execute_result"
    }
   ],
   "source": [
    "a = pd.crosstab(index = data2[\"smoker\"], columns=data2[\"region\"])\n",
    "a"
   ]
  },
  {
   "cell_type": "code",
   "execution_count": 216,
   "id": "0e859266",
   "metadata": {},
   "outputs": [
    {
     "data": {
      "text/plain": [
       "(7.34347776140707,\n",
       " 0.06171954839170547,\n",
       " 3,\n",
       " array([[257.65022422, 258.44544096, 289.45889387, 258.44544096],\n",
       "        [ 66.34977578,  66.55455904,  74.54110613,  66.55455904]]))"
      ]
     },
     "execution_count": 216,
     "metadata": {},
     "output_type": "execute_result"
    }
   ],
   "source": [
    "chi2_contingency(a)"
   ]
  },
  {
   "cell_type": "markdown",
   "id": "89973f2f",
   "metadata": {},
   "source": [
    "AT 95% SIGNIFICANCE\n",
    "- The P-Value is greater than alpha\n",
    "- pvalue=0.06 > alpha=0.05\n",
    "- Therefore we FAIL REJECT THE NULL HYPOTHESIS\n",
    "- We conclude the PROPORTION OF SMOKING ARE NOT SIGNIFICANTLY DIFFRENT across regions"
   ]
  },
  {
   "cell_type": "markdown",
   "id": "a1e655dd",
   "metadata": {},
   "source": [
    "## CHECKING ASSUMPTIONS"
   ]
  },
  {
   "cell_type": "markdown",
   "id": "20dfa16c",
   "metadata": {},
   "source": [
    "- The values are categorical\n",
    "- Oservation are independent\n",
    "- Each cell is mutually exclusive"
   ]
  },
  {
   "cell_type": "markdown",
   "id": "fa6539d2",
   "metadata": {},
   "source": [
    "# Hence we conclude that proportion of smoking is not significantly diffrent across regions"
   ]
  },
  {
   "cell_type": "markdown",
   "id": "15b0fb59",
   "metadata": {},
   "source": [
    "# Relation between viral load women and severity level"
   ]
  },
  {
   "cell_type": "markdown",
   "id": "10891767",
   "metadata": {},
   "source": [
    "## Is the mean viral load of women with 0 Severity level , 1 Severity level, and 2 Severity level the same"
   ]
  },
  {
   "cell_type": "code",
   "execution_count": 226,
   "id": "6930aea4",
   "metadata": {},
   "outputs": [],
   "source": [
    "data3 = data2[data2[\"sex\"] == 0]"
   ]
  },
  {
   "cell_type": "code",
   "execution_count": 227,
   "id": "2ca51cbb",
   "metadata": {},
   "outputs": [
    {
     "data": {
      "text/html": [
       "<div>\n",
       "<style scoped>\n",
       "    .dataframe tbody tr th:only-of-type {\n",
       "        vertical-align: middle;\n",
       "    }\n",
       "\n",
       "    .dataframe tbody tr th {\n",
       "        vertical-align: top;\n",
       "    }\n",
       "\n",
       "    .dataframe thead th {\n",
       "        text-align: right;\n",
       "    }\n",
       "</style>\n",
       "<table border=\"1\" class=\"dataframe\">\n",
       "  <thead>\n",
       "    <tr style=\"text-align: right;\">\n",
       "      <th></th>\n",
       "      <th>age</th>\n",
       "      <th>viral load</th>\n",
       "      <th>hospitalization charges</th>\n",
       "      <th>sex</th>\n",
       "      <th>smoker</th>\n",
       "      <th>severity level</th>\n",
       "      <th>region</th>\n",
       "    </tr>\n",
       "  </thead>\n",
       "  <tbody>\n",
       "    <tr>\n",
       "      <th>0</th>\n",
       "      <td>-1.438764</td>\n",
       "      <td>-0.453355</td>\n",
       "      <td>0.881078</td>\n",
       "      <td>0</td>\n",
       "      <td>1</td>\n",
       "      <td>0</td>\n",
       "      <td>3</td>\n",
       "    </tr>\n",
       "    <tr>\n",
       "      <th>5</th>\n",
       "      <td>-0.584350</td>\n",
       "      <td>-0.807679</td>\n",
       "      <td>-0.962252</td>\n",
       "      <td>0</td>\n",
       "      <td>0</td>\n",
       "      <td>0</td>\n",
       "      <td>2</td>\n",
       "    </tr>\n",
       "    <tr>\n",
       "      <th>6</th>\n",
       "      <td>0.483668</td>\n",
       "      <td>0.457062</td>\n",
       "      <td>-0.332700</td>\n",
       "      <td>0</td>\n",
       "      <td>0</td>\n",
       "      <td>1</td>\n",
       "      <td>2</td>\n",
       "    </tr>\n",
       "    <tr>\n",
       "      <th>7</th>\n",
       "      <td>-0.157143</td>\n",
       "      <td>-0.477961</td>\n",
       "      <td>-0.467327</td>\n",
       "      <td>0</td>\n",
       "      <td>0</td>\n",
       "      <td>3</td>\n",
       "      <td>1</td>\n",
       "    </tr>\n",
       "    <tr>\n",
       "      <th>9</th>\n",
       "      <td>1.480485</td>\n",
       "      <td>-0.792916</td>\n",
       "      <td>2.571416</td>\n",
       "      <td>0</td>\n",
       "      <td>0</td>\n",
       "      <td>0</td>\n",
       "      <td>1</td>\n",
       "    </tr>\n",
       "  </tbody>\n",
       "</table>\n",
       "</div>"
      ],
      "text/plain": [
       "        age  viral load  hospitalization charges  sex  smoker  severity level  \\\n",
       "0 -1.438764   -0.453355                 0.881078    0       1               0   \n",
       "5 -0.584350   -0.807679                -0.962252    0       0               0   \n",
       "6  0.483668    0.457062                -0.332700    0       0               1   \n",
       "7 -0.157143   -0.477961                -0.467327    0       0               3   \n",
       "9  1.480485   -0.792916                 2.571416    0       0               0   \n",
       "\n",
       "   region  \n",
       "0       3  \n",
       "5       2  \n",
       "6       2  \n",
       "7       1  \n",
       "9       1  "
      ]
     },
     "execution_count": 227,
     "metadata": {},
     "output_type": "execute_result"
    }
   ],
   "source": [
    "data3.head()"
   ]
  },
  {
   "cell_type": "code",
   "execution_count": 228,
   "id": "152eb8d8",
   "metadata": {},
   "outputs": [
    {
     "data": {
      "text/html": [
       "<div>\n",
       "<style scoped>\n",
       "    .dataframe tbody tr th:only-of-type {\n",
       "        vertical-align: middle;\n",
       "    }\n",
       "\n",
       "    .dataframe tbody tr th {\n",
       "        vertical-align: top;\n",
       "    }\n",
       "\n",
       "    .dataframe thead th {\n",
       "        text-align: right;\n",
       "    }\n",
       "</style>\n",
       "<table border=\"1\" class=\"dataframe\">\n",
       "  <thead>\n",
       "    <tr style=\"text-align: right;\">\n",
       "      <th></th>\n",
       "      <th>age</th>\n",
       "      <th>viral load</th>\n",
       "      <th>hospitalization charges</th>\n",
       "      <th>sex</th>\n",
       "      <th>smoker</th>\n",
       "      <th>severity level</th>\n",
       "      <th>region</th>\n",
       "    </tr>\n",
       "  </thead>\n",
       "  <tbody>\n",
       "    <tr>\n",
       "      <th>count</th>\n",
       "      <td>662.000000</td>\n",
       "      <td>662.000000</td>\n",
       "      <td>662.000000</td>\n",
       "      <td>662.0</td>\n",
       "      <td>662.000000</td>\n",
       "      <td>662.000000</td>\n",
       "      <td>662.000000</td>\n",
       "    </tr>\n",
       "    <tr>\n",
       "      <th>mean</th>\n",
       "      <td>0.021075</td>\n",
       "      <td>-0.046830</td>\n",
       "      <td>-0.002368</td>\n",
       "      <td>0.0</td>\n",
       "      <td>0.173716</td>\n",
       "      <td>1.074018</td>\n",
       "      <td>1.510574</td>\n",
       "    </tr>\n",
       "    <tr>\n",
       "      <th>std</th>\n",
       "      <td>1.000677</td>\n",
       "      <td>0.991814</td>\n",
       "      <td>0.987433</td>\n",
       "      <td>0.0</td>\n",
       "      <td>0.379152</td>\n",
       "      <td>1.192115</td>\n",
       "      <td>1.107959</td>\n",
       "    </tr>\n",
       "    <tr>\n",
       "      <th>min</th>\n",
       "      <td>-1.509965</td>\n",
       "      <td>-2.274189</td>\n",
       "      <td>-1.264025</td>\n",
       "      <td>0.0</td>\n",
       "      <td>0.000000</td>\n",
       "      <td>0.000000</td>\n",
       "      <td>0.000000</td>\n",
       "    </tr>\n",
       "    <tr>\n",
       "      <th>25%</th>\n",
       "      <td>-0.869155</td>\n",
       "      <td>-0.743704</td>\n",
       "      <td>-0.803797</td>\n",
       "      <td>0.0</td>\n",
       "      <td>0.000000</td>\n",
       "      <td>0.000000</td>\n",
       "      <td>1.000000</td>\n",
       "    </tr>\n",
       "    <tr>\n",
       "      <th>50%</th>\n",
       "      <td>0.056461</td>\n",
       "      <td>-0.091649</td>\n",
       "      <td>-0.168053</td>\n",
       "      <td>0.0</td>\n",
       "      <td>0.000000</td>\n",
       "      <td>1.000000</td>\n",
       "      <td>2.000000</td>\n",
       "    </tr>\n",
       "    <tr>\n",
       "      <th>75%</th>\n",
       "      <td>0.893075</td>\n",
       "      <td>0.598546</td>\n",
       "      <td>0.539863</td>\n",
       "      <td>0.0</td>\n",
       "      <td>0.000000</td>\n",
       "      <td>2.000000</td>\n",
       "      <td>2.000000</td>\n",
       "    </tr>\n",
       "    <tr>\n",
       "      <th>max</th>\n",
       "      <td>1.765289</td>\n",
       "      <td>2.853673</td>\n",
       "      <td>3.346041</td>\n",
       "      <td>0.0</td>\n",
       "      <td>1.000000</td>\n",
       "      <td>5.000000</td>\n",
       "      <td>3.000000</td>\n",
       "    </tr>\n",
       "  </tbody>\n",
       "</table>\n",
       "</div>"
      ],
      "text/plain": [
       "              age  viral load  hospitalization charges    sex      smoker  \\\n",
       "count  662.000000  662.000000               662.000000  662.0  662.000000   \n",
       "mean     0.021075   -0.046830                -0.002368    0.0    0.173716   \n",
       "std      1.000677    0.991814                 0.987433    0.0    0.379152   \n",
       "min     -1.509965   -2.274189                -1.264025    0.0    0.000000   \n",
       "25%     -0.869155   -0.743704                -0.803797    0.0    0.000000   \n",
       "50%      0.056461   -0.091649                -0.168053    0.0    0.000000   \n",
       "75%      0.893075    0.598546                 0.539863    0.0    0.000000   \n",
       "max      1.765289    2.853673                 3.346041    0.0    1.000000   \n",
       "\n",
       "       severity level      region  \n",
       "count      662.000000  662.000000  \n",
       "mean         1.074018    1.510574  \n",
       "std          1.192115    1.107959  \n",
       "min          0.000000    0.000000  \n",
       "25%          0.000000    1.000000  \n",
       "50%          1.000000    2.000000  \n",
       "75%          2.000000    2.000000  \n",
       "max          5.000000    3.000000  "
      ]
     },
     "execution_count": 228,
     "metadata": {},
     "output_type": "execute_result"
    }
   ],
   "source": [
    "data3.describe()"
   ]
  },
  {
   "cell_type": "code",
   "execution_count": 229,
   "id": "46d33bc8",
   "metadata": {},
   "outputs": [
    {
     "data": {
      "text/plain": [
       "0    289\n",
       "1    158\n",
       "2    119\n",
       "3     77\n",
       "4     11\n",
       "5      8\n",
       "Name: severity level, dtype: int64"
      ]
     },
     "execution_count": 229,
     "metadata": {},
     "output_type": "execute_result"
    }
   ],
   "source": [
    "data3[\"severity level\"].value_counts()"
   ]
  },
  {
   "cell_type": "code",
   "execution_count": 236,
   "id": "12a78226",
   "metadata": {},
   "outputs": [],
   "source": [
    "women_severity_0 = data3[data3[\"severity level\"] == 0][\"viral load\"]"
   ]
  },
  {
   "cell_type": "code",
   "execution_count": 237,
   "id": "abb9009d",
   "metadata": {},
   "outputs": [],
   "source": [
    "women_severity_1 = data3[data3[\"severity level\"] == 1][\"viral load\"]"
   ]
  },
  {
   "cell_type": "code",
   "execution_count": 238,
   "id": "42c20519",
   "metadata": {},
   "outputs": [],
   "source": [
    "women_severity_2 = data3[data3[\"severity level\"] == 2][\"viral load\"]"
   ]
  },
  {
   "cell_type": "markdown",
   "id": "314ec651",
   "metadata": {},
   "source": [
    "SETUP HYPOTHESIS\n",
    "\n",
    "- NULL HYPOTHESIS: The means are equal\n",
    "- ALTERNATE HYPOTHESIS: The means are not equal\n",
    "- SIGNIFICANCE LEVEL: 95%\n",
    "- Alpha = 0.05"
   ]
  },
  {
   "cell_type": "markdown",
   "id": "9f92f779",
   "metadata": {},
   "source": [
    "SET TEST STATISTIC\n",
    "- The column viral load is numerical and column severity level has more than two catogeries\n",
    "- Therefore the right test statistic is anova test"
   ]
  },
  {
   "cell_type": "code",
   "execution_count": 239,
   "id": "8df77109",
   "metadata": {},
   "outputs": [
    {
     "data": {
      "text/plain": [
       "F_onewayResult(statistic=0.3355061434584082, pvalue=0.7151189650367746)"
      ]
     },
     "execution_count": 239,
     "metadata": {},
     "output_type": "execute_result"
    }
   ],
   "source": [
    "f_oneway(women_severity_0,women_severity_1,women_severity_2)"
   ]
  },
  {
   "cell_type": "markdown",
   "id": "7d605f86",
   "metadata": {},
   "source": [
    "AT 95% SIGNIFICANCE\n",
    "- The P-Value is greater than alpha\n",
    "- pvalue=0.715 > alpha=0.05\n",
    "- Therefore we FAIL REJECT THE NULL HYPOTHESIS\n",
    "- We conclude the means are equal\n"
   ]
  },
  {
   "cell_type": "markdown",
   "id": "815fba12",
   "metadata": {},
   "source": [
    "# The mean viral load of women with 0 Severity level , 1 Severity level, and 2 Severity level are same"
   ]
  },
  {
   "cell_type": "markdown",
   "id": "d5162926",
   "metadata": {},
   "source": [
    "# INSIGHTS"
   ]
  },
  {
   "cell_type": "markdown",
   "id": "928df0d9",
   "metadata": {},
   "source": [
    "- 50.52% of the data are male\n",
    "- 49.48% 0f the data are female\n",
    "- 20.48% of the people are smoker\n",
    "- 79.52% of the people are non smoker\n",
    "- 24.28% of people are from southwest\n",
    "- 27.2% of people are from southeast\n",
    "- 24.28 %of people are from northwest\n",
    "- 24.21% of people are from northeast\n",
    "- There are no significance diffrence between age bins and viral load but higher ages tend to have slightly higher viral load.\n",
    "- The severity level is much higher between age groups 31-45\n",
    "- The severity level is lower in age group above 60\n",
    "- The hospitalization charges is very high for people aged 60+\n",
    "- The hospitalization charges are slightly lesser for people between age group 46-60\n",
    "- The hospitalization charges are medium for people between age group 31-45\n",
    "- The hospitalization charges are very less for people between age group 18-30\n",
    "- The age group 18-30, 31-45 has more number of smokers\n",
    "- The age group 46-60 has medium number of smokers\n",
    "- The age group 60+ has less number of smokers\n",
    "- The average viral load is more or less same between male and female\n",
    "- The severity level is similar for both male and female\n",
    "- The hospitalization charges is similar between male and female\n",
    "- The no of smokers are similar between male and female\n",
    "- The region southest has higher viral load than other regions\n",
    "- The region southwest and northwest region has higher severity level than other two regions\n",
    "- The hospitalization charges is higher in northest region\n",
    "- The hospitalization charges are medium in southeast and northwest region\n",
    "- The hospitalization charges is lower in southwest region\n",
    "- The number of smokers is higher in southwest region than other region\n",
    "- The hospitilization charges for smoker is GREATER THAN hospitalization charges for non smoker.\n",
    "- The proportion of smoking is not significantly diffrent across regions"
   ]
  },
  {
   "cell_type": "markdown",
   "id": "8cc93f30",
   "metadata": {},
   "source": [
    "# RECCOMENDATIONS"
   ]
  },
  {
   "cell_type": "markdown",
   "id": "3ed2f839",
   "metadata": {},
   "source": [
    "- The severity level is much higher between age group 31-45, So doctors must treat this age group with at most care.\n",
    "- The southwest region higher severity level than other regions, So avalibatily high skilled doctors at this region must be increaced.\n",
    "- The southwest region also has highest no of smokers than other region, So lung related doctors must be avaliable at this region.\n",
    "- The southeast region has the highest viral load, So viral specelist doctors must be avaliable at this region."
   ]
  },
  {
   "cell_type": "code",
   "execution_count": null,
   "id": "1307e2cc",
   "metadata": {},
   "outputs": [],
   "source": []
  }
 ],
 "metadata": {
  "kernelspec": {
   "display_name": "Python 3 (ipykernel)",
   "language": "python",
   "name": "python3"
  },
  "language_info": {
   "codemirror_mode": {
    "name": "ipython",
    "version": 3
   },
   "file_extension": ".py",
   "mimetype": "text/x-python",
   "name": "python",
   "nbconvert_exporter": "python",
   "pygments_lexer": "ipython3",
   "version": "3.9.7"
  }
 },
 "nbformat": 4,
 "nbformat_minor": 5
}
